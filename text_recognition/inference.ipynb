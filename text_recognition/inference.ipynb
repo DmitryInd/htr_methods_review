{
 "cells": [
  {
   "cell_type": "code",
   "execution_count": 10,
   "id": "3fb84504",
   "metadata": {
    "cellId": "vsrc2evogr8iqas5ppvgcr"
   },
   "outputs": [
    {
     "name": "stdout",
     "output_type": "stream",
     "text": [
      "Defaulting to user installation because normal site-packages is not writeable\n",
      "Requirement already satisfied: timm in /home/jupyter/.local/lib/python3.7/site-packages (0.4.12)\n",
      "Requirement already satisfied: torch>=1.4 in /home/jupyter/.local/lib/python3.7/site-packages (from timm) (1.10.0)\n",
      "Requirement already satisfied: torchvision in /usr/local/lib/python3.7/dist-packages (from timm) (0.7.0)\n",
      "Requirement already satisfied: typing-extensions in /kernel/lib/python3.7/site-packages (from torch>=1.4->timm) (4.1.1)\n",
      "Requirement already satisfied: numpy in /kernel/lib/python3.7/site-packages (from torchvision->timm) (1.19.4)\n",
      "Collecting torch>=1.4\n",
      "  Downloading torch-1.6.0-cp37-cp37m-manylinux1_x86_64.whl (748.8 MB)\n",
      "\u001b[K     |████████████████████████████████| 748.8 MB 3.1 kB/s \n",
      "\u001b[?25hRequirement already satisfied: pillow>=4.1.1 in /kernel/lib/python3.7/site-packages (from torchvision->timm) (9.0.1)\n",
      "Requirement already satisfied: future in /usr/local/lib/python3.7/dist-packages (from torch>=1.4->timm) (0.18.2)\n",
      "Installing collected packages: torch\n",
      "  Attempting uninstall: torch\n",
      "    Found existing installation: torch 1.10.0\n",
      "    Uninstalling torch-1.10.0:\n",
      "      Successfully uninstalled torch-1.10.0\n",
      "\u001b[33m  WARNING: The scripts convert-caffe2-to-onnx and convert-onnx-to-caffe2 are installed in '/home/jupyter/.local/bin' which is not on PATH.\n",
      "  Consider adding this directory to PATH or, if you prefer to suppress this warning, use --no-warn-script-location.\u001b[0m\n",
      "\u001b[31mERROR: pip's dependency resolver does not currently take into account all the packages that are installed. This behaviour is the source of the following dependency conflicts.\n",
      "mmdet 2.3.0rc0+c6b5ca2 requires Pillow<=6.2.2, but you have pillow 9.0.1 which is incompatible.\u001b[0m\n",
      "Successfully installed torch-1.6.0\n",
      "\u001b[33mWARNING: You are using pip version 21.0.1; however, version 22.0.4 is available.\n",
      "You should consider upgrading via the '/usr/local/bin/python3 -m pip install --upgrade pip' command.\u001b[0m\n",
      "Defaulting to user installation because normal site-packages is not writeable\n",
      "Collecting torch==1.10.0\n",
      "  Downloading torch-1.10.0-cp37-cp37m-manylinux1_x86_64.whl (881.9 MB)\n",
      "\u001b[K     |████████████████████████████████| 881.9 MB 5.5 kB/s \n",
      "\u001b[?25hRequirement already satisfied: typing-extensions in /kernel/lib/python3.7/site-packages (from torch==1.10.0) (4.1.1)\n",
      "Installing collected packages: torch\n",
      "  Attempting uninstall: torch\n",
      "    Found existing installation: torch 1.6.0\n",
      "    Uninstalling torch-1.6.0:\n",
      "      Successfully uninstalled torch-1.6.0\n",
      "\u001b[33m  WARNING: The scripts convert-caffe2-to-onnx, convert-onnx-to-caffe2 and torchrun are installed in '/home/jupyter/.local/bin' which is not on PATH.\n",
      "  Consider adding this directory to PATH or, if you prefer to suppress this warning, use --no-warn-script-location.\u001b[0m\n",
      "\u001b[31mERROR: pip's dependency resolver does not currently take into account all the packages that are installed. This behaviour is the source of the following dependency conflicts.\n",
      "torchvision 0.7.0 requires torch==1.6.0, but you have torch 1.10.0 which is incompatible.\n",
      "mmdet 2.3.0rc0+c6b5ca2 requires Pillow<=6.2.2, but you have pillow 9.0.1 which is incompatible.\n",
      "mmdet 2.3.0rc0+c6b5ca2 requires torch==1.6.0, but you have torch 1.10.0 which is incompatible.\n",
      "enot-utils 1.0.2 requires torch==1.6.0, but you have torch 1.10.0 which is incompatible.\u001b[0m\n",
      "Successfully installed torch-1.10.0\n",
      "\u001b[33mWARNING: You are using pip version 21.0.1; however, version 22.0.4 is available.\n",
      "You should consider upgrading via the '/usr/local/bin/python3 -m pip install --upgrade pip' command.\u001b[0m\n"
     ]
    }
   ],
   "source": [
    "%pip install timm\n",
    "%pip install torch==1.10.0"
   ]
  },
  {
   "cell_type": "markdown",
   "id": "8766fcf1",
   "metadata": {
    "cellId": "ywhztrwrxojqexq1ih2kva"
   },
   "source": [
    "### Обучение модели"
   ]
  },
  {
   "cell_type": "code",
   "execution_count": 20,
   "id": "5fb9c8ed",
   "metadata": {
    "cellId": "pgi7ebjwmlrdcm7wmvwmn"
   },
   "outputs": [
    {
     "data": {
      "application/vnd.jupyter.widget-view+json": {
       "model_id": "78b8944032b14b439bf26e74d989f28c",
       "version_major": 2,
       "version_minor": 0
      },
      "text/plain": [
       "HBox(children=(HTML(value=''), FloatProgress(value=0.0, max=346319111.0), HTML(value='')))"
      ]
     },
     "metadata": {},
     "output_type": "display_data"
    },
    {
     "name": "stderr",
     "output_type": "stream",
     "text": [
      "Downloading: \"https://dl.fbaipublicfiles.com/deit/deit_base_patch16_224-b5f2ef4d.pth\" to /tmp/xdg_cache/torch/hub/checkpoints/deit_base_patch16_224-b5f2ef4d.pth\n",
      "\r"
     ]
    },
    {
     "name": "stdout",
     "output_type": "stream",
     "text": [
      "INFO: DEVICE is cuda\n",
      "\n",
      "Loading pre-trained vision transformer weights from https://dl.fbaipublicfiles.com/deit/deit_base_patch16_224-b5f2ef4d.pth ...\n",
      "\n",
      "Validation\tacc: 0.0000, wer: 1.0002, cer: 9.2817, loop_time: 0m 18s\n",
      "\n",
      "Epoch 0, Loss: 2.00338, cer: 0.7997, LR: 0.0003726, loop_time: 2m 51s\n",
      "\n",
      "Validation\tacc: 0.0000, wer: 1.0007, cer: 0.4481, loop_time: 0m 15s\n",
      "Model weights saved\n",
      "\n",
      "Epoch 1, Loss: 0.80348, cer: 0.4512, LR: 0.0009094, loop_time: 3m 4s\n",
      "\n",
      "Validation\tacc: 0.0000, wer: 0.9986, cer: 0.4418, loop_time: 0m 15s\n",
      "\n",
      "Epoch 2, Loss: 0.60825, cer: 0.3699, LR: 0.0009988, loop_time: 2m 54s\n",
      "\n",
      "Validation\tacc: 0.0000, wer: 1.0017, cer: 0.3274, loop_time: 0m 17s\n",
      "\n",
      "Epoch 3, Loss: 0.46602, cer: 0.3226, LR: 0.0009890, loop_time: 2m 54s\n",
      "\n",
      "Validation\tacc: 0.0000, wer: 0.9989, cer: 0.3133, loop_time: 0m 15s\n",
      "\n",
      "Epoch 4, Loss: 0.40815, cer: 0.2959, LR: 0.0009698, loop_time: 2m 54s\n",
      "\n",
      "Validation\tacc: 0.0000, wer: 0.9960, cer: 0.3279, loop_time: 0m 18s\n",
      "\n",
      "Epoch 5, Loss: 0.40075, cer: 0.3265, LR: 0.0009413, loop_time: 2m 54s\n",
      "\n",
      "Validation\tacc: 0.0000, wer: 0.9975, cer: 0.3327, loop_time: 0m 15s\n",
      "\n",
      "Epoch 6, Loss: 0.35451, cer: 0.3028, LR: 0.0009043, loop_time: 2m 54s\n",
      "\n",
      "Validation\tacc: 0.0000, wer: 0.9953, cer: 0.2960, loop_time: 0m 15s\n",
      "\n",
      "Epoch 7, Loss: 0.33651, cer: 0.3109, LR: 0.0008595, loop_time: 2m 56s\n",
      "\n",
      "Validation\tacc: 0.0000, wer: 0.9930, cer: 0.2539, loop_time: 0m 17s\n",
      "\n",
      "Epoch 8, Loss: 0.31597, cer: 0.2569, LR: 0.0008076, loop_time: 2m 54s\n",
      "\n",
      "Validation\tacc: 0.0000, wer: 0.9989, cer: 0.2707, loop_time: 0m 15s\n",
      "\n",
      "Epoch 9, Loss: 0.30954, cer: 0.2827, LR: 0.0007498, loop_time: 2m 54s\n",
      "\n",
      "Validation\tacc: 0.0000, wer: 0.9913, cer: 0.2454, loop_time: 0m 15s\n",
      "\n",
      "Epoch 10, Loss: 0.29719, cer: 0.2997, LR: 0.0006871, loop_time: 2m 54s\n",
      "\n",
      "Validation\tacc: 0.0002, wer: 0.9810, cer: 0.3263, loop_time: 0m 15s\n",
      "Model weights saved\n",
      "\n",
      "Epoch 11, Loss: 0.27439, cer: 0.3343, LR: 0.0006207, loop_time: 3m 4s\n",
      "\n",
      "Validation\tacc: 0.0000, wer: 0.9936, cer: 0.3362, loop_time: 0m 16s\n",
      "\n",
      "Epoch 12, Loss: 0.26344, cer: 0.2646, LR: 0.0005520, loop_time: 2m 53s\n",
      "\n",
      "Validation\tacc: 0.0000, wer: 0.9923, cer: 0.2604, loop_time: 0m 15s\n",
      "\n",
      "Epoch 13, Loss: 0.25433, cer: 0.3246, LR: 0.0004823, loop_time: 2m 54s\n",
      "\n",
      "Validation\tacc: 0.0000, wer: 0.9903, cer: 0.2834, loop_time: 0m 15s\n",
      "\n",
      "Epoch 14, Loss: 0.24843, cer: 0.2543, LR: 0.0004129, loop_time: 2m 54s\n",
      "\n",
      "Validation\tacc: 0.0000, wer: 0.9881, cer: 0.2448, loop_time: 0m 15s\n",
      "\n",
      "Epoch 15, Loss: 0.22929, cer: 0.2524, LR: 0.0003452, loop_time: 2m 54s\n",
      "\n",
      "Validation\tacc: 0.0032, wer: 0.9867, cer: 0.2375, loop_time: 0m 15s\n",
      "Model weights saved\n",
      "Weights removed '../data/experiments/test/model-0-0.0000.ckpt'\n",
      "\n",
      "Epoch 16, Loss: 0.21984, cer: 0.2617, LR: 0.0002806, loop_time: 2m 57s\n",
      "\n",
      "Validation\tacc: 0.0000, wer: 0.9833, cer: 0.3177, loop_time: 0m 15s\n",
      "\n",
      "Epoch 17, Loss: 0.20399, cer: 0.3011, LR: 0.0002202, loop_time: 2m 55s\n",
      "\n",
      "Validation\tacc: 0.0000, wer: 0.9863, cer: 0.2765, loop_time: 0m 16s\n",
      "\n",
      "Epoch 18, Loss: 0.19697, cer: 0.2712, LR: 0.0001652, loop_time: 2m 54s\n",
      "\n",
      "Validation\tacc: 0.0000, wer: 0.9806, cer: 0.2545, loop_time: 0m 15s\n",
      "\n",
      "Epoch 19, Loss: 0.20229, cer: 0.2921, LR: 0.0001168, loop_time: 2m 55s\n",
      "\n",
      "Validation\tacc: 0.0000, wer: 0.9872, cer: 0.2803, loop_time: 0m 15s\n",
      "\n",
      "Epoch 20, Loss: 0.18929, cer: 0.2551, LR: 0.0000758, loop_time: 2m 54s\n",
      "\n",
      "Validation\tacc: 0.0000, wer: 0.9890, cer: 0.2352, loop_time: 0m 15s\n",
      "\n",
      "Epoch 21, Loss: 0.18398, cer: 0.2593, LR: 0.0000431, loop_time: 2m 54s\n",
      "\n",
      "Validation\tacc: 0.0000, wer: 0.9848, cer: 0.2678, loop_time: 0m 15s\n",
      "\n",
      "Epoch 22, Loss: 0.17509, cer: 0.2809, LR: 0.0000193, loop_time: 2m 54s\n",
      "\n",
      "Validation\tacc: 0.0002, wer: 0.9817, cer: 0.2859, loop_time: 0m 15s\n",
      "\n",
      "Epoch 23, Loss: 0.18862, cer: 0.2957, LR: 0.0000048, loop_time: 2m 54s\n",
      "\n",
      "Validation\tacc: 0.0002, wer: 0.9831, cer: 0.2893, loop_time: 0m 15s\n",
      "\n",
      "Epoch 24, Loss: 0.17391, cer: 0.2945, LR: 0.0000000, loop_time: 2m 54s\n",
      "\n",
      "Validation\tacc: 0.0000, wer: 0.9846, cer: 0.2977, loop_time: 0m 15s\n"
     ]
    },
    {
     "data": {
      "image/png": "[encoded data removed]",
      "text/plain": [
       "<Figure size 864x576 with 2 Axes>"
      ]
     },
     "metadata": {
      "needs_background": "light"
     },
     "output_type": "display_data"
    },
    {
     "data": {
      "text/plain": [
       "<Figure size 432x288 with 0 Axes>"
      ]
     },
     "metadata": {},
     "output_type": "display_data"
    }
   ],
   "source": [
    "#!g1.1\n",
    "%run train.py"
   ]
  },
  {
   "cell_type": "code",
   "execution_count": 21,
   "id": "df1ff3cb",
   "metadata": {
    "cellId": "rl6b3ydbw4jaz6yqa5sxrp"
   },
   "outputs": [],
   "source": [
    "import cv2\n",
    "import random\n",
    "\n",
    "from os import listdir\n",
    "from os.path import isfile, join\n",
    "from matplotlib import pyplot as plt\n",
    "\n",
    "from utils.predictor import OcrPredictor"
   ]
  },
  {
   "cell_type": "code",
   "execution_count": 27,
   "id": "d7dbaae6",
   "metadata": {
    "cellId": "c7c263yxae9cr9yllf18o6"
   },
   "outputs": [],
   "source": [
    "images_directory = '../data/handwritten_names/test_v2/test'\n",
    "models_directory = '../data/experiments/test'\n",
    "CONFIG_PATH = './configs/ocr_config.json'\n",
    "DEVICE = 'cuda'"
   ]
  },
  {
   "cell_type": "code",
   "execution_count": 36,
   "id": "cd6673b5",
   "metadata": {
    "cellId": "wk4xw8vnxit8acs6ezvv"
   },
   "outputs": [],
   "source": [
    "images = [f for f in listdir(images_directory) if isfile(join(images_directory, f))]\n",
    "models = [f for f in listdir(models_directory) if isfile(join(models_directory, f))]\n",
    "\n",
    "models = sorted(models, key=lambda model_name: int(model_name[6:model_name.find('-', 6)]), reverse=True)\n",
    "model_path = join(models_directory, models[0])"
   ]
  },
  {
   "cell_type": "code",
   "execution_count": 37,
   "id": "6f3161b8",
   "metadata": {
    "cellId": "3yatucdzhw3f4ebcidf5ua"
   },
   "outputs": [
    {
     "data": {
      "text/plain": [
       "'../data/experiments/test/model-15-0.0032.ckpt'"
      ]
     },
     "execution_count": 37,
     "metadata": {},
     "output_type": "execute_result"
    }
   ],
   "source": [
    "model_path"
   ]
  },
  {
   "cell_type": "code",
   "execution_count": 38,
   "id": "10d98dc0",
   "metadata": {
    "cellId": "nw6x3qgf8bg6rullo9yyi"
   },
   "outputs": [],
   "source": [
    "image_path = join(images_directory, random.choice(images))"
   ]
  },
  {
   "cell_type": "code",
   "execution_count": 30,
   "id": "1a9290f3",
   "metadata": {
    "cellId": "ukdiuhy0buquf80x97drb"
   },
   "outputs": [
    {
     "name": "stderr",
     "output_type": "stream",
     "text": [
      "Downloading: \"https://dl.fbaipublicfiles.com/deit/deit_base_patch16_224-b5f2ef4d.pth\" to /tmp/xdg_cache/torch/hub/checkpoints/deit_base_patch16_224-b5f2ef4d.pth\n"
     ]
    },
    {
     "data": {
      "application/vnd.jupyter.widget-view+json": {
       "model_id": "65de3445744546498389f06e49457463",
       "version_major": 2,
       "version_minor": 0
      },
      "text/plain": [
       "HBox(children=(HTML(value=''), FloatProgress(value=0.0, max=346319111.0), HTML(value='')))"
      ]
     },
     "metadata": {},
     "output_type": "display_data"
    },
    {
     "name": "stdout",
     "output_type": "stream",
     "text": [
      "\n",
      "Loading pre-trained vision transformer weights from https://dl.fbaipublicfiles.com/deit/deit_base_patch16_224-b5f2ef4d.pth ...\n"
     ]
    }
   ],
   "source": [
    "#!g1.1\n",
    "predictor = OcrPredictor(\n",
    "    model_path=model_path,\n",
    "    config_path=CONFIG_PATH,\n",
    "    device=DEVICE\n",
    ")"
   ]
  },
  {
   "cell_type": "code",
   "execution_count": 39,
   "id": "0fb1468a",
   "metadata": {
    "cellId": "h5gnnntvieaft9do20xtq9"
   },
   "outputs": [],
   "source": [
    "img = cv2.imread(image_path)"
   ]
  },
  {
   "cell_type": "code",
   "execution_count": 40,
   "id": "f8f4b5a9",
   "metadata": {
    "cellId": "ow3e6v15fq0qhev5fz534b"
   },
   "outputs": [],
   "source": [
    "#!g1.1\n",
    "pred_data = predictor(img)"
   ]
  },
  {
   "cell_type": "code",
   "execution_count": 41,
   "id": "d9b60414",
   "metadata": {
    "cellId": "g17uagjxac1d6cs4xnza8"
   },
   "outputs": [
    {
     "name": "stdout",
     "output_type": "stream",
     "text": [
      "Prediction: LLUCIE\n"
     ]
    },
    {
     "data": {
      "text/plain": [
       "<matplotlib.image.AxesImage at 0x7f9a6b73f810>"
      ]
     },
     "execution_count": 41,
     "metadata": {},
     "output_type": "execute_result"
    },
    {
     "data": {
      "image/png": "[encoded data removed]",
      "text/plain": [
       "<Figure size 360x360 with 1 Axes>"
      ]
     },
     "metadata": {
      "needs_background": "light"
     },
     "output_type": "display_data"
    }
   ],
   "source": [
    "print(\"Prediction: \" + pred_data)\n",
    "\n",
    "plt.figure(figsize=(5, 5))\n",
    "plt.imshow(img)"
   ]
  }
 ],
 "metadata": {
  "kernelspec": {
   "display_name": "Yandex DataSphere Kernel",
   "language": "python",
   "name": "python3"
  },
  "language_info": {
   "codemirror_mode": {
    "name": "ipython",
    "version": 3
   },
   "file_extension": ".py",
   "mimetype": "text/x-python",
   "name": "python",
   "nbconvert_exporter": "python",
   "pygments_lexer": "ipython3",
   "version": "3.7.7"
  },
  "notebookId": "31552c0c-a145-45fe-b78b-efcba841c4a9",
  "notebookPath": "htr_methods_review/text_recognition/inference.ipynb"
 },
 "nbformat": 4,
 "nbformat_minor": 5
}
