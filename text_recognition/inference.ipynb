{
 "cells": [
  {
   "cell_type": "code",
   "execution_count": 9,
   "id": "9a2850ab",
   "metadata": {
    "cellId": "vsrc2evogr8iqas5ppvgcr",
    "pycharm": {
     "name": "#%%\n"
    }
   },
   "outputs": [
    {
     "name": "stdout",
     "output_type": "stream",
     "text": [
      "Defaulting to user installation because normal site-packages is not writeable\n",
      "Requirement already satisfied: timm in /home/jupyter/.local/lib/python3.7/site-packages (0.4.12)\n",
      "Requirement already satisfied: torchvision in /usr/local/lib/python3.7/dist-packages (from timm) (0.7.0)\n",
      "Requirement already satisfied: torch>=1.4 in /home/jupyter/.local/lib/python3.7/site-packages (from timm) (1.10.0)\n",
      "Requirement already satisfied: typing-extensions in /kernel/lib/python3.7/site-packages (from torch>=1.4->timm) (4.1.1)\n",
      "Requirement already satisfied: numpy in /kernel/lib/python3.7/site-packages (from torchvision->timm) (1.19.4)\n",
      "Requirement already satisfied: pillow>=4.1.1 in /kernel/lib/python3.7/site-packages (from torchvision->timm) (9.0.1)\n",
      "Collecting torch>=1.4\n",
      "  Downloading torch-1.6.0-cp37-cp37m-manylinux1_x86_64.whl (748.8 MB)\n",
      "\u001B[K     |████████████████████████████████| 748.8 MB 5.5 kB/s  eta 0:00:013        | 320.3 MB 59.4 MB/s eta 0:00:08\n",
      "\u001B[?25hRequirement already satisfied: future in /usr/local/lib/python3.7/dist-packages (from torch>=1.4->timm) (0.18.2)\n",
      "Installing collected packages: torch\n",
      "  Attempting uninstall: torch\n",
      "    Found existing installation: torch 1.10.0\n",
      "    Uninstalling torch-1.10.0:\n",
      "      Successfully uninstalled torch-1.10.0\n",
      "\u001B[33m  WARNING: The scripts convert-caffe2-to-onnx and convert-onnx-to-caffe2 are installed in '/home/jupyter/.local/bin' which is not on PATH.\n",
      "  Consider adding this directory to PATH or, if you prefer to suppress this warning, use --no-warn-script-location.\u001B[0m\n",
      "\u001B[31mERROR: pip's dependency resolver does not currently take into account all the packages that are installed. This behaviour is the source of the following dependency conflicts.\n",
      "mmdet 2.3.0rc0+c6b5ca2 requires Pillow<=6.2.2, but you have pillow 9.0.1 which is incompatible.\u001B[0m\n",
      "Successfully installed torch-1.6.0\n",
      "\u001B[33mWARNING: You are using pip version 21.0.1; however, version 22.0.4 is available.\n",
      "You should consider upgrading via the '/usr/local/bin/python3 -m pip install --upgrade pip' command.\u001B[0m\n",
      "Defaulting to user installation because normal site-packages is not writeable\n",
      "Collecting torch==1.10.0\n",
      "  Downloading torch-1.10.0-cp37-cp37m-manylinux1_x86_64.whl (881.9 MB)\n",
      "\u001B[K     |████████████████████████████████| 881.9 MB 5.5 kB/s  eta 0:00:011\n",
      "\u001B[?25hRequirement already satisfied: typing-extensions in /kernel/lib/python3.7/site-packages (from torch==1.10.0) (4.1.1)\n",
      "Installing collected packages: torch\n",
      "  Attempting uninstall: torch\n",
      "    Found existing installation: torch 1.6.0\n",
      "    Uninstalling torch-1.6.0:\n",
      "      Successfully uninstalled torch-1.6.0\n",
      "\u001B[33m  WARNING: The scripts convert-caffe2-to-onnx, convert-onnx-to-caffe2 and torchrun are installed in '/home/jupyter/.local/bin' which is not on PATH.\n",
      "  Consider adding this directory to PATH or, if you prefer to suppress this warning, use --no-warn-script-location.\u001B[0m\n",
      "\u001B[31mERROR: pip's dependency resolver does not currently take into account all the packages that are installed. This behaviour is the source of the following dependency conflicts.\n",
      "torchvision 0.7.0 requires torch==1.6.0, but you have torch 1.10.0 which is incompatible.\n",
      "mmdet 2.3.0rc0+c6b5ca2 requires Pillow<=6.2.2, but you have pillow 9.0.1 which is incompatible.\n",
      "mmdet 2.3.0rc0+c6b5ca2 requires torch==1.6.0, but you have torch 1.10.0 which is incompatible.\n",
      "enot-utils 1.0.2 requires torch==1.6.0, but you have torch 1.10.0 which is incompatible.\u001B[0m\n",
      "Successfully installed torch-1.10.0\n",
      "\u001B[33mWARNING: You are using pip version 21.0.1; however, version 22.0.4 is available.\n",
      "You should consider upgrading via the '/usr/local/bin/python3 -m pip install --upgrade pip' command.\u001B[0m\n"
     ]
    }
   ],
   "source": [
    "%pip install timm\n",
    "%pip install torch==1.10.0"
   ]
  },
  {
   "cell_type": "markdown",
   "id": "2805cac7",
   "metadata": {
    "cellId": "ywhztrwrxojqexq1ih2kva",
    "pycharm": {
     "name": "#%% md\n"
    }
   },
   "source": [
    "### Обучение модели"
   ]
  },
  {
   "cell_type": "code",
   "execution_count": null,
   "id": "606fb808",
   "metadata": {
    "cellId": "pgi7ebjwmlrdcm7wmvwmn",
    "pycharm": {
     "name": "#%%\n"
    }
   },
   "outputs": [
    {
     "name": "stdout",
     "output_type": "stream",
     "text": [
      "INFO: DEVICE is cuda\n"
     ]
    },
    {
     "name": "stderr",
     "output_type": "stream",
     "text": [
      "  0%|          | 0/65 [00:00<?, ?it/s]"
     ]
    },
    {
     "name": "stdout",
     "output_type": "stream",
     "text": [
      "Loading pre-trained vision transformer weights from https://dl.fbaipublicfiles.com/deit/deit_tiny_patch16_224-a1311bcf.pth ...\n"
     ]
    },
    {
     "name": "stderr",
     "output_type": "stream",
     "text": [
      "  0%|          | 0/257 [00:00<?, ?it/s]        "
     ]
    },
    {
     "name": "stdout",
     "output_type": "stream",
     "text": [
      "\n",
      "Validation\tacc: 0.0000, wer: 1.0373, cer: 9.8598, loop_time: 0m 5s\n"
     ]
    },
    {
     "name": "stderr",
     "output_type": "stream",
     "text": [
      "  0%|          | 0/65 [00:00<?, ?it/s]           "
     ]
    },
    {
     "name": "stdout",
     "output_type": "stream",
     "text": [
      "\n",
      "Epoch 0, Loss: 2.58208, cer: 1.2238, LR: 0.0001318, loop_time: 0m 41s\n"
     ]
    },
    {
     "name": "stderr",
     "output_type": "stream",
     "text": [
      "                                               \r"
     ]
    },
    {
     "name": "stdout",
     "output_type": "stream",
     "text": [
      "\n",
      "Validation\tacc: 0.0000, wer: 1.0000, cer: 0.8360, loop_time: 0m 4s\n"
     ]
    },
    {
     "name": "stderr",
     "output_type": "stream",
     "text": [
      "  0%|          | 0/257 [00:00<?, ?it/s]"
     ]
    },
    {
     "name": "stdout",
     "output_type": "stream",
     "text": [
      "Model weights saved\n"
     ]
    },
    {
     "name": "stderr",
     "output_type": "stream",
     "text": [
      " 14%|█▎        | 35/257 [00:04<00:27,  8.01it/s]"
     ]
    }
   ],
   "source": [
    "#!g1.1\n",
    "%run train.py"
   ]
  },
  {
   "cell_type": "code",
   "execution_count": 4,
   "id": "cb461ef7",
   "metadata": {
    "cellId": "rl6b3ydbw4jaz6yqa5sxrp",
    "pycharm": {
     "name": "#%%\n"
    }
   },
   "outputs": [],
   "source": [
    "import cv2\n",
    "from matplotlib import pyplot as plt\n",
    "\n",
    "from utils.predictor import OcrPredictor"
   ]
  },
  {
   "cell_type": "code",
   "execution_count": 5,
   "id": "8b5627af",
   "metadata": {
    "cellId": "59eaydapmcp13ct9mr5w5qd",
    "pycharm": {
     "name": "#%%\n"
    }
   },
   "outputs": [],
   "source": [
    "IMG_PATH = ''\n",
    "MODEL_PATH = ''\n",
    "CONFIG_PATH = 'ocr_config.json'\n",
    "DEVICE = 'cuda'"
   ]
  },
  {
   "cell_type": "code",
   "execution_count": 6,
   "id": "b3feaac2",
   "metadata": {
    "cellId": "ukdiuhy0buquf80x97drb",
    "pycharm": {
     "name": "#%%\n"
    }
   },
   "outputs": [
    {
     "ename": "FileNotFoundError",
     "evalue": "[Errno 2] No such file or directory: 'ocr_config.json'",
     "output_type": "error",
     "traceback": [
      "\u001B[0;31m---------------------------------------------------------------------------\u001B[0m",
      "\u001B[0;31mFileNotFoundError\u001B[0m                         Traceback (most recent call last)",
      "\u001B[0;32m<ipython-input-6-0710d394d1e5>\u001B[0m in \u001B[0;36m<module>\u001B[0;34m\u001B[0m\n\u001B[1;32m      2\u001B[0m     \u001B[0mmodel_path\u001B[0m\u001B[0;34m=\u001B[0m\u001B[0mMODEL_PATH\u001B[0m\u001B[0;34m,\u001B[0m\u001B[0;34m\u001B[0m\u001B[0;34m\u001B[0m\u001B[0m\n\u001B[1;32m      3\u001B[0m     \u001B[0mconfig_path\u001B[0m\u001B[0;34m=\u001B[0m\u001B[0mCONFIG_PATH\u001B[0m\u001B[0;34m,\u001B[0m\u001B[0;34m\u001B[0m\u001B[0;34m\u001B[0m\u001B[0m\n\u001B[0;32m----> 4\u001B[0;31m     \u001B[0mdevice\u001B[0m\u001B[0;34m=\u001B[0m\u001B[0mDEVICE\u001B[0m\u001B[0;34m\u001B[0m\u001B[0;34m\u001B[0m\u001B[0m\n\u001B[0m\u001B[1;32m      5\u001B[0m )\n\u001B[1;32m      6\u001B[0m \u001B[0;31m#\u001B[0m\u001B[0;34m\u001B[0m\u001B[0;34m\u001B[0m\u001B[0;34m\u001B[0m\u001B[0m\n",
      "\u001B[0;32m~/work/resources/htr_methods_review/text_recognition/utils/predictor.py\u001B[0m in \u001B[0;36m__init__\u001B[0;34m(self, model_path, config_path, device)\u001B[0m\n\u001B[1;32m     33\u001B[0m \u001B[0;32mclass\u001B[0m \u001B[0mOcrPredictor\u001B[0m\u001B[0;34m:\u001B[0m\u001B[0;34m\u001B[0m\u001B[0;34m\u001B[0m\u001B[0m\n\u001B[1;32m     34\u001B[0m     \u001B[0;32mdef\u001B[0m \u001B[0m__init__\u001B[0m\u001B[0;34m(\u001B[0m\u001B[0mself\u001B[0m\u001B[0;34m,\u001B[0m \u001B[0mmodel_path\u001B[0m\u001B[0;34m,\u001B[0m \u001B[0mconfig_path\u001B[0m\u001B[0;34m,\u001B[0m \u001B[0mdevice\u001B[0m\u001B[0;34m=\u001B[0m\u001B[0;34m'cuda'\u001B[0m\u001B[0;34m)\u001B[0m\u001B[0;34m:\u001B[0m\u001B[0;34m\u001B[0m\u001B[0;34m\u001B[0m\u001B[0m\n\u001B[0;32m---> 35\u001B[0;31m         \u001B[0mconfig\u001B[0m \u001B[0;34m=\u001B[0m \u001B[0mConfig\u001B[0m\u001B[0;34m(\u001B[0m\u001B[0mconfig_path\u001B[0m\u001B[0;34m)\u001B[0m\u001B[0;34m\u001B[0m\u001B[0;34m\u001B[0m\u001B[0m\n\u001B[0m\u001B[1;32m     36\u001B[0m         \u001B[0mself\u001B[0m\u001B[0;34m.\u001B[0m\u001B[0mtokenizer\u001B[0m \u001B[0;34m=\u001B[0m \u001B[0mget_tokenizer\u001B[0m\u001B[0;34m(\u001B[0m\u001B[0mconfig\u001B[0m\u001B[0;34m.\u001B[0m\u001B[0mget\u001B[0m\u001B[0;34m(\u001B[0m\u001B[0;34m'tokenizer'\u001B[0m\u001B[0;34m)\u001B[0m\u001B[0;34m,\u001B[0m \u001B[0mconfig\u001B[0m\u001B[0;34m)\u001B[0m\u001B[0;34m\u001B[0m\u001B[0;34m\u001B[0m\u001B[0m\n\u001B[1;32m     37\u001B[0m         \u001B[0mself\u001B[0m\u001B[0;34m.\u001B[0m\u001B[0mdevice\u001B[0m \u001B[0;34m=\u001B[0m \u001B[0mtorch\u001B[0m\u001B[0;34m.\u001B[0m\u001B[0mdevice\u001B[0m\u001B[0;34m(\u001B[0m\u001B[0mdevice\u001B[0m\u001B[0;34m)\u001B[0m\u001B[0;34m\u001B[0m\u001B[0;34m\u001B[0m\u001B[0m\n",
      "\u001B[0;32m~/work/resources/htr_methods_review/text_recognition/utils/config.py\u001B[0m in \u001B[0;36m__init__\u001B[0;34m(self, config_path)\u001B[0m\n\u001B[1;32m      6\u001B[0m \u001B[0;34m\u001B[0m\u001B[0m\n\u001B[1;32m      7\u001B[0m     \u001B[0;32mdef\u001B[0m \u001B[0m__init__\u001B[0m\u001B[0;34m(\u001B[0m\u001B[0mself\u001B[0m\u001B[0;34m,\u001B[0m \u001B[0mconfig_path\u001B[0m\u001B[0;34m)\u001B[0m\u001B[0;34m:\u001B[0m\u001B[0;34m\u001B[0m\u001B[0;34m\u001B[0m\u001B[0m\n\u001B[0;32m----> 8\u001B[0;31m         \u001B[0;32mwith\u001B[0m \u001B[0mopen\u001B[0m\u001B[0;34m(\u001B[0m\u001B[0mconfig_path\u001B[0m\u001B[0;34m,\u001B[0m \u001B[0;34m'r'\u001B[0m\u001B[0;34m,\u001B[0m \u001B[0mencoding\u001B[0m\u001B[0;34m=\u001B[0m\u001B[0;34m\"utf-8\"\u001B[0m\u001B[0;34m)\u001B[0m \u001B[0;32mas\u001B[0m \u001B[0mf\u001B[0m\u001B[0;34m:\u001B[0m\u001B[0;34m\u001B[0m\u001B[0;34m\u001B[0m\u001B[0m\n\u001B[0m\u001B[1;32m      9\u001B[0m             \u001B[0mself\u001B[0m\u001B[0;34m.\u001B[0m\u001B[0mconfig\u001B[0m \u001B[0;34m=\u001B[0m \u001B[0mjson\u001B[0m\u001B[0;34m.\u001B[0m\u001B[0mload\u001B[0m\u001B[0;34m(\u001B[0m\u001B[0mf\u001B[0m\u001B[0;34m)\u001B[0m\u001B[0;34m\u001B[0m\u001B[0;34m\u001B[0m\u001B[0m\n\u001B[1;32m     10\u001B[0m \u001B[0;34m\u001B[0m\u001B[0m\n",
      "\u001B[0;31mFileNotFoundError\u001B[0m: [Errno 2] No such file or directory: 'ocr_config.json'"
     ]
    }
   ],
   "source": [
    "predictor = OcrPredictor(\n",
    "    model_path=MODEL_PATH,\n",
    "    config_path=CONFIG_PATH,\n",
    "    device=DEVICE\n",
    ")"
   ]
  },
  {
   "cell_type": "code",
   "execution_count": null,
   "id": "f5e4930b",
   "metadata": {
    "cellId": "h5gnnntvieaft9do20xtq9",
    "pycharm": {
     "name": "#%%\n"
    }
   },
   "outputs": [],
   "source": [
    "img = cv2.imread(IMG_PATH)"
   ]
  },
  {
   "cell_type": "code",
   "execution_count": null,
   "id": "606ab60a",
   "metadata": {
    "cellId": "ow3e6v15fq0qhev5fz534b",
    "pycharm": {
     "name": "#%%\n"
    }
   },
   "outputs": [],
   "source": [
    "pred_data = predictor(img)"
   ]
  },
  {
   "cell_type": "code",
   "execution_count": null,
   "id": "8cf9d9e2",
   "metadata": {
    "cellId": "g17uagjxac1d6cs4xnza8",
    "pycharm": {
     "name": "#%%\n"
    }
   },
   "outputs": [],
   "source": [
    "print(pred_data)\n",
    "\n",
    "plt.figure(figsize=(5, 5))\n",
    "plt.imshow(img)"
   ]
  },
  {
   "cell_type": "code",
   "execution_count": null,
   "id": "ed2d9c90",
   "metadata": {
    "cellId": "p80bubqg008sjsose79oul",
    "pycharm": {
     "name": "#%%\n"
    }
   },
   "outputs": [],
   "source": [
    "#!c1.4\n"
   ]
  }
 ],
 "metadata": {
  "kernelspec": {
   "display_name": "Yandex DataSphere Kernel",
   "language": "python",
   "name": "python3"
  },
  "language_info": {
   "codemirror_mode": {
    "name": "ipython",
    "version": 3
   },
   "file_extension": ".py",
   "mimetype": "text/x-python",
   "name": "python",
   "nbconvert_exporter": "python",
   "pygments_lexer": "ipython3",
   "version": "3.7.7"
  },
  "notebookId": "31552c0c-a145-45fe-b78b-efcba841c4a9",
  "notebookPath": "htr_methods_review/text_recognition/inference.ipynb"
 },
 "nbformat": 4,
 "nbformat_minor": 5
}