{
 "cells": [
  {
   "cell_type": "code",
   "execution_count": 10,
   "id": "20e1185e",
   "metadata": {
    "cellId": "vsrc2evogr8iqas5ppvgcr"
   },
   "outputs": [
    {
     "name": "stdout",
     "output_type": "stream",
     "text": [
      "Defaulting to user installation because normal site-packages is not writeable\n",
      "Requirement already satisfied: timm in /home/jupyter/.local/lib/python3.7/site-packages (0.4.12)\n",
      "Requirement already satisfied: torch>=1.4 in /home/jupyter/.local/lib/python3.7/site-packages (from timm) (1.10.0)\n",
      "Requirement already satisfied: torchvision in /usr/local/lib/python3.7/dist-packages (from timm) (0.7.0)\n",
      "Requirement already satisfied: typing-extensions in /kernel/lib/python3.7/site-packages (from torch>=1.4->timm) (4.1.1)\n",
      "Requirement already satisfied: numpy in /kernel/lib/python3.7/site-packages (from torchvision->timm) (1.19.4)\n",
      "Collecting torch>=1.4\n",
      "  Downloading torch-1.6.0-cp37-cp37m-manylinux1_x86_64.whl (748.8 MB)\n",
      "\u001b[K     |████████████████████████████████| 748.8 MB 3.1 kB/s \n",
      "\u001b[?25hRequirement already satisfied: pillow>=4.1.1 in /kernel/lib/python3.7/site-packages (from torchvision->timm) (9.0.1)\n",
      "Requirement already satisfied: future in /usr/local/lib/python3.7/dist-packages (from torch>=1.4->timm) (0.18.2)\n",
      "Installing collected packages: torch\n",
      "  Attempting uninstall: torch\n",
      "    Found existing installation: torch 1.10.0\n",
      "    Uninstalling torch-1.10.0:\n",
      "      Successfully uninstalled torch-1.10.0\n",
      "\u001b[33m  WARNING: The scripts convert-caffe2-to-onnx and convert-onnx-to-caffe2 are installed in '/home/jupyter/.local/bin' which is not on PATH.\n",
      "  Consider adding this directory to PATH or, if you prefer to suppress this warning, use --no-warn-script-location.\u001b[0m\n",
      "\u001b[31mERROR: pip's dependency resolver does not currently take into account all the packages that are installed. This behaviour is the source of the following dependency conflicts.\n",
      "mmdet 2.3.0rc0+c6b5ca2 requires Pillow<=6.2.2, but you have pillow 9.0.1 which is incompatible.\u001b[0m\n",
      "Successfully installed torch-1.6.0\n",
      "\u001b[33mWARNING: You are using pip version 21.0.1; however, version 22.0.4 is available.\n",
      "You should consider upgrading via the '/usr/local/bin/python3 -m pip install --upgrade pip' command.\u001b[0m\n",
      "Defaulting to user installation because normal site-packages is not writeable\n",
      "Collecting torch==1.10.0\n",
      "  Downloading torch-1.10.0-cp37-cp37m-manylinux1_x86_64.whl (881.9 MB)\n",
      "\u001b[K     |████████████████████████████████| 881.9 MB 5.5 kB/s \n",
      "\u001b[?25hRequirement already satisfied: typing-extensions in /kernel/lib/python3.7/site-packages (from torch==1.10.0) (4.1.1)\n",
      "Installing collected packages: torch\n",
      "  Attempting uninstall: torch\n",
      "    Found existing installation: torch 1.6.0\n",
      "    Uninstalling torch-1.6.0:\n",
      "      Successfully uninstalled torch-1.6.0\n",
      "\u001b[33m  WARNING: The scripts convert-caffe2-to-onnx, convert-onnx-to-caffe2 and torchrun are installed in '/home/jupyter/.local/bin' which is not on PATH.\n",
      "  Consider adding this directory to PATH or, if you prefer to suppress this warning, use --no-warn-script-location.\u001b[0m\n",
      "\u001b[31mERROR: pip's dependency resolver does not currently take into account all the packages that are installed. This behaviour is the source of the following dependency conflicts.\n",
      "torchvision 0.7.0 requires torch==1.6.0, but you have torch 1.10.0 which is incompatible.\n",
      "mmdet 2.3.0rc0+c6b5ca2 requires Pillow<=6.2.2, but you have pillow 9.0.1 which is incompatible.\n",
      "mmdet 2.3.0rc0+c6b5ca2 requires torch==1.6.0, but you have torch 1.10.0 which is incompatible.\n",
      "enot-utils 1.0.2 requires torch==1.6.0, but you have torch 1.10.0 which is incompatible.\u001b[0m\n",
      "Successfully installed torch-1.10.0\n",
      "\u001b[33mWARNING: You are using pip version 21.0.1; however, version 22.0.4 is available.\n",
      "You should consider upgrading via the '/usr/local/bin/python3 -m pip install --upgrade pip' command.\u001b[0m\n"
     ]
    }
   ],
   "source": [
    "%pip install timm\n",
    "%pip install torch==1.10.0"
   ]
  },
  {
   "cell_type": "markdown",
   "id": "dbfd3ae9",
   "metadata": {
    "cellId": "ywhztrwrxojqexq1ih2kva"
   },
   "source": [
    "### Обучение модели"
   ]
  },
  {
   "cell_type": "code",
   "execution_count": 11,
   "id": "265ed6ff",
   "metadata": {
    "cellId": "pgi7ebjwmlrdcm7wmvwmn"
   },
   "outputs": [
    {
     "data": {
      "application/vnd.jupyter.widget-view+json": {
       "model_id": "2da4a63d333441e2a8d9350e474d8618",
       "version_major": 2,
       "version_minor": 0
      },
      "text/plain": [
       "HBox(children=(HTML(value=''), FloatProgress(value=0.0, max=88251143.0), HTML(value='')))"
      ]
     },
     "metadata": {},
     "output_type": "display_data"
    },
    {
     "name": "stderr",
     "output_type": "stream",
     "text": [
      "\r"
     ]
    },
    {
     "name": "stdout",
     "output_type": "stream",
     "text": [
      "INFO: DEVICE is cuda\n",
      "\n",
      "Loading pre-trained vision transformer weights from https://dl.fbaipublicfiles.com/deit/deit_small_patch16_224-cd65a155.pth ...\n",
      "\n",
      "Validation\tacc: 0.0000, wer: 1.2385, cer: 10.5831, loop_time: 0m 8s\n",
      "\n",
      "Epoch 0, Loss: 2.33967, cer: 1.0154, LR: 0.0001318, loop_time: 1m 2s\n",
      "\n",
      "Validation\tacc: 0.0000, wer: 1.0000, cer: 0.8960, loop_time: 0m 6s\n",
      "Model weights saved\n",
      "\n",
      "Epoch 1, Loss: 1.03226, cer: 0.8419, LR: 0.0003721, loop_time: 1m 5s\n",
      "\n",
      "Validation\tacc: 0.0000, wer: 1.0002, cer: 0.8970, loop_time: 0m 11s\n",
      "\n",
      "Epoch 2, Loss: 0.73310, cer: 0.5601, LR: 0.0006690, loop_time: 1m 2s\n",
      "\n",
      "Validation\tacc: 0.0000, wer: 1.0088, cer: 0.4456, loop_time: 0m 6s\n",
      "\n",
      "Epoch 3, Loss: 0.65512, cer: 0.4503, LR: 0.0009089, loop_time: 1m 2s\n",
      "\n",
      "Validation\tacc: 0.0000, wer: 1.0097, cer: 0.3840, loop_time: 0m 6s\n",
      "\n",
      "Epoch 4, Loss: 0.57158, cer: 0.3816, LR: 0.0010000, loop_time: 1m 2s\n",
      "\n",
      "Validation\tacc: 0.0000, wer: 0.9953, cer: 0.3222, loop_time: 0m 6s\n",
      "\n",
      "Epoch 5, Loss: 0.46808, cer: 0.3989, LR: 0.0009988, loop_time: 1m 2s\n",
      "\n",
      "Validation\tacc: 0.0000, wer: 0.9998, cer: 0.3932, loop_time: 0m 6s\n",
      "\n",
      "Epoch 6, Loss: 0.42436, cer: 0.3095, LR: 0.0009951, loop_time: 1m 3s\n",
      "\n",
      "Validation\tacc: 0.0002, wer: 0.9956, cer: 0.2780, loop_time: 0m 6s\n",
      "Model weights saved\n",
      "\n",
      "Epoch 7, Loss: 0.38453, cer: 0.3065, LR: 0.0009890, loop_time: 1m 4s\n",
      "\n",
      "Validation\tacc: 0.0000, wer: 0.9980, cer: 0.3279, loop_time: 0m 8s\n",
      "\n",
      "Epoch 8, Loss: 0.35774, cer: 0.2639, LR: 0.0009806, loop_time: 1m 2s\n",
      "\n",
      "Validation\tacc: 0.0000, wer: 0.9968, cer: 0.2523, loop_time: 0m 6s\n",
      "\n",
      "Epoch 9, Loss: 0.34538, cer: 0.2552, LR: 0.0009698, loop_time: 1m 3s\n",
      "\n",
      "Validation\tacc: 0.0000, wer: 0.9980, cer: 0.2411, loop_time: 0m 6s\n",
      "\n",
      "Epoch 10, Loss: 0.34026, cer: 0.2561, LR: 0.0009567, loop_time: 1m 3s\n",
      "\n",
      "Validation\tacc: 0.0000, wer: 0.9950, cer: 0.2447, loop_time: 0m 6s\n",
      "\n",
      "Epoch 11, Loss: 0.33216, cer: 0.2452, LR: 0.0009414, loop_time: 1m 3s\n",
      "\n",
      "Validation\tacc: 0.0000, wer: 0.9961, cer: 0.2503, loop_time: 0m 6s\n",
      "\n",
      "Epoch 12, Loss: 0.32778, cer: 0.2804, LR: 0.0009240, loop_time: 1m 3s\n",
      "\n",
      "Validation\tacc: 0.0000, wer: 0.9982, cer: 0.2864, loop_time: 0m 6s\n",
      "\n",
      "Epoch 13, Loss: 0.30848, cer: 0.2857, LR: 0.0009044, loop_time: 1m 3s\n",
      "\n",
      "Validation\tacc: 0.0002, wer: 0.9984, cer: 0.2570, loop_time: 0m 9s\n",
      "\n",
      "Epoch 14, Loss: 0.29983, cer: 0.3591, LR: 0.0008829, loop_time: 1m 2s\n",
      "\n",
      "Validation\tacc: 0.0000, wer: 0.9920, cer: 0.3235, loop_time: 0m 6s\n",
      "\n",
      "Epoch 15, Loss: 0.29756, cer: 0.3299, LR: 0.0008596, loop_time: 1m 2s\n",
      "\n",
      "Validation\tacc: 0.0000, wer: 0.9959, cer: 0.3065, loop_time: 0m 6s\n",
      "\n",
      "Epoch 16, Loss: 0.29086, cer: 0.3339, LR: 0.0008345, loop_time: 1m 3s\n",
      "\n",
      "Validation\tacc: 0.0000, wer: 0.9912, cer: 0.2896, loop_time: 0m 6s\n",
      "\n",
      "Epoch 17, Loss: 0.28386, cer: 0.2948, LR: 0.0008077, loop_time: 1m 3s\n",
      "\n",
      "Validation\tacc: 0.0000, wer: 0.9917, cer: 0.2234, loop_time: 0m 6s\n",
      "\n",
      "Epoch 18, Loss: 0.28341, cer: 0.2399, LR: 0.0007795, loop_time: 1m 3s\n",
      "\n",
      "Validation\tacc: 0.0000, wer: 0.9919, cer: 0.2597, loop_time: 0m 6s\n",
      "\n",
      "Epoch 19, Loss: 0.26874, cer: 0.2549, LR: 0.0007499, loop_time: 1m 3s\n",
      "\n",
      "Validation\tacc: 0.0002, wer: 0.9969, cer: 0.2286, loop_time: 0m 9s\n",
      "\n",
      "Epoch 20, Loss: 0.26237, cer: 0.2758, LR: 0.0007191, loop_time: 1m 2s\n",
      "\n",
      "Validation\tacc: 0.0002, wer: 0.9886, cer: 0.2514, loop_time: 0m 6s\n",
      "\n",
      "Epoch 21, Loss: 0.26247, cer: 0.2848, LR: 0.0006872, loop_time: 1m 2s\n",
      "\n",
      "Validation\tacc: 0.0000, wer: 0.9895, cer: 0.2314, loop_time: 0m 6s\n",
      "\n",
      "Epoch 22, Loss: 0.24547, cer: 0.2672, LR: 0.0006544, loop_time: 1m 3s\n",
      "\n",
      "Validation\tacc: 0.0032, wer: 0.9869, cer: 0.2786, loop_time: 0m 6s\n",
      "Model weights saved\n",
      "Weights removed '../data/experiments/test/model-0-0.0000.ckpt'\n",
      "\n",
      "Epoch 23, Loss: 0.23907, cer: 0.2769, LR: 0.0006208, loop_time: 1m 4s\n",
      "\n",
      "Validation\tacc: 0.0000, wer: 0.9940, cer: 0.3767, loop_time: 0m 6s\n",
      "\n",
      "Epoch 24, Loss: 0.24372, cer: 0.3481, LR: 0.0005867, loop_time: 1m 2s\n",
      "\n",
      "Validation\tacc: 0.0000, wer: 0.9929, cer: 0.2700, loop_time: 0m 6s\n",
      "\n",
      "Epoch 25, Loss: 0.22342, cer: 0.4398, LR: 0.0005521, loop_time: 1m 2s\n",
      "\n",
      "Validation\tacc: 0.0000, wer: 0.9910, cer: 0.3745, loop_time: 0m 8s\n",
      "\n",
      "Epoch 26, Loss: 0.23071, cer: 0.4306, LR: 0.0005173, loop_time: 1m 2s\n",
      "\n",
      "Validation\tacc: 0.0000, wer: 0.9858, cer: 0.3253, loop_time: 0m 6s\n",
      "\n",
      "Epoch 27, Loss: 0.22480, cer: 0.3761, LR: 0.0004824, loop_time: 1m 2s\n",
      "\n",
      "Validation\tacc: 0.0000, wer: 0.9805, cer: 0.3662, loop_time: 0m 6s\n",
      "\n",
      "Epoch 28, Loss: 0.21538, cer: 0.5440, LR: 0.0004476, loop_time: 1m 2s\n",
      "\n",
      "Validation\tacc: 0.0000, wer: 0.9930, cer: 0.7180, loop_time: 0m 6s\n",
      "\n",
      "Epoch 29, Loss: 0.22887, cer: 0.6861, LR: 0.0004130, loop_time: 1m 2s\n",
      "\n",
      "Validation\tacc: 0.0000, wer: 0.9905, cer: 0.5505, loop_time: 0m 6s\n",
      "\n",
      "Epoch 30, Loss: 0.20874, cer: 0.4448, LR: 0.0003789, loop_time: 1m 2s\n",
      "\n",
      "Validation\tacc: 0.0000, wer: 0.9889, cer: 0.3309, loop_time: 0m 6s\n",
      "\n",
      "Epoch 31, Loss: 0.20161, cer: 0.2765, LR: 0.0003454, loop_time: 1m 3s\n",
      "\n",
      "Validation\tacc: 0.0007, wer: 0.9857, cer: 0.4277, loop_time: 0m 8s\n",
      "\n",
      "Epoch 32, Loss: 0.19566, cer: 0.3428, LR: 0.0003126, loop_time: 1m 4s\n",
      "\n",
      "Validation\tacc: 0.0005, wer: 0.9888, cer: 0.3058, loop_time: 0m 6s\n",
      "\n",
      "Epoch 33, Loss: 0.19023, cer: 0.3064, LR: 0.0002807, loop_time: 1m 3s\n",
      "\n",
      "Validation\tacc: 0.0000, wer: 0.9890, cer: 0.2897, loop_time: 0m 6s\n",
      "\n",
      "Epoch 34, Loss: 0.19791, cer: 0.3273, LR: 0.0002499, loop_time: 1m 3s\n",
      "\n",
      "Validation\tacc: 0.0000, wer: 0.9873, cer: 0.2940, loop_time: 0m 6s\n",
      "\n",
      "Epoch 35, Loss: 0.18335, cer: 0.3702, LR: 0.0002203, loop_time: 1m 2s\n",
      "\n",
      "Validation\tacc: 0.0000, wer: 0.9871, cer: 0.5226, loop_time: 0m 6s\n",
      "\n",
      "Epoch 36, Loss: 0.18222, cer: 0.4820, LR: 0.0001921, loop_time: 1m 2s\n",
      "\n",
      "Validation\tacc: 0.0000, wer: 0.9905, cer: 0.5426, loop_time: 0m 6s\n",
      "\n",
      "Epoch 37, Loss: 0.17403, cer: 0.5415, LR: 0.0001653, loop_time: 1m 2s\n",
      "\n",
      "Validation\tacc: 0.0000, wer: 0.9937, cer: 0.5749, loop_time: 0m 7s\n",
      "\n",
      "Epoch 38, Loss: 0.17966, cer: 0.6134, LR: 0.0001402, loop_time: 1m 4s\n",
      "\n",
      "Validation\tacc: 0.0000, wer: 0.9935, cer: 0.7140, loop_time: 0m 6s\n",
      "\n",
      "Epoch 39, Loss: 0.16519, cer: 0.5867, LR: 0.0001169, loop_time: 1m 2s\n",
      "\n",
      "Validation\tacc: 0.0005, wer: 0.9891, cer: 0.5777, loop_time: 0m 6s\n",
      "\n",
      "Epoch 40, Loss: 0.17075, cer: 0.5662, LR: 0.0000954, loop_time: 1m 2s\n",
      "\n",
      "Validation\tacc: 0.0000, wer: 0.9916, cer: 0.5902, loop_time: 0m 6s\n",
      "\n",
      "Epoch 41, Loss: 0.17396, cer: 0.5524, LR: 0.0000759, loop_time: 1m 2s\n",
      "\n",
      "Validation\tacc: 0.0007, wer: 0.9901, cer: 0.5584, loop_time: 0m 6s\n",
      "\n",
      "Epoch 42, Loss: 0.16341, cer: 0.4853, LR: 0.0000585, loop_time: 1m 2s\n",
      "\n",
      "Validation\tacc: 0.0002, wer: 0.9898, cer: 0.4726, loop_time: 0m 6s\n",
      "\n",
      "Epoch 43, Loss: 0.16070, cer: 0.4355, LR: 0.0000432, loop_time: 1m 2s\n",
      "\n",
      "Validation\tacc: 0.0000, wer: 0.9900, cer: 0.4620, loop_time: 0m 6s\n",
      "\n",
      "Epoch 44, Loss: 0.16330, cer: 0.4424, LR: 0.0000301, loop_time: 1m 3s\n",
      "\n",
      "Validation\tacc: 0.0002, wer: 0.9871, cer: 0.4729, loop_time: 0m 7s\n",
      "\n",
      "Epoch 45, Loss: 0.15205, cer: 0.4612, LR: 0.0000193, loop_time: 1m 3s\n",
      "\n",
      "Validation\tacc: 0.0002, wer: 0.9869, cer: 0.4656, loop_time: 0m 6s\n",
      "\n",
      "Epoch 46, Loss: 0.16137, cer: 0.4792, LR: 0.0000109, loop_time: 1m 2s\n",
      "\n",
      "Validation\tacc: 0.0005, wer: 0.9833, cer: 0.4720, loop_time: 0m 6s\n",
      "\n",
      "Epoch 47, Loss: 0.16188, cer: 0.4721, LR: 0.0000048, loop_time: 1m 2s\n",
      "\n",
      "Validation\tacc: 0.0005, wer: 0.9854, cer: 0.4804, loop_time: 0m 6s\n",
      "\n",
      "Epoch 48, Loss: 0.16148, cer: 0.4803, LR: 0.0000012, loop_time: 1m 2s\n",
      "\n",
      "Validation\tacc: 0.0005, wer: 0.9865, cer: 0.4697, loop_time: 0m 6s\n",
      "\n",
      "Epoch 49, Loss: 0.15289, cer: 0.4762, LR: 0.0000000, loop_time: 1m 2s\n",
      "\n",
      "Validation\tacc: 0.0005, wer: 0.9853, cer: 0.4839, loop_time: 0m 6s\n"
     ]
    },
    {
     "data": {
      "image/png": "[encoded data removed]",
      "text/plain": [
       "<Figure size 864x576 with 2 Axes>"
      ]
     },
     "metadata": {
      "needs_background": "light"
     },
     "output_type": "display_data"
    },
    {
     "data": {
      "text/plain": [
       "<Figure size 432x288 with 0 Axes>"
      ]
     },
     "metadata": {},
     "output_type": "display_data"
    }
   ],
   "source": [
    "#!g1.1\n",
    "%run train.py"
   ]
  },
  {
   "cell_type": "code",
   "execution_count": 12,
   "id": "bfddbf2e",
   "metadata": {
    "cellId": "rl6b3ydbw4jaz6yqa5sxrp"
   },
   "outputs": [],
   "source": [
    "import cv2\n",
    "import random\n",
    "\n",
    "from os import listdir\n",
    "from os.path import isfile, join\n",
    "from matplotlib import pyplot as plt\n",
    "\n",
    "from utils.predictor import OcrPredictor"
   ]
  },
  {
   "cell_type": "code",
   "execution_count": 13,
   "id": "1bb82cf5",
   "metadata": {
    "cellId": "c7c263yxae9cr9yllf18o6"
   },
   "outputs": [],
   "source": [
    "images_directory = '../data/handwritten_names/test_v2/test'\n",
    "models_directory = '../data/experiments/test'\n",
    "CONFIG_PATH = './configs/ocr_config.json'\n",
    "DEVICE = 'cuda'"
   ]
  },
  {
   "cell_type": "code",
   "execution_count": 14,
   "id": "77086d0f",
   "metadata": {
    "cellId": "wk4xw8vnxit8acs6ezvv"
   },
   "outputs": [],
   "source": [
    "images = [f for f in listdir(images_directory) if isfile(join(images_directory, f))]\n",
    "models = [f for f in listdir(models_directory) if isfile(join(models_directory, f))]\n",
    "\n",
    "models = sorted(models, key=lambda model_name: model_name[6:model_name.find('-', 6)], reverse=True)\n",
    "model_path = join(models_directory, models[0])"
   ]
  },
  {
   "cell_type": "code",
   "execution_count": 15,
   "id": "de599446",
   "metadata": {
    "cellId": "nw6x3qgf8bg6rullo9yyi"
   },
   "outputs": [],
   "source": [
    "image_path = join(images_directory, random.choice(images))"
   ]
  },
  {
   "cell_type": "code",
   "execution_count": 16,
   "id": "62f86c07",
   "metadata": {
    "cellId": "ukdiuhy0buquf80x97drb"
   },
   "outputs": [
    {
     "name": "stderr",
     "output_type": "stream",
     "text": [
      "Downloading: \"https://dl.fbaipublicfiles.com/deit/deit_small_patch16_224-cd65a155.pth\" to /tmp/xdg_cache/torch/hub/checkpoints/deit_small_patch16_224-cd65a155.pth\n"
     ]
    },
    {
     "data": {
      "application/vnd.jupyter.widget-view+json": {
       "model_id": "710f8b3a2a714fcab1e8f3a84560654f",
       "version_major": 2,
       "version_minor": 0
      },
      "text/plain": [
       "HBox(children=(HTML(value=''), FloatProgress(value=0.0, max=88251143.0), HTML(value='')))"
      ]
     },
     "metadata": {},
     "output_type": "display_data"
    },
    {
     "name": "stdout",
     "output_type": "stream",
     "text": [
      "\n",
      "Loading pre-trained vision transformer weights from https://dl.fbaipublicfiles.com/deit/deit_small_patch16_224-cd65a155.pth ...\n"
     ]
    }
   ],
   "source": [
    "#!g1.1\n",
    "predictor = OcrPredictor(\n",
    "    model_path=model_path,\n",
    "    config_path=CONFIG_PATH,\n",
    "    device=DEVICE\n",
    ")"
   ]
  },
  {
   "cell_type": "code",
   "execution_count": 17,
   "id": "3bd21d7b",
   "metadata": {
    "cellId": "h5gnnntvieaft9do20xtq9"
   },
   "outputs": [],
   "source": [
    "img = cv2.imread(image_path)"
   ]
  },
  {
   "cell_type": "code",
   "execution_count": 18,
   "id": "d6cc6a9a",
   "metadata": {
    "cellId": "ow3e6v15fq0qhev5fz534b"
   },
   "outputs": [],
   "source": [
    "#!g1.1\n",
    "pred_data = predictor(img)"
   ]
  },
  {
   "cell_type": "code",
   "execution_count": 19,
   "id": "a3c6463a",
   "metadata": {
    "cellId": "g17uagjxac1d6cs4xnza8"
   },
   "outputs": [
    {
     "name": "stdout",
     "output_type": "stream",
     "text": [
      "Prediction: TMARIUS\n"
     ]
    },
    {
     "data": {
      "text/plain": [
       "<matplotlib.image.AxesImage at 0x7f1d43a7c810>"
      ]
     },
     "execution_count": 19,
     "metadata": {},
     "output_type": "execute_result"
    },
    {
     "data": {
      "image/png": "[encoded data removed]",
      "text/plain": [
       "<Figure size 360x360 with 1 Axes>"
      ]
     },
     "metadata": {
      "needs_background": "light"
     },
     "output_type": "display_data"
    }
   ],
   "source": [
    "print(\"Prediction: \" + pred_data)\n",
    "\n",
    "plt.figure(figsize=(5, 5))\n",
    "plt.imshow(img)"
   ]
  }
 ],
 "metadata": {
  "kernelspec": {
   "display_name": "Yandex DataSphere Kernel",
   "language": "python",
   "name": "python3"
  },
  "language_info": {
   "codemirror_mode": {
    "name": "ipython",
    "version": 3
   },
   "file_extension": ".py",
   "mimetype": "text/x-python",
   "name": "python",
   "nbconvert_exporter": "python",
   "pygments_lexer": "ipython3",
   "version": "3.7.7"
  },
  "notebookId": "31552c0c-a145-45fe-b78b-efcba841c4a9",
  "notebookPath": "htr_methods_review/text_recognition/inference.ipynb"
 },
 "nbformat": 4,
 "nbformat_minor": 5
}
