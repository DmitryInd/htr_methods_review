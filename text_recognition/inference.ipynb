{
 "cells": [
  {
   "cell_type": "code",
   "execution_count": null,
   "id": "6a163c06",
   "metadata": {
    "cellId": "vsrc2evogr8iqas5ppvgcr"
   },
   "outputs": [],
   "source": [
    "%pip install timm\n",
    "%pip install torch==1.10.0"
   ]
  },
  {
   "cell_type": "code",
   "execution_count": 1,
   "id": "907c01a7",
   "metadata": {
    "cellId": "n51qtb9gxkmdrarkysswhn"
   },
   "outputs": [],
   "source": [
    "CONFIG_PATH = './configs/for_handwritten_names/LSTM-CTCLoss-for-handwritten-names.json'\n",
    "DEVICE = 'cuda'"
   ]
  },
  {
   "cell_type": "markdown",
   "id": "60155e66",
   "metadata": {
    "cellId": "ywhztrwrxojqexq1ih2kva"
   },
   "source": [
    "### Обучение модели"
   ]
  },
  {
   "cell_type": "code",
   "execution_count": 3,
   "id": "a56bb859",
   "metadata": {
    "cellId": "pgi7ebjwmlrdcm7wmvwmn"
   },
   "outputs": [
    {
     "data": {
      "application/vnd.jupyter.widget-view+json": {
       "model_id": "1dd21a12bd9b4cc3a31dc6bbb2a9c56e",
       "version_major": 2,
       "version_minor": 0
      },
      "text/plain": [
       "HBox(children=(HTML(value=''), FloatProgress(value=0.0, max=87306240.0), HTML(value='')))"
      ]
     },
     "metadata": {},
     "output_type": "display_data"
    },
    {
     "name": "stderr",
     "output_type": "stream",
     "text": [
      "\r"
     ]
    },
    {
     "name": "stdout",
     "output_type": "stream",
     "text": [
      "INFO: DEVICE is cuda\n",
      "\n",
      "\n",
      "Validation\tacc: 0.0000, wer: 1.0000, cer: 1.0000, loop_time: 0m 11s\n",
      "\n",
      "Epoch 0, Loss: 19.34852, cer: 1.1677, LR: 0.0003721, loop_time: 4m 14s\n",
      "\n",
      "Validation\tacc: 0.0000, wer: 1.0000, cer: 0.9583, loop_time: 0m 11s\n",
      "Model weights saved\n",
      "\n",
      "Epoch 1, Loss: 2.92305, cer: 0.8439, LR: 0.0009089, loop_time: 4m 16s\n",
      "\n",
      "Validation\tacc: 0.0000, wer: 1.0000, cer: 0.8058, loop_time: 0m 11s\n",
      "\n",
      "Epoch 2, Loss: 2.81891, cer: 0.8018, LR: 0.0009988, loop_time: 4m 16s\n",
      "\n",
      "Validation\tacc: 0.0000, wer: 1.0000, cer: 0.8306, loop_time: 0m 11s\n",
      "\n",
      "Epoch 3, Loss: 2.77063, cer: 0.7968, LR: 0.0009890, loop_time: 4m 16s\n",
      "\n",
      "Validation\tacc: 0.0000, wer: 1.0000, cer: 0.8019, loop_time: 0m 11s\n",
      "\n",
      "Epoch 4, Loss: 2.75456, cer: 0.7941, LR: 0.0009698, loop_time: 4m 15s\n",
      "\n",
      "Validation\tacc: 0.0027, wer: 0.9974, cer: 0.7970, loop_time: 0m 11s\n",
      "Model weights saved\n",
      "\n",
      "Epoch 5, Loss: 2.74904, cer: 0.7955, LR: 0.0009414, loop_time: 4m 16s\n",
      "\n",
      "Validation\tacc: 0.0041, wer: 0.9960, cer: 0.7962, loop_time: 0m 11s\n",
      "Model weights saved\n",
      "Weights removed '../data/experiments/handwritten_names/model-0-0.0000.ckpt'\n",
      "\n",
      "Epoch 6, Loss: 2.74029, cer: 0.7921, LR: 0.0009044, loop_time: 4m 16s\n",
      "\n",
      "Validation\tacc: 0.0049, wer: 0.9953, cer: 0.7930, loop_time: 0m 11s\n",
      "Model weights saved\n",
      "Weights removed '../data/experiments/handwritten_names/model-4-0.0027.ckpt'\n",
      "\n",
      "Epoch 7, Loss: 2.73608, cer: 0.7963, LR: 0.0008596, loop_time: 4m 15s\n",
      "\n",
      "Validation\tacc: 0.0010, wer: 0.9990, cer: 0.8010, loop_time: 0m 11s\n",
      "\n",
      "Epoch 8, Loss: 2.72412, cer: 0.7946, LR: 0.0008077, loop_time: 4m 15s\n",
      "\n",
      "Validation\tacc: 0.0049, wer: 0.9953, cer: 0.7951, loop_time: 0m 11s\n",
      "\n",
      "Epoch 9, Loss: 2.72859, cer: 0.8014, LR: 0.0007499, loop_time: 4m 15s\n",
      "\n",
      "Validation\tacc: 0.0066, wer: 0.9936, cer: 0.8030, loop_time: 0m 11s\n",
      "Model weights saved\n",
      "Weights removed '../data/experiments/handwritten_names/model-5-0.0041.ckpt'\n",
      "\n",
      "Epoch 10, Loss: 2.70644, cer: 0.7951, LR: 0.0006872, loop_time: 4m 15s\n",
      "\n",
      "Validation\tacc: 0.0059, wer: 0.9943, cer: 0.7850, loop_time: 0m 11s\n",
      "\n",
      "Epoch 11, Loss: 2.68367, cer: 0.7906, LR: 0.0006208, loop_time: 4m 15s\n",
      "\n",
      "Validation\tacc: 0.0063, wer: 0.9939, cer: 0.7833, loop_time: 0m 11s\n",
      "\n",
      "Epoch 12, Loss: 2.64050, cer: 0.7758, LR: 0.0005521, loop_time: 4m 14s\n",
      "\n",
      "Validation\tacc: 0.0044, wer: 0.9958, cer: 0.7559, loop_time: 0m 11s\n",
      "\n",
      "Epoch 13, Loss: 2.48156, cer: 0.7236, LR: 0.0004824, loop_time: 4m 15s\n",
      "\n",
      "Validation\tacc: 0.0088, wer: 0.9915, cer: 0.7745, loop_time: 0m 11s\n",
      "Model weights saved\n",
      "Weights removed '../data/experiments/handwritten_names/model-6-0.0049.ckpt'\n",
      "\n",
      "Epoch 14, Loss: 2.19316, cer: 0.6507, LR: 0.0004130, loop_time: 4m 16s\n",
      "\n",
      "Validation\tacc: 0.0244, wer: 0.9762, cer: 0.6317, loop_time: 0m 11s\n",
      "Model weights saved\n",
      "Weights removed '../data/experiments/handwritten_names/model-9-0.0066.ckpt'\n",
      "\n",
      "Epoch 15, Loss: 1.80152, cer: 0.5411, LR: 0.0003454, loop_time: 4m 15s\n",
      "\n",
      "Validation\tacc: 0.1046, wer: 0.8998, cer: 0.4895, loop_time: 0m 11s\n",
      "Model weights saved\n",
      "Weights removed '../data/experiments/handwritten_names/model-13-0.0088.ckpt'\n",
      "\n",
      "Epoch 16, Loss: 1.46662, cer: 0.4440, LR: 0.0002807, loop_time: 4m 15s\n",
      "\n",
      "Validation\tacc: 0.1668, wer: 0.8372, cer: 0.3986, loop_time: 0m 11s\n",
      "Model weights saved\n",
      "Weights removed '../data/experiments/handwritten_names/model-14-0.0244.ckpt'\n",
      "\n",
      "Epoch 17, Loss: 1.24170, cer: 0.3765, LR: 0.0002203, loop_time: 4m 15s\n",
      "\n",
      "Validation\tacc: 0.2115, wer: 0.7954, cer: 0.3616, loop_time: 0m 11s\n",
      "Model weights saved\n",
      "Weights removed '../data/experiments/handwritten_names/model-15-0.1046.ckpt'\n",
      "\n",
      "Epoch 18, Loss: 1.09654, cer: 0.3348, LR: 0.0001653, loop_time: 4m 15s\n",
      "\n",
      "Validation\tacc: 0.2798, wer: 0.7252, cer: 0.3111, loop_time: 0m 11s\n",
      "Model weights saved\n",
      "Weights removed '../data/experiments/handwritten_names/model-16-0.1668.ckpt'\n",
      "\n",
      "Epoch 19, Loss: 0.99956, cer: 0.3020, LR: 0.0001169, loop_time: 4m 15s\n",
      "\n",
      "Validation\tacc: 0.3146, wer: 0.6941, cer: 0.2871, loop_time: 0m 11s\n",
      "Model weights saved\n",
      "Weights removed '../data/experiments/handwritten_names/model-17-0.2115.ckpt'\n",
      "\n",
      "Epoch 20, Loss: 0.92794, cer: 0.2818, LR: 0.0000759, loop_time: 4m 15s\n",
      "\n",
      "Validation\tacc: 0.2751, wer: 0.7305, cer: 0.3003, loop_time: 0m 11s\n",
      "\n",
      "Epoch 21, Loss: 0.88739, cer: 0.2686, LR: 0.0000432, loop_time: 4m 15s\n",
      "\n",
      "Validation\tacc: 0.3646, wer: 0.6403, cer: 0.2515, loop_time: 0m 11s\n",
      "Model weights saved\n",
      "Weights removed '../data/experiments/handwritten_names/model-18-0.2798.ckpt'\n",
      "\n",
      "Epoch 22, Loss: 0.85768, cer: 0.2613, LR: 0.0000193, loop_time: 4m 15s\n",
      "\n",
      "Validation\tacc: 0.3585, wer: 0.6469, cer: 0.2496, loop_time: 0m 11s\n",
      "\n",
      "Epoch 23, Loss: 0.84569, cer: 0.2568, LR: 0.0000048, loop_time: 4m 15s\n",
      "\n",
      "Validation\tacc: 0.3807, wer: 0.6245, cer: 0.2378, loop_time: 0m 11s\n",
      "Model weights saved\n",
      "Weights removed '../data/experiments/handwritten_names/model-19-0.3146.ckpt'\n",
      "\n",
      "Epoch 24, Loss: 0.84674, cer: 0.2541, LR: 0.0000000, loop_time: 4m 15s\n",
      "\n",
      "Validation\tacc: 0.3771, wer: 0.6283, cer: 0.2443, loop_time: 0m 11s\n"
     ]
    },
    {
     "data": {
      "image/png": "[encoded data removed]",
      "text/plain": [
       "<Figure size 864x576 with 2 Axes>"
      ]
     },
     "metadata": {
      "needs_background": "light"
     },
     "output_type": "display_data"
    },
    {
     "data": {
      "text/plain": [
       "<Figure size 432x288 with 0 Axes>"
      ]
     },
     "metadata": {},
     "output_type": "display_data"
    }
   ],
   "source": [
    "#!g1.1\n",
    "%run train.py --config_path \"{CONFIG_PATH}\""
   ]
  },
  {
   "cell_type": "markdown",
   "id": "dbe63d22",
   "metadata": {
    "cellId": "nc0wg0ebsqnxkl66zjj"
   },
   "source": [
    "### Тестирование модели"
   ]
  },
  {
   "cell_type": "code",
   "execution_count": 4,
   "id": "3ee922ef",
   "metadata": {
    "cellId": "rl6b3ydbw4jaz6yqa5sxrp"
   },
   "outputs": [],
   "source": [
    "import cv2\n",
    "import random\n",
    "\n",
    "from os import listdir\n",
    "from os.path import isfile, join\n",
    "from matplotlib import pyplot as plt\n",
    "\n",
    "from utils.predictor import OcrPredictor\n",
    "from utils.config import Config"
   ]
  },
  {
   "cell_type": "code",
   "execution_count": 5,
   "id": "b1f2d962",
   "metadata": {
    "cellId": "c7c263yxae9cr9yllf18o6"
   },
   "outputs": [
    {
     "data": {
      "text/plain": [
       "'../data/experiments/handwritten_names'"
      ]
     },
     "execution_count": 5,
     "metadata": {},
     "output_type": "execute_result"
    }
   ],
   "source": [
    "config = Config(CONFIG_PATH)\n",
    "models_directory = config.get(\"save_dir\")\n",
    "images_directory = '../data/handwritten_names/test_v2/test'\n",
    "\n",
    "models_directory # = '../data/experiments/test'"
   ]
  },
  {
   "cell_type": "code",
   "execution_count": 6,
   "id": "a3931ed0",
   "metadata": {
    "cellId": "wk4xw8vnxit8acs6ezvv"
   },
   "outputs": [],
   "source": [
    "images = [f for f in listdir(images_directory) if isfile(join(images_directory, f))]\n",
    "models = [f for f in listdir(models_directory) if isfile(join(models_directory, f))]"
   ]
  },
  {
   "cell_type": "code",
   "execution_count": 7,
   "id": "9b4e53f5",
   "metadata": {
    "cellId": "fi93vjfliscmr39ml9x83e"
   },
   "outputs": [
    {
     "data": {
      "text/plain": [
       "'../data/experiments/handwritten_names/model-23-0.3807.ckpt'"
      ]
     },
     "execution_count": 7,
     "metadata": {},
     "output_type": "execute_result"
    }
   ],
   "source": [
    "models = list(filter(lambda model_name: model_name[6:model_name.find('-', 6)].isdigit(), models))\n",
    "models = sorted(models, key=lambda model_name: int(model_name[6:model_name.find('-', 6)]), reverse=True)\n",
    "model_path = join(models_directory, models[0])\n",
    "model_path # = \"../data/experiments/handwritten_names/tiny-ViTSTR.ckpt\""
   ]
  },
  {
   "cell_type": "code",
   "execution_count": 8,
   "id": "42c69b53",
   "metadata": {
    "cellId": "nw6x3qgf8bg6rullo9yyi"
   },
   "outputs": [
    {
     "data": {
      "text/plain": [
       "'../data/handwritten_names/test_v2/test/TEST_28039.jpg'"
      ]
     },
     "execution_count": 8,
     "metadata": {},
     "output_type": "execute_result"
    }
   ],
   "source": [
    "image_path = join(images_directory, random.choice(images))\n",
    "image_path"
   ]
  },
  {
   "cell_type": "code",
   "execution_count": 9,
   "id": "def3e307",
   "metadata": {
    "cellId": "ukdiuhy0buquf80x97drb"
   },
   "outputs": [
    {
     "name": "stderr",
     "output_type": "stream",
     "text": [
      "Downloading: \"https://download.pytorch.org/models/resnet34-333f7ec4.pth\" to /tmp/xdg_cache/torch/hub/checkpoints/resnet34-333f7ec4.pth\n"
     ]
    },
    {
     "data": {
      "application/vnd.jupyter.widget-view+json": {
       "model_id": "69c265ef2b33454cb6c693c2a3d6cbe7",
       "version_major": 2,
       "version_minor": 0
      },
      "text/plain": [
       "HBox(children=(HTML(value=''), FloatProgress(value=0.0, max=87306240.0), HTML(value='')))"
      ]
     },
     "metadata": {},
     "output_type": "display_data"
    },
    {
     "name": "stdout",
     "output_type": "stream",
     "text": [
      "\n"
     ]
    }
   ],
   "source": [
    "#!g1.1\n",
    "predictor = OcrPredictor(\n",
    "    model_path=model_path,\n",
    "    config_path=CONFIG_PATH,\n",
    "    device=DEVICE\n",
    ")"
   ]
  },
  {
   "cell_type": "code",
   "execution_count": 10,
   "id": "64e73793",
   "metadata": {
    "cellId": "h5gnnntvieaft9do20xtq9"
   },
   "outputs": [],
   "source": [
    "img = cv2.imread(image_path)"
   ]
  },
  {
   "cell_type": "code",
   "execution_count": 11,
   "id": "56b1c71a",
   "metadata": {
    "cellId": "ow3e6v15fq0qhev5fz534b"
   },
   "outputs": [
    {
     "name": "stderr",
     "output_type": "stream",
     "text": [
      "/home/jupyter/.local/lib/python3.7/site-packages/torch/nn/modules/rnn.py:692: UserWarning: RNN module weights are not part of single contiguous chunk of memory. This means they need to be compacted at every call, possibly greatly increasing memory usage. To compact weights again call flatten_parameters(). (Triggered internally at  ../aten/src/ATen/native/cudnn/RNN.cpp:925.)\n",
      "  self.dropout, self.training, self.bidirectional, self.batch_first)\n"
     ]
    }
   ],
   "source": [
    "#!g1.1\n",
    "pred_data = predictor(img)"
   ]
  },
  {
   "cell_type": "code",
   "execution_count": 12,
   "id": "6796997b",
   "metadata": {
    "cellId": "g17uagjxac1d6cs4xnza8"
   },
   "outputs": [
    {
     "name": "stdout",
     "output_type": "stream",
     "text": [
      "Prediction: SAYAN\n"
     ]
    },
    {
     "data": {
      "text/plain": [
       "<matplotlib.image.AxesImage at 0x7f44fa5054d0>"
      ]
     },
     "execution_count": 12,
     "metadata": {},
     "output_type": "execute_result"
    },
    {
     "data": {
      "image/png": "[encoded data removed]",
      "text/plain": [
       "<Figure size 360x360 with 1 Axes>"
      ]
     },
     "metadata": {
      "needs_background": "light"
     },
     "output_type": "display_data"
    }
   ],
   "source": [
    "print(\"Prediction: \" + pred_data)\n",
    "\n",
    "plt.figure(figsize=(5, 5))\n",
    "plt.imshow(img)"
   ]
  }
 ],
 "metadata": {
  "kernelspec": {
   "display_name": "Yandex DataSphere Kernel",
   "language": "python",
   "name": "python3"
  },
  "language_info": {
   "codemirror_mode": {
    "name": "ipython",
    "version": 3
   },
   "file_extension": ".py",
   "mimetype": "text/x-python",
   "name": "python",
   "nbconvert_exporter": "python",
   "pygments_lexer": "ipython3",
   "version": "3.7.7"
  },
  "notebookId": "31552c0c-a145-45fe-b78b-efcba841c4a9",
  "notebookPath": "htr_methods_review/text_recognition/inference.ipynb"
 },
 "nbformat": 4,
 "nbformat_minor": 5
}
