{
 "cells": [
  {
   "cell_type": "code",
   "execution_count": 1,
   "id": "33d5feb4",
   "metadata": {
    "cellId": "vsrc2evogr8iqas5ppvgcr"
   },
   "outputs": [
    {
     "name": "stdout",
     "output_type": "stream",
     "text": [
      "Defaulting to user installation because normal site-packages is not writeable\n",
      "Requirement already satisfied: timm in /home/jupyter/.local/lib/python3.7/site-packages (0.4.12)\n",
      "Requirement already satisfied: torch>=1.4 in /home/jupyter/.local/lib/python3.7/site-packages (from timm) (1.10.0)\n",
      "Requirement already satisfied: torchvision in /usr/local/lib/python3.7/dist-packages (from timm) (0.7.0)\n",
      "Requirement already satisfied: typing-extensions in /kernel/lib/python3.7/site-packages (from torch>=1.4->timm) (4.1.1)\n",
      "Requirement already satisfied: numpy in /kernel/fallback/lib/python3.7/site-packages (from torchvision->timm) (1.19.4)\n",
      "Collecting torch>=1.4\n",
      "  Downloading torch-1.6.0-cp37-cp37m-manylinux1_x86_64.whl (748.8 MB)\n",
      "\u001b[K     |████████████████████████████████| 748.8 MB 5.5 kB/s \n",
      "\u001b[?25hRequirement already satisfied: pillow>=4.1.1 in /kernel/lib/python3.7/site-packages (from torchvision->timm) (9.1.0)\n",
      "Requirement already satisfied: future in /usr/local/lib/python3.7/dist-packages (from torch>=1.4->timm) (0.18.2)\n",
      "Installing collected packages: torch\n",
      "  Attempting uninstall: torch\n",
      "    Found existing installation: torch 1.10.0\n",
      "    Uninstalling torch-1.10.0:\n",
      "      Successfully uninstalled torch-1.10.0\n",
      "\u001b[33m  WARNING: The scripts convert-caffe2-to-onnx and convert-onnx-to-caffe2 are installed in '/home/jupyter/.local/bin' which is not on PATH.\n",
      "  Consider adding this directory to PATH or, if you prefer to suppress this warning, use --no-warn-script-location.\u001b[0m\n",
      "\u001b[31mERROR: pip's dependency resolver does not currently take into account all the packages that are installed. This behaviour is the source of the following dependency conflicts.\n",
      "mmdet 2.3.0rc0+c6b5ca2 requires Pillow<=6.2.2, but you have pillow 9.1.0 which is incompatible.\u001b[0m\n",
      "Successfully installed torch-1.6.0\n",
      "\u001b[33mWARNING: You are using pip version 21.0.1; however, version 22.0.4 is available.\n",
      "You should consider upgrading via the '/usr/local/bin/python3 -m pip install --upgrade pip' command.\u001b[0m\n",
      "Defaulting to user installation because normal site-packages is not writeable\n",
      "Collecting torch==1.10.0\n",
      "  Downloading torch-1.10.0-cp37-cp37m-manylinux1_x86_64.whl (881.9 MB)\n",
      "\u001b[K     |████████████████████████████████| 881.9 MB 5.5 kB/s \n",
      "\u001b[?25hRequirement already satisfied: typing-extensions in /kernel/lib/python3.7/site-packages (from torch==1.10.0) (4.1.1)\n",
      "Installing collected packages: torch\n",
      "  Attempting uninstall: torch\n",
      "    Found existing installation: torch 1.6.0\n",
      "    Uninstalling torch-1.6.0:\n",
      "      Successfully uninstalled torch-1.6.0\n",
      "\u001b[33m  WARNING: The scripts convert-caffe2-to-onnx, convert-onnx-to-caffe2 and torchrun are installed in '/home/jupyter/.local/bin' which is not on PATH.\n",
      "  Consider adding this directory to PATH or, if you prefer to suppress this warning, use --no-warn-script-location.\u001b[0m\n",
      "\u001b[31mERROR: pip's dependency resolver does not currently take into account all the packages that are installed. This behaviour is the source of the following dependency conflicts.\n",
      "torchvision 0.7.0 requires torch==1.6.0, but you have torch 1.10.0 which is incompatible.\n",
      "mmdet 2.3.0rc0+c6b5ca2 requires Pillow<=6.2.2, but you have pillow 9.1.0 which is incompatible.\n",
      "mmdet 2.3.0rc0+c6b5ca2 requires torch==1.6.0, but you have torch 1.10.0 which is incompatible.\n",
      "enot-utils 1.0.2 requires torch==1.6.0, but you have torch 1.10.0 which is incompatible.\u001b[0m\n",
      "Successfully installed torch-1.10.0\n",
      "\u001b[33mWARNING: You are using pip version 21.0.1; however, version 22.0.4 is available.\n",
      "You should consider upgrading via the '/usr/local/bin/python3 -m pip install --upgrade pip' command.\u001b[0m\n"
     ]
    }
   ],
   "source": [
    "%pip install timm\n",
    "%pip install torch==1.10.0"
   ]
  },
  {
   "cell_type": "code",
   "execution_count": 2,
   "id": "4957cab7",
   "metadata": {
    "cellId": "n51qtb9gxkmdrarkysswhn"
   },
   "outputs": [],
   "source": [
    "CONFIG_PATH = './configs/for_handwritten_names/base-ViTSTR-for-handwritten-names.json'\n",
    "DEVICE = 'cuda'"
   ]
  },
  {
   "cell_type": "markdown",
   "id": "3ce68be8",
   "metadata": {
    "cellId": "ywhztrwrxojqexq1ih2kva"
   },
   "source": [
    "### Обучение модели"
   ]
  },
  {
   "cell_type": "code",
   "execution_count": 4,
   "id": "cfa28d50",
   "metadata": {
    "cellId": "pgi7ebjwmlrdcm7wmvwmn"
   },
   "outputs": [
    {
     "data": {
      "application/vnd.jupyter.widget-view+json": {
       "model_id": "54fcfea0cd194dcd852c777c2c733d90",
       "version_major": 2,
       "version_minor": 0
      },
      "text/plain": [
       "HBox(children=(HTML(value=''), FloatProgress(value=0.0, max=346319111.0), HTML(value='')))"
      ]
     },
     "metadata": {},
     "output_type": "display_data"
    },
    {
     "name": "stderr",
     "output_type": "stream",
     "text": [
      "\r"
     ]
    },
    {
     "name": "stdout",
     "output_type": "stream",
     "text": [
      "INFO: DEVICE is cuda\n",
      "\n",
      "Loading pre-trained vision transformer weights from https://dl.fbaipublicfiles.com/deit/deit_base_patch16_224-b5f2ef4d.pth ...\n",
      "\n",
      "Validation\tacc: 0.0000, wer: 1.0012, cer: 10.4524, loop_time: 0m 17s\n",
      "\n",
      "Epoch 0, Loss: 1.45554, cer: 0.9576, LR: 0.0003721, loop_time: 5m 51s\n",
      "\n",
      "Validation\tacc: 0.0000, wer: 1.0002, cer: 0.9800, loop_time: 0m 16s\n",
      "Model weights saved\n",
      "\n",
      "Epoch 1, Loss: 0.57842, cer: 0.7609, LR: 0.0009089, loop_time: 6m 3s\n",
      "\n",
      "Validation\tacc: 0.0000, wer: 1.0005, cer: 0.4995, loop_time: 0m 16s\n",
      "\n",
      "Epoch 2, Loss: 0.47913, cer: 0.4194, LR: 0.0009988, loop_time: 5m 54s\n",
      "\n",
      "Validation\tacc: 0.0000, wer: 1.0006, cer: 0.4094, loop_time: 0m 16s\n",
      "\n",
      "Epoch 3, Loss: 0.38673, cer: 0.3743, LR: 0.0009890, loop_time: 5m 55s\n",
      "\n",
      "Validation\tacc: 0.0000, wer: 1.0017, cer: 0.6964, loop_time: 0m 16s\n",
      "\n",
      "Epoch 4, Loss: 0.35597, cer: 0.4030, LR: 0.0009698, loop_time: 5m 55s\n",
      "\n",
      "Validation\tacc: 0.0000, wer: 0.9820, cer: 0.2728, loop_time: 0m 16s\n",
      "\n",
      "Epoch 5, Loss: 0.33282, cer: 0.2991, LR: 0.0009414, loop_time: 5m 55s\n",
      "\n",
      "Validation\tacc: 0.0000, wer: 0.9923, cer: 0.2591, loop_time: 0m 16s\n",
      "\n",
      "Epoch 6, Loss: 0.33480, cer: 0.3133, LR: 0.0009044, loop_time: 5m 55s\n",
      "\n",
      "Validation\tacc: 0.0000, wer: 0.9921, cer: 0.3110, loop_time: 0m 16s\n",
      "\n",
      "Epoch 7, Loss: 0.30309, cer: 0.2723, LR: 0.0008596, loop_time: 5m 55s\n",
      "\n",
      "Validation\tacc: 0.0000, wer: 0.9914, cer: 0.2413, loop_time: 0m 16s\n",
      "\n",
      "Epoch 8, Loss: 0.29541, cer: 0.3955, LR: 0.0008077, loop_time: 5m 55s\n",
      "\n",
      "Validation\tacc: 0.0000, wer: 0.9916, cer: 0.2498, loop_time: 0m 16s\n",
      "\n",
      "Epoch 9, Loss: 0.27748, cer: 0.3035, LR: 0.0007499, loop_time: 5m 55s\n",
      "\n",
      "Validation\tacc: 0.0000, wer: 0.9935, cer: 0.4117, loop_time: 0m 16s\n",
      "\n",
      "Epoch 10, Loss: 0.27186, cer: 0.2627, LR: 0.0006872, loop_time: 5m 55s\n",
      "\n",
      "Validation\tacc: 0.0000, wer: 0.9943, cer: 0.2262, loop_time: 0m 16s\n",
      "\n",
      "Epoch 11, Loss: 0.26522, cer: 0.2823, LR: 0.0006208, loop_time: 5m 55s\n",
      "\n",
      "Validation\tacc: 0.0000, wer: 0.9956, cer: 0.5237, loop_time: 0m 16s\n",
      "\n",
      "Epoch 12, Loss: 0.24845, cer: 0.2794, LR: 0.0005521, loop_time: 5m 55s\n",
      "\n",
      "Validation\tacc: 0.0000, wer: 0.9902, cer: 0.2095, loop_time: 0m 16s\n",
      "\n",
      "Epoch 13, Loss: 0.22492, cer: 0.2206, LR: 0.0004824, loop_time: 5m 55s\n",
      "\n",
      "Validation\tacc: 0.0000, wer: 0.9872, cer: 0.2064, loop_time: 0m 16s\n",
      "\n",
      "Epoch 14, Loss: 0.22135, cer: 0.2190, LR: 0.0004130, loop_time: 5m 55s\n",
      "\n",
      "Validation\tacc: 0.0000, wer: 0.9900, cer: 0.2093, loop_time: 0m 16s\n",
      "\n",
      "Epoch 15, Loss: 0.20345, cer: 0.2180, LR: 0.0003454, loop_time: 5m 55s\n",
      "\n",
      "Validation\tacc: 0.0000, wer: 0.9897, cer: 0.1992, loop_time: 0m 16s\n",
      "\n",
      "Epoch 16, Loss: 0.20088, cer: 0.3119, LR: 0.0002807, loop_time: 5m 55s\n",
      "\n",
      "Validation\tacc: 0.0000, wer: 0.9882, cer: 0.3614, loop_time: 0m 16s\n",
      "\n",
      "Epoch 17, Loss: 0.18541, cer: 0.2383, LR: 0.0002203, loop_time: 5m 55s\n",
      "\n",
      "Validation\tacc: 0.0000, wer: 0.9918, cer: 0.2488, loop_time: 0m 16s\n",
      "\n",
      "Epoch 18, Loss: 0.18417, cer: 0.2128, LR: 0.0001653, loop_time: 5m 55s\n",
      "\n",
      "Validation\tacc: 0.0005, wer: 0.9840, cer: 0.2250, loop_time: 0m 16s\n",
      "Model weights saved\n",
      "\n",
      "Epoch 19, Loss: 0.17691, cer: 0.2328, LR: 0.0001169, loop_time: 5m 55s\n",
      "\n",
      "Validation\tacc: 0.0000, wer: 0.9868, cer: 0.2326, loop_time: 0m 16s\n",
      "\n",
      "Epoch 20, Loss: 0.16588, cer: 0.2063, LR: 0.0000759, loop_time: 5m 55s\n",
      "\n",
      "Validation\tacc: 0.0000, wer: 0.9913, cer: 0.2097, loop_time: 0m 16s\n",
      "\n",
      "Epoch 21, Loss: 0.16331, cer: 0.2106, LR: 0.0000432, loop_time: 5m 55s\n",
      "\n",
      "Validation\tacc: 0.0000, wer: 0.9863, cer: 0.2055, loop_time: 0m 16s\n",
      "\n",
      "Epoch 22, Loss: 0.16055, cer: 0.1982, LR: 0.0000193, loop_time: 5m 55s\n",
      "\n",
      "Validation\tacc: 0.0002, wer: 0.9880, cer: 0.1975, loop_time: 0m 16s\n",
      "\n",
      "Epoch 23, Loss: 0.15316, cer: 0.2011, LR: 0.0000048, loop_time: 5m 55s\n",
      "\n",
      "Validation\tacc: 0.0000, wer: 0.9885, cer: 0.2073, loop_time: 0m 16s\n",
      "\n",
      "Epoch 24, Loss: 0.15689, cer: 0.2040, LR: 0.0000000, loop_time: 5m 55s\n",
      "\n",
      "Validation\tacc: 0.0000, wer: 0.9848, cer: 0.2061, loop_time: 0m 16s\n"
     ]
    },
    {
     "data": {
      "image/png": "[encoded data removed]",
      "text/plain": [
       "<Figure size 864x576 with 2 Axes>"
      ]
     },
     "metadata": {
      "needs_background": "light"
     },
     "output_type": "display_data"
    },
    {
     "data": {
      "text/plain": [
       "<Figure size 432x288 with 0 Axes>"
      ]
     },
     "metadata": {},
     "output_type": "display_data"
    }
   ],
   "source": [
    "#!g1.1\n",
    "%run train.py --config_path \"{CONFIG_PATH}\""
   ]
  },
  {
   "cell_type": "markdown",
   "id": "91f97e9a",
   "metadata": {
    "cellId": "nc0wg0ebsqnxkl66zjj"
   },
   "source": [
    "### Тестирование модели"
   ]
  },
  {
   "cell_type": "code",
   "execution_count": 5,
   "id": "c556011a",
   "metadata": {
    "cellId": "rl6b3ydbw4jaz6yqa5sxrp"
   },
   "outputs": [],
   "source": [
    "import cv2\n",
    "import random\n",
    "\n",
    "from os import listdir\n",
    "from os.path import isfile, join\n",
    "from matplotlib import pyplot as plt\n",
    "\n",
    "from utils.predictor import OcrPredictor\n",
    "from utils.config import Config"
   ]
  },
  {
   "cell_type": "code",
   "execution_count": 6,
   "id": "560d0347",
   "metadata": {
    "cellId": "c7c263yxae9cr9yllf18o6"
   },
   "outputs": [
    {
     "data": {
      "text/plain": [
       "'../data/experiments/handwritten_names'"
      ]
     },
     "execution_count": 6,
     "metadata": {},
     "output_type": "execute_result"
    }
   ],
   "source": [
    "config = Config(CONFIG_PATH)\n",
    "models_directory = config.get(\"save_dir\")\n",
    "images_directory = '../data/handwritten_names/test_v2/test'\n",
    "\n",
    "models_directory # = '../data/experiments/test'"
   ]
  },
  {
   "cell_type": "code",
   "execution_count": 7,
   "id": "3ef1b33d",
   "metadata": {
    "cellId": "wk4xw8vnxit8acs6ezvv"
   },
   "outputs": [],
   "source": [
    "images = [f for f in listdir(images_directory) if isfile(join(images_directory, f))]\n",
    "models = [f for f in listdir(models_directory) if isfile(join(models_directory, f))]"
   ]
  },
  {
   "cell_type": "code",
   "execution_count": 8,
   "id": "1840a3c1",
   "metadata": {
    "cellId": "fi93vjfliscmr39ml9x83e"
   },
   "outputs": [
    {
     "data": {
      "text/plain": [
       "'../data/experiments/handwritten_names/model-18-0.0005.ckpt'"
      ]
     },
     "execution_count": 8,
     "metadata": {},
     "output_type": "execute_result"
    }
   ],
   "source": [
    "models = list(filter(lambda model_name: model_name[6:model_name.find('-', 6)].isdigit(), models))\n",
    "models = sorted(models, key=lambda model_name: int(model_name[6:model_name.find('-', 6)]), reverse=True)\n",
    "model_path = join(models_directory, models[0])\n",
    "model_path # = \"../data/experiments/handwritten_names/tiny-ViTSTR.ckpt\""
   ]
  },
  {
   "cell_type": "code",
   "execution_count": 9,
   "id": "e2b3769f",
   "metadata": {
    "cellId": "nw6x3qgf8bg6rullo9yyi"
   },
   "outputs": [
    {
     "data": {
      "text/plain": [
       "'../data/handwritten_names/test_v2/test/TEST_35093.jpg'"
      ]
     },
     "execution_count": 9,
     "metadata": {},
     "output_type": "execute_result"
    }
   ],
   "source": [
    "image_path = join(images_directory, random.choice(images))\n",
    "image_path"
   ]
  },
  {
   "cell_type": "code",
   "execution_count": 10,
   "id": "4658584b",
   "metadata": {
    "cellId": "ukdiuhy0buquf80x97drb"
   },
   "outputs": [
    {
     "name": "stderr",
     "output_type": "stream",
     "text": [
      "Downloading: \"https://dl.fbaipublicfiles.com/deit/deit_base_patch16_224-b5f2ef4d.pth\" to /tmp/xdg_cache/torch/hub/checkpoints/deit_base_patch16_224-b5f2ef4d.pth\n"
     ]
    },
    {
     "data": {
      "application/vnd.jupyter.widget-view+json": {
       "model_id": "6aa890a4e03e4daca792f02057bb3a17",
       "version_major": 2,
       "version_minor": 0
      },
      "text/plain": [
       "HBox(children=(HTML(value=''), FloatProgress(value=0.0, max=346319111.0), HTML(value='')))"
      ]
     },
     "metadata": {},
     "output_type": "display_data"
    },
    {
     "name": "stdout",
     "output_type": "stream",
     "text": [
      "\n",
      "Loading pre-trained vision transformer weights from https://dl.fbaipublicfiles.com/deit/deit_base_patch16_224-b5f2ef4d.pth ...\n"
     ]
    }
   ],
   "source": [
    "#!g1.1\n",
    "predictor = OcrPredictor(\n",
    "    model_path=model_path,\n",
    "    config_path=CONFIG_PATH,\n",
    "    device=DEVICE\n",
    ")"
   ]
  },
  {
   "cell_type": "code",
   "execution_count": 11,
   "id": "7025519b",
   "metadata": {
    "cellId": "h5gnnntvieaft9do20xtq9"
   },
   "outputs": [],
   "source": [
    "img = cv2.imread(image_path)"
   ]
  },
  {
   "cell_type": "code",
   "execution_count": 12,
   "id": "3f9b4c52",
   "metadata": {
    "cellId": "ow3e6v15fq0qhev5fz534b"
   },
   "outputs": [],
   "source": [
    "#!g1.1\n",
    "pred_data = predictor(img)"
   ]
  },
  {
   "cell_type": "code",
   "execution_count": 13,
   "id": "2e0cc663",
   "metadata": {
    "cellId": "g17uagjxac1d6cs4xnza8"
   },
   "outputs": [
    {
     "name": "stdout",
     "output_type": "stream",
     "text": [
      "Prediction: BBIANCO\n"
     ]
    },
    {
     "data": {
      "text/plain": [
       "<matplotlib.image.AxesImage at 0x7f5ff0cbaf50>"
      ]
     },
     "execution_count": 13,
     "metadata": {},
     "output_type": "execute_result"
    },
    {
     "data": {
      "image/png": "[encoded data removed]",
      "text/plain": [
       "<Figure size 360x360 with 1 Axes>"
      ]
     },
     "metadata": {
      "needs_background": "light"
     },
     "output_type": "display_data"
    }
   ],
   "source": [
    "print(\"Prediction: \" + pred_data)\n",
    "\n",
    "plt.figure(figsize=(5, 5))\n",
    "plt.imshow(img)"
   ]
  }
 ],
 "metadata": {
  "kernelspec": {
   "display_name": "Yandex DataSphere Kernel",
   "language": "python",
   "name": "python3"
  },
  "language_info": {
   "codemirror_mode": {
    "name": "ipython",
    "version": 3
   },
   "file_extension": ".py",
   "mimetype": "text/x-python",
   "name": "python",
   "nbconvert_exporter": "python",
   "pygments_lexer": "ipython3",
   "version": "3.7.7"
  },
  "notebookId": "31552c0c-a145-45fe-b78b-efcba841c4a9",
  "notebookPath": "htr_methods_review/text_recognition/inference.ipynb"
 },
 "nbformat": 4,
 "nbformat_minor": 5
}
