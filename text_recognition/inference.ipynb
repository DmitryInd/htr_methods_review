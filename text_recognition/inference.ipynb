{
 "cells": [
  {
   "cell_type": "code",
   "execution_count": null,
   "id": "955f41e6",
   "metadata": {
    "cellId": "vsrc2evogr8iqas5ppvgcr"
   },
   "outputs": [],
   "source": [
    "%pip install timm\n",
    "%pip install torch==1.10.0"
   ]
  },
  {
   "cell_type": "code",
   "execution_count": 1,
   "id": "1b9757ca",
   "metadata": {
    "cellId": "n51qtb9gxkmdrarkysswhn"
   },
   "outputs": [],
   "source": [
    "CONFIG_PATH = './configs/for_handwritten_names/tiny-ViTSTR-for-handwritten-names.json'\n",
    "DEVICE = 'cuda'"
   ]
  },
  {
   "cell_type": "markdown",
   "id": "351e425b",
   "metadata": {
    "cellId": "ywhztrwrxojqexq1ih2kva"
   },
   "source": [
    "### Обучение модели"
   ]
  },
  {
   "cell_type": "code",
   "execution_count": 16,
   "id": "1967836f",
   "metadata": {
    "cellId": "pgi7ebjwmlrdcm7wmvwmn"
   },
   "outputs": [
    {
     "data": {
      "application/vnd.jupyter.widget-view+json": {
       "model_id": "f644e71a44c3421e902da4a4c8269d8f",
       "version_major": 2,
       "version_minor": 0
      },
      "text/plain": [
       "HBox(children=(HTML(value=''), FloatProgress(value=0.0, max=22917895.0), HTML(value='')))"
      ]
     },
     "metadata": {},
     "output_type": "display_data"
    },
    {
     "name": "stderr",
     "output_type": "stream",
     "text": [
      "\r"
     ]
    },
    {
     "name": "stdout",
     "output_type": "stream",
     "text": [
      "INFO: DEVICE is cuda\n",
      "\n",
      "Loading pre-trained vision transformer weights from https://dl.fbaipublicfiles.com/deit/deit_tiny_patch16_224-a1311bcf.pth ...\n",
      "\n",
      "Validation\tacc: 0.0000, wer: 1.0016, cer: 10.3117, loop_time: 0m 5s\n",
      "\n",
      "Epoch 0, Loss: 1.91727, cer: 0.8237, LR: 0.0003721, loop_time: 1m 24s\n",
      "\n",
      "Validation\tacc: 0.0002, wer: 1.0071, cer: 0.4626, loop_time: 0m 5s\n",
      "Model weights saved\n",
      "\n",
      "Epoch 1, Loss: 0.83256, cer: 0.4348, LR: 0.0009089, loop_time: 1m 44s\n",
      "\n",
      "Validation\tacc: 0.0000, wer: 1.0033, cer: 0.4915, loop_time: 0m 6s\n",
      "\n",
      "Epoch 2, Loss: 0.63619, cer: 0.3659, LR: 0.0009988, loop_time: 1m 31s\n",
      "\n",
      "Validation\tacc: 0.0000, wer: 0.9993, cer: 0.3352, loop_time: 0m 8s\n",
      "\n",
      "Epoch 3, Loss: 0.48871, cer: 0.3009, LR: 0.0009890, loop_time: 1m 40s\n",
      "\n",
      "Validation\tacc: 0.0000, wer: 0.9576, cer: 0.3092, loop_time: 0m 4s\n",
      "\n",
      "Epoch 4, Loss: 0.39702, cer: 0.2729, LR: 0.0009698, loop_time: 1m 36s\n",
      "\n",
      "Validation\tacc: 0.0139, wer: 0.9812, cer: 0.2473, loop_time: 0m 10s\n",
      "Model weights saved\n",
      "\n",
      "Epoch 5, Loss: 0.37319, cer: 0.2595, LR: 0.0009414, loop_time: 1m 36s\n",
      "\n",
      "Validation\tacc: 0.0059, wer: 0.9884, cer: 0.2424, loop_time: 0m 5s\n",
      "\n",
      "Epoch 6, Loss: 0.33770, cer: 0.2474, LR: 0.0009044, loop_time: 1m 27s\n",
      "\n",
      "Validation\tacc: 0.0002, wer: 0.9961, cer: 0.2327, loop_time: 0m 14s\n",
      "\n",
      "Epoch 7, Loss: 0.32378, cer: 0.2382, LR: 0.0008596, loop_time: 1m 24s\n",
      "\n",
      "Validation\tacc: 0.0000, wer: 0.9956, cer: 0.2300, loop_time: 0m 9s\n",
      "\n",
      "Epoch 8, Loss: 0.30431, cer: 0.2388, LR: 0.0008077, loop_time: 1m 27s\n",
      "\n",
      "Validation\tacc: 0.0000, wer: 0.9727, cer: 0.2435, loop_time: 0m 16s\n",
      "\n",
      "Epoch 9, Loss: 0.29579, cer: 0.2334, LR: 0.0007499, loop_time: 1m 23s\n",
      "\n",
      "Validation\tacc: 0.0005, wer: 0.9933, cer: 0.2337, loop_time: 0m 4s\n",
      "\n",
      "Epoch 10, Loss: 0.27480, cer: 0.2351, LR: 0.0006872, loop_time: 1m 35s\n",
      "\n",
      "Validation\tacc: 0.0302, wer: 0.9570, cer: 0.2152, loop_time: 0m 4s\n",
      "Model weights saved\n",
      "Weights removed '../data/experiments/handwritten_names/model-0-0.0002.ckpt'\n",
      "\n",
      "Epoch 11, Loss: 0.26313, cer: 0.2178, LR: 0.0006208, loop_time: 1m 22s\n",
      "\n",
      "Validation\tacc: 0.0737, wer: 0.9164, cer: 0.2137, loop_time: 0m 16s\n",
      "Model weights saved\n",
      "Weights removed '../data/experiments/handwritten_names/model-4-0.0139.ckpt'\n",
      "\n",
      "Epoch 12, Loss: 0.25942, cer: 0.2181, LR: 0.0005521, loop_time: 1m 20s\n",
      "\n",
      "Validation\tacc: 0.0105, wer: 0.9827, cer: 0.2145, loop_time: 0m 4s\n",
      "\n",
      "Epoch 13, Loss: 0.23895, cer: 0.2087, LR: 0.0004824, loop_time: 1m 25s\n",
      "\n",
      "Validation\tacc: 0.0356, wer: 0.9513, cer: 0.2026, loop_time: 0m 13s\n",
      "\n",
      "Epoch 14, Loss: 0.22940, cer: 0.2099, LR: 0.0004130, loop_time: 1m 25s\n",
      "\n",
      "Validation\tacc: 0.0461, wer: 0.9484, cer: 0.2082, loop_time: 0m 4s\n",
      "\n",
      "Epoch 15, Loss: 0.22148, cer: 0.1959, LR: 0.0003454, loop_time: 1m 28s\n",
      "\n",
      "Validation\tacc: 0.1215, wer: 0.8660, cer: 0.1916, loop_time: 0m 10s\n",
      "Model weights saved\n",
      "Weights removed '../data/experiments/handwritten_names/model-10-0.0302.ckpt'\n",
      "\n",
      "Epoch 16, Loss: 0.20401, cer: 0.1821, LR: 0.0002807, loop_time: 1m 15s\n",
      "\n",
      "Validation\tacc: 0.1102, wer: 0.8787, cer: 0.1867, loop_time: 0m 8s\n",
      "\n",
      "Epoch 17, Loss: 0.20083, cer: 0.1842, LR: 0.0002203, loop_time: 1m 28s\n",
      "\n",
      "Validation\tacc: 0.0422, wer: 0.9455, cer: 0.1969, loop_time: 0m 7s\n",
      "\n",
      "Epoch 18, Loss: 0.19665, cer: 0.1862, LR: 0.0001653, loop_time: 1m 21s\n",
      "\n",
      "Validation\tacc: 0.0702, wer: 0.9198, cer: 0.1896, loop_time: 0m 5s\n",
      "\n",
      "Epoch 19, Loss: 0.18954, cer: 0.1690, LR: 0.0001169, loop_time: 1m 32s\n",
      "\n",
      "Validation\tacc: 0.0978, wer: 0.8853, cer: 0.1867, loop_time: 0m 5s\n",
      "\n",
      "Epoch 20, Loss: 0.18041, cer: 0.1684, LR: 0.0000759, loop_time: 1m 15s\n",
      "\n",
      "Validation\tacc: 0.2044, wer: 0.7895, cer: 0.1651, loop_time: 0m 11s\n",
      "Model weights saved\n",
      "Weights removed '../data/experiments/handwritten_names/model-11-0.0737.ckpt'\n",
      "\n",
      "Epoch 21, Loss: 0.17376, cer: 0.1568, LR: 0.0000432, loop_time: 1m 26s\n",
      "\n",
      "Validation\tacc: 0.2359, wer: 0.7576, cer: 0.1598, loop_time: 0m 4s\n",
      "Model weights saved\n",
      "Weights removed '../data/experiments/handwritten_names/model-15-0.1215.ckpt'\n",
      "\n",
      "Epoch 22, Loss: 0.17779, cer: 0.1619, LR: 0.0000193, loop_time: 1m 21s\n",
      "\n",
      "Validation\tacc: 0.1778, wer: 0.8119, cer: 0.1716, loop_time: 0m 4s\n",
      "\n",
      "Epoch 23, Loss: 0.16638, cer: 0.1588, LR: 0.0000048, loop_time: 1m 32s\n",
      "\n",
      "Validation\tacc: 0.1807, wer: 0.8056, cer: 0.1702, loop_time: 0m 4s\n",
      "\n",
      "Epoch 24, Loss: 0.16513, cer: 0.1607, LR: 0.0000000, loop_time: 1m 15s\n",
      "\n",
      "Validation\tacc: 0.1822, wer: 0.8078, cer: 0.1673, loop_time: 0m 13s\n"
     ]
    },
    {
     "data": {
      "image/png": "[encoded data removed]",
      "text/plain": [
       "<Figure size 864x576 with 2 Axes>"
      ]
     },
     "metadata": {
      "needs_background": "light"
     },
     "output_type": "display_data"
    },
    {
     "data": {
      "text/plain": [
       "<Figure size 432x288 with 0 Axes>"
      ]
     },
     "metadata": {},
     "output_type": "display_data"
    }
   ],
   "source": [
    "#!g1.1\n",
    "%run train.py --config_path \"{CONFIG_PATH}\""
   ]
  },
  {
   "cell_type": "markdown",
   "id": "bf36cd57",
   "metadata": {
    "cellId": "nc0wg0ebsqnxkl66zjj"
   },
   "source": [
    "### Тестирование модели"
   ]
  },
  {
   "cell_type": "code",
   "execution_count": 17,
   "id": "a628aece",
   "metadata": {
    "cellId": "rl6b3ydbw4jaz6yqa5sxrp"
   },
   "outputs": [],
   "source": [
    "import cv2\n",
    "import random\n",
    "\n",
    "from os import listdir\n",
    "from os.path import isfile, join\n",
    "from matplotlib import pyplot as plt\n",
    "\n",
    "from utils.predictor import OcrPredictor\n",
    "from utils.config import Config"
   ]
  },
  {
   "cell_type": "code",
   "execution_count": 18,
   "id": "7ee323b4",
   "metadata": {
    "cellId": "c7c263yxae9cr9yllf18o6"
   },
   "outputs": [
    {
     "data": {
      "text/plain": [
       "'../data/experiments/handwritten_names'"
      ]
     },
     "execution_count": 18,
     "metadata": {},
     "output_type": "execute_result"
    }
   ],
   "source": [
    "config = Config(CONFIG_PATH)\n",
    "models_directory = config.get(\"save_dir\")\n",
    "images_directory = '../data/handwritten_names/test_v2/test'\n",
    "\n",
    "models_directory # = '../data/experiments/test'"
   ]
  },
  {
   "cell_type": "code",
   "execution_count": 19,
   "id": "7ccd2f4a",
   "metadata": {
    "cellId": "wk4xw8vnxit8acs6ezvv"
   },
   "outputs": [],
   "source": [
    "images = [f for f in listdir(images_directory) if isfile(join(images_directory, f))]\n",
    "models = [f for f in listdir(models_directory) if isfile(join(models_directory, f))]"
   ]
  },
  {
   "cell_type": "code",
   "execution_count": 21,
   "id": "c25a3972",
   "metadata": {
    "cellId": "fi93vjfliscmr39ml9x83e"
   },
   "outputs": [
    {
     "data": {
      "text/plain": [
       "'../data/experiments/handwritten_names/model-21-0.2359.ckpt'"
      ]
     },
     "execution_count": 21,
     "metadata": {},
     "output_type": "execute_result"
    }
   ],
   "source": [
    "models = list(filter(lambda model_name: model_name[6:model_name.find('-', 6)].isdigit(), models))\n",
    "models = sorted(models, key=lambda model_name: int(model_name[6:model_name.find('-', 6)]), reverse=True)\n",
    "model_path = join(models_directory, models[0])\n",
    "model_path # = \"../data/experiments/handwritten_names/tiny-ViTSTR.ckpt\""
   ]
  },
  {
   "cell_type": "code",
   "execution_count": 22,
   "id": "e629426b",
   "metadata": {
    "cellId": "nw6x3qgf8bg6rullo9yyi"
   },
   "outputs": [],
   "source": [
    "image_path = join(images_directory, random.choice(images))\n",
    "image_path"
   ]
  },
  {
   "cell_type": "code",
   "execution_count": 23,
   "id": "eafe8c8e",
   "metadata": {
    "cellId": "ukdiuhy0buquf80x97drb"
   },
   "outputs": [
    {
     "name": "stderr",
     "output_type": "stream",
     "text": [
      "Downloading: \"https://dl.fbaipublicfiles.com/deit/deit_tiny_patch16_224-a1311bcf.pth\" to /tmp/xdg_cache/torch/hub/checkpoints/deit_tiny_patch16_224-a1311bcf.pth\n"
     ]
    },
    {
     "data": {
      "application/vnd.jupyter.widget-view+json": {
       "model_id": "8ec95f2e2169479ab8d7679b8f3d0eea",
       "version_major": 2,
       "version_minor": 0
      },
      "text/plain": [
       "HBox(children=(HTML(value=''), FloatProgress(value=0.0, max=22917895.0), HTML(value='')))"
      ]
     },
     "metadata": {},
     "output_type": "display_data"
    },
    {
     "name": "stdout",
     "output_type": "stream",
     "text": [
      "\n",
      "Loading pre-trained vision transformer weights from https://dl.fbaipublicfiles.com/deit/deit_tiny_patch16_224-a1311bcf.pth ...\n"
     ]
    }
   ],
   "source": [
    "#!g1.1\n",
    "predictor = OcrPredictor(\n",
    "    model_path=model_path,\n",
    "    config_path=CONFIG_PATH,\n",
    "    device=DEVICE\n",
    ")"
   ]
  },
  {
   "cell_type": "code",
   "execution_count": 24,
   "id": "16ecd1ba",
   "metadata": {
    "cellId": "h5gnnntvieaft9do20xtq9"
   },
   "outputs": [],
   "source": [
    "img = cv2.imread(image_path)"
   ]
  },
  {
   "cell_type": "code",
   "execution_count": 25,
   "id": "896ed753",
   "metadata": {
    "cellId": "ow3e6v15fq0qhev5fz534b"
   },
   "outputs": [],
   "source": [
    "#!g1.1\n",
    "pred_data = predictor(img)"
   ]
  },
  {
   "cell_type": "code",
   "execution_count": 26,
   "id": "8a122c06",
   "metadata": {
    "cellId": "g17uagjxac1d6cs4xnza8"
   },
   "outputs": [
    {
     "name": "stdout",
     "output_type": "stream",
     "text": [
      "Prediction: IEL HADIDI\n"
     ]
    },
    {
     "data": {
      "text/plain": [
       "<matplotlib.image.AxesImage at 0x7fe417491650>"
      ]
     },
     "execution_count": 26,
     "metadata": {},
     "output_type": "execute_result"
    },
    {
     "data": {
      "image/png": "[encoded data removed]",
      "text/plain": [
       "<Figure size 360x360 with 1 Axes>"
      ]
     },
     "metadata": {
      "needs_background": "light"
     },
     "output_type": "display_data"
    }
   ],
   "source": [
    "print(\"Prediction: \" + pred_data)\n",
    "\n",
    "plt.figure(figsize=(5, 5))\n",
    "plt.imshow(img)"
   ]
  }
 ],
 "metadata": {
  "kernelspec": {
   "display_name": "Yandex DataSphere Kernel",
   "language": "python",
   "name": "python3"
  },
  "language_info": {
   "codemirror_mode": {
    "name": "ipython",
    "version": 3
   },
   "file_extension": ".py",
   "mimetype": "text/x-python",
   "name": "python",
   "nbconvert_exporter": "python",
   "pygments_lexer": "ipython3",
   "version": "3.7.7"
  },
  "notebookId": "31552c0c-a145-45fe-b78b-efcba841c4a9",
  "notebookPath": "htr_methods_review/text_recognition/inference.ipynb"
 },
 "nbformat": 4,
 "nbformat_minor": 5
}
