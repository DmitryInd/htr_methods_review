{
 "cells": [
  {
   "cell_type": "code",
   "execution_count": 9,
   "id": "755359d8",
   "metadata": {
    "cellId": "vsrc2evogr8iqas5ppvgcr"
   },
   "outputs": [
    {
     "name": "stdout",
     "output_type": "stream",
     "text": [
      "Defaulting to user installation because normal site-packages is not writeable\n",
      "Requirement already satisfied: timm in /home/jupyter/.local/lib/python3.7/site-packages (0.4.12)\n",
      "Requirement already satisfied: torchvision in /usr/local/lib/python3.7/dist-packages (from timm) (0.7.0)\n",
      "Requirement already satisfied: torch>=1.4 in /home/jupyter/.local/lib/python3.7/site-packages (from timm) (1.10.0)\n",
      "Requirement already satisfied: typing-extensions in /kernel/lib/python3.7/site-packages (from torch>=1.4->timm) (4.1.1)\n",
      "Requirement already satisfied: numpy in /kernel/lib/python3.7/site-packages (from torchvision->timm) (1.19.4)\n",
      "Requirement already satisfied: pillow>=4.1.1 in /kernel/lib/python3.7/site-packages (from torchvision->timm) (9.0.1)\n",
      "Collecting torch>=1.4\n",
      "  Downloading torch-1.6.0-cp37-cp37m-manylinux1_x86_64.whl (748.8 MB)\n",
      "\u001b[K     |████████████████████████████████| 748.8 MB 5.5 kB/s \n",
      "\u001b[?25hRequirement already satisfied: future in /usr/local/lib/python3.7/dist-packages (from torch>=1.4->timm) (0.18.2)\n",
      "Installing collected packages: torch\n",
      "  Attempting uninstall: torch\n",
      "    Found existing installation: torch 1.10.0\n",
      "    Uninstalling torch-1.10.0:\n",
      "      Successfully uninstalled torch-1.10.0\n",
      "\u001b[33m  WARNING: The scripts convert-caffe2-to-onnx and convert-onnx-to-caffe2 are installed in '/home/jupyter/.local/bin' which is not on PATH.\n",
      "  Consider adding this directory to PATH or, if you prefer to suppress this warning, use --no-warn-script-location.\u001b[0m\n",
      "\u001b[31mERROR: pip's dependency resolver does not currently take into account all the packages that are installed. This behaviour is the source of the following dependency conflicts.\n",
      "mmdet 2.3.0rc0+c6b5ca2 requires Pillow<=6.2.2, but you have pillow 9.0.1 which is incompatible.\u001b[0m\n",
      "Successfully installed torch-1.6.0\n",
      "\u001b[33mWARNING: You are using pip version 21.0.1; however, version 22.0.4 is available.\n",
      "You should consider upgrading via the '/usr/local/bin/python3 -m pip install --upgrade pip' command.\u001b[0m\n",
      "Defaulting to user installation because normal site-packages is not writeable\n",
      "Collecting torch==1.10.0\n",
      "  Downloading torch-1.10.0-cp37-cp37m-manylinux1_x86_64.whl (881.9 MB)\n",
      "\u001b[K     |████████████████████████████████| 881.9 MB 5.5 kB/s \n",
      "\u001b[?25hRequirement already satisfied: typing-extensions in /kernel/lib/python3.7/site-packages (from torch==1.10.0) (4.1.1)\n",
      "Installing collected packages: torch\n",
      "  Attempting uninstall: torch\n",
      "    Found existing installation: torch 1.6.0\n",
      "    Uninstalling torch-1.6.0:\n",
      "      Successfully uninstalled torch-1.6.0\n",
      "\u001b[33m  WARNING: The scripts convert-caffe2-to-onnx, convert-onnx-to-caffe2 and torchrun are installed in '/home/jupyter/.local/bin' which is not on PATH.\n",
      "  Consider adding this directory to PATH or, if you prefer to suppress this warning, use --no-warn-script-location.\u001b[0m\n",
      "\u001b[31mERROR: pip's dependency resolver does not currently take into account all the packages that are installed. This behaviour is the source of the following dependency conflicts.\n",
      "torchvision 0.7.0 requires torch==1.6.0, but you have torch 1.10.0 which is incompatible.\n",
      "mmdet 2.3.0rc0+c6b5ca2 requires Pillow<=6.2.2, but you have pillow 9.0.1 which is incompatible.\n",
      "mmdet 2.3.0rc0+c6b5ca2 requires torch==1.6.0, but you have torch 1.10.0 which is incompatible.\n",
      "enot-utils 1.0.2 requires torch==1.6.0, but you have torch 1.10.0 which is incompatible.\u001b[0m\n",
      "Successfully installed torch-1.10.0\n",
      "\u001b[33mWARNING: You are using pip version 21.0.1; however, version 22.0.4 is available.\n",
      "You should consider upgrading via the '/usr/local/bin/python3 -m pip install --upgrade pip' command.\u001b[0m\n"
     ]
    }
   ],
   "source": [
    "%pip install timm\n",
    "%pip install torch==1.10.0"
   ]
  },
  {
   "cell_type": "markdown",
   "id": "3688ee21",
   "metadata": {
    "cellId": "ywhztrwrxojqexq1ih2kva"
   },
   "source": [
    "### Обучение модели"
   ]
  },
  {
   "cell_type": "code",
   "execution_count": 14,
   "id": "e481d14b",
   "metadata": {
    "cellId": "pgi7ebjwmlrdcm7wmvwmn"
   },
   "outputs": [
    {
     "name": "stderr",
     "output_type": "stream",
     "text": [
      "\r"
     ]
    },
    {
     "name": "stdout",
     "output_type": "stream",
     "text": [
      "INFO: DEVICE is cuda\n",
      "Loading pre-trained vision transformer weights from https://dl.fbaipublicfiles.com/deit/deit_tiny_patch16_224-a1311bcf.pth ...\n",
      "\n",
      "Validation\tacc: 0.0000, wer: 1.0373, cer: 9.8598, loop_time: 0m 5s\n",
      "\n",
      "Epoch 0, Loss: 2.58208, cer: 1.2238, LR: 0.0001318, loop_time: 0m 41s\n",
      "\n",
      "Validation\tacc: 0.0000, wer: 1.0000, cer: 0.8360, loop_time: 0m 4s\n",
      "Model weights saved\n",
      "\n",
      "Epoch 1, Loss: 1.56934, cer: 0.6508, LR: 0.0003721, loop_time: 0m 54s\n",
      "\n",
      "Validation\tacc: 0.0000, wer: 0.9993, cer: 0.5282, loop_time: 0m 4s\n",
      "\n",
      "Epoch 2, Loss: 0.98551, cer: 0.4698, LR: 0.0006690, loop_time: 0m 55s\n",
      "\n",
      "Validation\tacc: 0.0000, wer: 1.0014, cer: 0.4064, loop_time: 0m 4s\n",
      "\n",
      "Epoch 3, Loss: 0.76787, cer: 0.4071, LR: 0.0009089, loop_time: 0m 52s\n",
      "\n",
      "Validation\tacc: 0.0000, wer: 0.9903, cer: 0.4162, loop_time: 0m 4s\n",
      "\n",
      "Epoch 4, Loss: 0.66979, cer: 0.4091, LR: 0.0010000, loop_time: 0m 46s\n",
      "\n",
      "Validation\tacc: 0.0000, wer: 1.0013, cer: 0.3623, loop_time: 0m 9s\n",
      "\n",
      "Epoch 5, Loss: 0.58333, cer: 0.4113, LR: 0.0009988, loop_time: 0m 43s\n",
      "\n",
      "Validation\tacc: 0.0000, wer: 0.9995, cer: 0.3231, loop_time: 0m 13s\n",
      "\n",
      "Epoch 6, Loss: 0.51320, cer: 0.3660, LR: 0.0009951, loop_time: 0m 33s\n",
      "\n",
      "Validation\tacc: 0.0000, wer: 0.9984, cer: 0.4037, loop_time: 0m 12s\n",
      "\n",
      "Epoch 7, Loss: 0.45861, cer: 0.3402, LR: 0.0009890, loop_time: 0m 46s\n",
      "\n",
      "Validation\tacc: 0.0000, wer: 0.9994, cer: 0.3887, loop_time: 0m 9s\n",
      "\n",
      "Epoch 8, Loss: 0.40359, cer: 0.3537, LR: 0.0009806, loop_time: 0m 46s\n",
      "\n",
      "Validation\tacc: 0.0000, wer: 0.9961, cer: 0.3400, loop_time: 0m 4s\n",
      "\n",
      "Epoch 9, Loss: 0.39325, cer: 0.3401, LR: 0.0009698, loop_time: 0m 50s\n",
      "\n",
      "Validation\tacc: 0.0000, wer: 0.9978, cer: 0.2899, loop_time: 0m 4s\n",
      "\n",
      "Epoch 10, Loss: 0.37225, cer: 0.2887, LR: 0.0009567, loop_time: 0m 49s\n",
      "\n",
      "Validation\tacc: 0.0000, wer: 1.0003, cer: 0.3034, loop_time: 0m 4s\n",
      "\n",
      "Epoch 11, Loss: 0.35522, cer: 0.2793, LR: 0.0009414, loop_time: 0m 48s\n",
      "\n",
      "Validation\tacc: 0.0000, wer: 0.9959, cer: 0.2615, loop_time: 0m 4s\n",
      "\n",
      "Epoch 12, Loss: 0.35019, cer: 0.2988, LR: 0.0009240, loop_time: 0m 53s\n",
      "\n",
      "Validation\tacc: 0.0000, wer: 0.9982, cer: 0.3650, loop_time: 0m 4s\n",
      "\n",
      "Epoch 13, Loss: 0.33765, cer: 0.3047, LR: 0.0009044, loop_time: 0m 46s\n",
      "\n",
      "Validation\tacc: 0.0000, wer: 0.9909, cer: 0.2519, loop_time: 0m 7s\n",
      "\n",
      "Epoch 14, Loss: 0.33018, cer: 0.2941, LR: 0.0008829, loop_time: 0m 43s\n",
      "\n",
      "Validation\tacc: 0.0000, wer: 0.9958, cer: 0.3122, loop_time: 0m 14s\n",
      "\n",
      "Epoch 15, Loss: 0.31172, cer: 0.2772, LR: 0.0008596, loop_time: 0m 31s\n",
      "\n",
      "Validation\tacc: 0.0000, wer: 0.9931, cer: 0.2963, loop_time: 0m 13s\n",
      "\n",
      "Epoch 16, Loss: 0.31633, cer: 0.2931, LR: 0.0008345, loop_time: 0m 41s\n",
      "\n",
      "Validation\tacc: 0.0000, wer: 0.9909, cer: 0.2991, loop_time: 0m 8s\n",
      "\n",
      "Epoch 17, Loss: 0.29908, cer: 0.2899, LR: 0.0008077, loop_time: 0m 45s\n",
      "\n",
      "Validation\tacc: 0.0000, wer: 0.9956, cer: 0.2389, loop_time: 0m 4s\n",
      "\n",
      "Epoch 18, Loss: 0.28602, cer: 0.2778, LR: 0.0007795, loop_time: 0m 51s\n",
      "\n",
      "Validation\tacc: 0.0000, wer: 0.9933, cer: 0.2500, loop_time: 0m 4s\n",
      "\n",
      "Epoch 19, Loss: 0.28105, cer: 0.2802, LR: 0.0007499, loop_time: 0m 49s\n",
      "\n",
      "Validation\tacc: 0.0000, wer: 0.9935, cer: 0.2532, loop_time: 0m 4s\n",
      "\n",
      "Epoch 20, Loss: 0.27550, cer: 0.2708, LR: 0.0007191, loop_time: 0m 50s\n",
      "\n",
      "Validation\tacc: 0.0000, wer: 0.9913, cer: 0.2715, loop_time: 0m 4s\n",
      "\n",
      "Epoch 21, Loss: 0.26759, cer: 0.2712, LR: 0.0006872, loop_time: 0m 46s\n",
      "\n",
      "Validation\tacc: 0.0005, wer: 0.9961, cer: 0.2826, loop_time: 0m 7s\n",
      "Model weights saved\n",
      "\n",
      "Epoch 22, Loss: 0.26106, cer: 0.3090, LR: 0.0006544, loop_time: 0m 41s\n",
      "\n",
      "Validation\tacc: 0.0000, wer: 0.9949, cer: 0.3546, loop_time: 0m 13s\n",
      "\n",
      "Epoch 23, Loss: 0.26710, cer: 0.3044, LR: 0.0006208, loop_time: 0m 35s\n",
      "\n",
      "Validation\tacc: 0.0000, wer: 0.9898, cer: 0.3643, loop_time: 0m 14s\n",
      "\n",
      "Epoch 24, Loss: 0.25562, cer: 0.3190, LR: 0.0005867, loop_time: 0m 40s\n",
      "\n",
      "Validation\tacc: 0.0000, wer: 0.9884, cer: 0.3093, loop_time: 0m 9s\n",
      "\n",
      "Epoch 25, Loss: 0.25986, cer: 0.3792, LR: 0.0005521, loop_time: 0m 43s\n",
      "\n",
      "Validation\tacc: 0.0000, wer: 0.9918, cer: 0.2792, loop_time: 0m 4s\n",
      "\n",
      "Epoch 26, Loss: 0.24333, cer: 0.2931, LR: 0.0005173, loop_time: 0m 50s\n",
      "\n",
      "Validation\tacc: 0.0005, wer: 0.9912, cer: 0.2502, loop_time: 0m 4s\n",
      "\n",
      "Epoch 27, Loss: 0.23750, cer: 0.3132, LR: 0.0004824, loop_time: 0m 47s\n",
      "\n",
      "Validation\tacc: 0.0188, wer: 0.9685, cer: 0.3246, loop_time: 0m 4s\n",
      "Model weights saved\n",
      "Weights removed '../data/experiments/test/model-0-0.0000.ckpt'\n",
      "\n",
      "Epoch 28, Loss: 0.24200, cer: 0.3086, LR: 0.0004476, loop_time: 0m 50s\n",
      "\n",
      "Validation\tacc: 0.0000, wer: 0.9875, cer: 0.3537, loop_time: 0m 4s\n",
      "\n",
      "Epoch 29, Loss: 0.22441, cer: 0.2481, LR: 0.0004130, loop_time: 0m 42s\n",
      "\n",
      "Validation\tacc: 0.0005, wer: 0.9903, cer: 0.2815, loop_time: 0m 11s\n",
      "\n",
      "Epoch 30, Loss: 0.21516, cer: 0.2546, LR: 0.0003789, loop_time: 0m 38s\n",
      "\n",
      "Validation\tacc: 0.0005, wer: 0.9882, cer: 0.2374, loop_time: 0m 13s\n",
      "\n",
      "Epoch 31, Loss: 0.21410, cer: 0.2653, LR: 0.0003454, loop_time: 0m 35s\n",
      "\n",
      "Validation\tacc: 0.0005, wer: 0.9909, cer: 0.2607, loop_time: 0m 11s\n",
      "\n",
      "Epoch 32, Loss: 0.21412, cer: 0.2595, LR: 0.0003126, loop_time: 0m 43s\n",
      "\n",
      "Validation\tacc: 0.0063, wer: 0.9822, cer: 0.2448, loop_time: 0m 6s\n",
      "\n",
      "Epoch 33, Loss: 0.20112, cer: 0.2491, LR: 0.0002807, loop_time: 0m 46s\n",
      "\n",
      "Validation\tacc: 0.0000, wer: 0.9896, cer: 0.2401, loop_time: 0m 4s\n",
      "\n",
      "Epoch 34, Loss: 0.20271, cer: 0.2341, LR: 0.0002499, loop_time: 0m 47s\n",
      "\n",
      "Validation\tacc: 0.0000, wer: 0.9891, cer: 0.2906, loop_time: 0m 4s\n",
      "\n",
      "Epoch 35, Loss: 0.20466, cer: 0.2427, LR: 0.0002203, loop_time: 0m 49s\n",
      "\n",
      "Validation\tacc: 0.0005, wer: 0.9904, cer: 0.2348, loop_time: 0m 4s\n",
      "\n",
      "Epoch 36, Loss: 0.18883, cer: 0.2252, LR: 0.0001921, loop_time: 0m 41s\n",
      "\n",
      "Validation\tacc: 0.0022, wer: 0.9890, cer: 0.2202, loop_time: 0m 13s\n",
      "\n",
      "Epoch 37, Loss: 0.18736, cer: 0.2248, LR: 0.0001653, loop_time: 0m 35s\n",
      "\n",
      "Validation\tacc: 0.0017, wer: 0.9876, cer: 0.2352, loop_time: 0m 13s\n",
      "\n",
      "Epoch 38, Loss: 0.18734, cer: 0.2375, LR: 0.0001402, loop_time: 0m 37s\n",
      "\n",
      "Validation\tacc: 0.0029, wer: 0.9894, cer: 0.2480, loop_time: 0m 8s\n",
      "\n",
      "Epoch 39, Loss: 0.18232, cer: 0.2264, LR: 0.0001169, loop_time: 0m 44s\n",
      "\n",
      "Validation\tacc: 0.0015, wer: 0.9883, cer: 0.2430, loop_time: 0m 4s\n",
      "\n",
      "Epoch 40, Loss: 0.18276, cer: 0.2536, LR: 0.0000954, loop_time: 0m 49s\n",
      "\n",
      "Validation\tacc: 0.0002, wer: 0.9878, cer: 0.2511, loop_time: 0m 4s\n",
      "\n",
      "Epoch 41, Loss: 0.17786, cer: 0.2443, LR: 0.0000759, loop_time: 0m 47s\n",
      "\n",
      "Validation\tacc: 0.0005, wer: 0.9869, cer: 0.2279, loop_time: 0m 4s\n",
      "\n",
      "Epoch 42, Loss: 0.17037, cer: 0.2357, LR: 0.0000585, loop_time: 0m 44s\n",
      "\n",
      "Validation\tacc: 0.0005, wer: 0.9816, cer: 0.2352, loop_time: 0m 8s\n",
      "\n",
      "Epoch 43, Loss: 0.16999, cer: 0.2413, LR: 0.0000432, loop_time: 0m 36s\n",
      "\n",
      "Validation\tacc: 0.0010, wer: 0.9864, cer: 0.2586, loop_time: 0m 13s\n",
      "\n",
      "Epoch 44, Loss: 0.17161, cer: 0.2430, LR: 0.0000301, loop_time: 0m 36s\n",
      "\n",
      "Validation\tacc: 0.0039, wer: 0.9865, cer: 0.2344, loop_time: 0m 13s\n",
      "\n",
      "Epoch 45, Loss: 0.17241, cer: 0.2333, LR: 0.0000193, loop_time: 0m 41s\n",
      "\n",
      "Validation\tacc: 0.0012, wer: 0.9864, cer: 0.2461, loop_time: 0m 4s\n",
      "\n",
      "Epoch 46, Loss: 0.17066, cer: 0.2283, LR: 0.0000109, loop_time: 0m 47s\n",
      "\n",
      "Validation\tacc: 0.0010, wer: 0.9851, cer: 0.2309, loop_time: 0m 4s\n",
      "\n",
      "Epoch 47, Loss: 0.16010, cer: 0.2275, LR: 0.0000048, loop_time: 0m 48s\n",
      "\n",
      "Validation\tacc: 0.0017, wer: 0.9876, cer: 0.2402, loop_time: 0m 4s\n",
      "\n",
      "Epoch 48, Loss: 0.16698, cer: 0.2320, LR: 0.0000012, loop_time: 0m 43s\n",
      "\n",
      "Validation\tacc: 0.0010, wer: 0.9905, cer: 0.2453, loop_time: 0m 8s\n",
      "\n",
      "Epoch 49, Loss: 0.15793, cer: 0.2329, LR: 0.0000000, loop_time: 0m 38s\n",
      "\n",
      "Validation\tacc: 0.0024, wer: 0.9811, cer: 0.2312, loop_time: 0m 13s\n"
     ]
    },
    {
     "data": {
      "image/png": "[encoded data removed]",
      "text/plain": [
       "<Figure size 864x576 with 2 Axes>"
      ]
     },
     "metadata": {
      "needs_background": "light"
     },
     "output_type": "display_data"
    },
    {
     "data": {
      "text/plain": [
       "<Figure size 432x288 with 0 Axes>"
      ]
     },
     "metadata": {},
     "output_type": "display_data"
    }
   ],
   "source": [
    "#!g1.1\n",
    "%run train.py"
   ]
  },
  {
   "cell_type": "code",
   "execution_count": 52,
   "id": "b40ba226",
   "metadata": {
    "cellId": "rl6b3ydbw4jaz6yqa5sxrp"
   },
   "outputs": [],
   "source": [
    "import cv2\n",
    "import random\n",
    "\n",
    "from os import listdir\n",
    "from os.path import isfile, join\n",
    "from matplotlib import pyplot as plt\n",
    "\n",
    "from utils.predictor import OcrPredictor"
   ]
  },
  {
   "cell_type": "code",
   "execution_count": 51,
   "id": "8ea0b0fe",
   "metadata": {
    "cellId": "c7c263yxae9cr9yllf18o6"
   },
   "outputs": [],
   "source": [
    "images_directory = '../data/handwritten_names/test_v2/test'\n",
    "models_directory = '../data/experiments/test'\n",
    "CONFIG_PATH = './configs/ocr_config.json'\n",
    "DEVICE = 'cuda'"
   ]
  },
  {
   "cell_type": "code",
   "execution_count": 53,
   "id": "4a773237",
   "metadata": {
    "cellId": "wk4xw8vnxit8acs6ezvv"
   },
   "outputs": [],
   "source": [
    "images = [f for f in listdir(images_directory) if isfile(join(images_directory, f))]\n",
    "models = [f for f in listdir(models_directory) if isfile(join(models_directory, f))]\n",
    "\n",
    "models = sorted(models, key=lambda model_name: model_name[6:model_name.find('-', 6)], reverse=True)\n",
    "model_path = join(models_directory, models[0])"
   ]
  },
  {
   "cell_type": "code",
   "execution_count": 64,
   "id": "e8951d24",
   "metadata": {
    "cellId": "nw6x3qgf8bg6rullo9yyi"
   },
   "outputs": [],
   "source": [
    "image_path = join(images_directory, random.choice(images))"
   ]
  },
  {
   "cell_type": "code",
   "execution_count": 56,
   "id": "67332600",
   "metadata": {
    "cellId": "ukdiuhy0buquf80x97drb"
   },
   "outputs": [
    {
     "name": "stderr",
     "output_type": "stream",
     "text": [
      "Downloading: \"https://dl.fbaipublicfiles.com/deit/deit_tiny_patch16_224-a1311bcf.pth\" to /tmp/xdg_cache/torch/hub/checkpoints/deit_tiny_patch16_224-a1311bcf.pth\n"
     ]
    },
    {
     "data": {
      "application/vnd.jupyter.widget-view+json": {
       "model_id": "860e4d21864442478c609c5fc3d2db5e",
       "version_major": 2,
       "version_minor": 0
      },
      "text/plain": [
       "HBox(children=(HTML(value=''), FloatProgress(value=0.0, max=22917895.0), HTML(value='')))"
      ]
     },
     "metadata": {},
     "output_type": "display_data"
    },
    {
     "name": "stdout",
     "output_type": "stream",
     "text": [
      "\n",
      "Loading pre-trained vision transformer weights from https://dl.fbaipublicfiles.com/deit/deit_tiny_patch16_224-a1311bcf.pth ...\n"
     ]
    }
   ],
   "source": [
    "#!g1.1\n",
    "predictor = OcrPredictor(\n",
    "    model_path=model_path,\n",
    "    config_path=CONFIG_PATH,\n",
    "    device=DEVICE\n",
    ")"
   ]
  },
  {
   "cell_type": "code",
   "execution_count": 65,
   "id": "0f0eec32",
   "metadata": {
    "cellId": "h5gnnntvieaft9do20xtq9"
   },
   "outputs": [],
   "source": [
    "img = cv2.imread(image_path)"
   ]
  },
  {
   "cell_type": "code",
   "execution_count": 66,
   "id": "becf64cb",
   "metadata": {
    "cellId": "ow3e6v15fq0qhev5fz534b"
   },
   "outputs": [],
   "source": [
    "#!g1.1\n",
    "pred_data = predictor(img)"
   ]
  },
  {
   "cell_type": "code",
   "execution_count": 67,
   "id": "ac864902",
   "metadata": {
    "cellId": "g17uagjxac1d6cs4xnza8"
   },
   "outputs": [
    {
     "name": "stdout",
     "output_type": "stream",
     "text": [
      "Prediction: ILAPEYRE\n"
     ]
    },
    {
     "data": {
      "text/plain": [
       "<matplotlib.image.AxesImage at 0x7ffaa51b2a10>"
      ]
     },
     "execution_count": 67,
     "metadata": {},
     "output_type": "execute_result"
    },
    {
     "data": {
      "image/png": "[encoded data removed]",
      "text/plain": [
       "<Figure size 360x360 with 1 Axes>"
      ]
     },
     "metadata": {
      "needs_background": "light"
     },
     "output_type": "display_data"
    }
   ],
   "source": [
    "print(\"Prediction: \" + pred_data)\n",
    "\n",
    "plt.figure(figsize=(5, 5))\n",
    "plt.imshow(img)"
   ]
  }
 ],
 "metadata": {
  "kernelspec": {
   "display_name": "Yandex DataSphere Kernel",
   "language": "python",
   "name": "python3"
  },
  "language_info": {
   "codemirror_mode": {
    "name": "ipython",
    "version": 3
   },
   "file_extension": ".py",
   "mimetype": "text/x-python",
   "name": "python",
   "nbconvert_exporter": "python",
   "pygments_lexer": "ipython3",
   "version": "3.7.7"
  },
  "notebookId": "31552c0c-a145-45fe-b78b-efcba841c4a9",
  "notebookPath": "htr_methods_review/text_recognition/inference.ipynb"
 },
 "nbformat": 4,
 "nbformat_minor": 5
}
