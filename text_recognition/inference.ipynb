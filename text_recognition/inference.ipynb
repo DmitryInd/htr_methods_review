{
 "cells": [
  {
   "cell_type": "code",
   "execution_count": null,
   "id": "73aef150",
   "metadata": {
    "cellId": "vsrc2evogr8iqas5ppvgcr"
   },
   "outputs": [],
   "source": [
    "%pip install timm\n",
    "%pip install torch==1.10.0"
   ]
  },
  {
   "cell_type": "code",
   "execution_count": 2,
   "id": "751221de",
   "metadata": {
    "cellId": "zn6gr7rt5say5z8l4bcu"
   },
   "outputs": [],
   "source": [
    "%load_ext autoreload\n",
    "%autoreload 2"
   ]
  },
  {
   "cell_type": "code",
   "execution_count": 3,
   "id": "3b5847f5",
   "metadata": {
    "cellId": "n51qtb9gxkmdrarkysswhn"
   },
   "outputs": [],
   "source": [
    "CONFIG_PATH = './configs/for_cyrillic_texts/base-ViTSTR-for-cyrillic-texts.json'\n",
    "DEVICE = 'cuda'"
   ]
  },
  {
   "cell_type": "markdown",
   "id": "b535e3df",
   "metadata": {
    "cellId": "ywhztrwrxojqexq1ih2kva"
   },
   "source": [
    "### Обучение модели"
   ]
  },
  {
   "cell_type": "code",
   "execution_count": null,
   "id": "2c1ac2fd",
   "metadata": {
    "cellId": "pgi7ebjwmlrdcm7wmvwmn"
   },
   "outputs": [
    {
     "name": "stdout",
     "output_type": "stream",
     "text": [
      "INFO: DEVICE is cuda\n"
     ]
    },
    {
     "name": "stderr",
     "output_type": "stream",
     "text": [
      "Downloading: \"https://dl.fbaipublicfiles.com/deit/deit_base_patch16_224-b5f2ef4d.pth\" to /tmp/xdg_cache/torch/hub/checkpoints/deit_base_patch16_224-b5f2ef4d.pth\n"
     ]
    },
    {
     "data": {
      "application/vnd.jupyter.widget-view+json": {
       "model_id": "1ab07c34af2842889a1a92941c719049",
       "version_major": 2,
       "version_minor": 0
      },
      "text/plain": [
       "HBox(children=(HTML(value=''), FloatProgress(value=0.0, max=346319111.0), HTML(value='')))"
      ]
     },
     "metadata": {},
     "output_type": "display_data"
    },
    {
     "name": "stdout",
     "output_type": "stream",
     "text": [
      "\n",
      "Loading pre-trained vision transformer weights from https://dl.fbaipublicfiles.com/deit/deit_base_patch16_224-b5f2ef4d.pth ...\n"
     ]
    },
    {
     "name": "stderr",
     "output_type": "stream",
     "text": [
      "  0%|          | 0/493 [00:00<?, ?it/s]        "
     ]
    },
    {
     "name": "stdout",
     "output_type": "stream",
     "text": [
      "\n",
      "Validation\tacc: 0.0000, wer: 1.0110, cer: 3.9311, loop_time: 0m 6s\n"
     ]
    },
    {
     "name": "stderr",
     "output_type": "stream",
     "text": [
      "  0%|          | 0/25 [00:00<?, ?it/s]           "
     ]
    },
    {
     "name": "stdout",
     "output_type": "stream",
     "text": [
      "\n",
      "Epoch 0, Loss: 2.52545, cer: 0.8837, LR: 0.0002803, loop_time: 5m 29s\n"
     ]
    },
    {
     "name": "stderr",
     "output_type": "stream",
     "text": [
      "                                               \r"
     ]
    },
    {
     "name": "stdout",
     "output_type": "stream",
     "text": [
      "\n",
      "Validation\tacc: 0.0000, wer: 1.0240, cer: 0.7631, loop_time: 0m 6s\n"
     ]
    },
    {
     "name": "stderr",
     "output_type": "stream",
     "text": [
      "  0%|          | 0/493 [00:00<?, ?it/s]"
     ]
    },
    {
     "name": "stdout",
     "output_type": "stream",
     "text": [
      "Model weights saved\n"
     ]
    },
    {
     "name": "stderr",
     "output_type": "stream",
     "text": [
      "  0%|          | 0/25 [00:00<?, ?it/s]           "
     ]
    },
    {
     "name": "stdout",
     "output_type": "stream",
     "text": [
      "\n",
      "Epoch 1, Loss: 1.41625, cer: 0.6551, LR: 0.0007606, loop_time: 5m 31s\n"
     ]
    },
    {
     "name": "stderr",
     "output_type": "stream",
     "text": [
      "                                               \r"
     ]
    },
    {
     "name": "stdout",
     "output_type": "stream",
     "text": [
      "\n",
      "Validation\tacc: 0.0000, wer: 1.0058, cer: 0.6725, loop_time: 0m 6s\n"
     ]
    },
    {
     "name": "stderr",
     "output_type": "stream",
     "text": [
      "  0%|          | 0/493 [00:00<?, ?it/s]"
     ]
    },
    {
     "name": "stdout",
     "output_type": "stream",
     "text": [
      "Model weights saved\n"
     ]
    },
    {
     "name": "stderr",
     "output_type": "stream",
     "text": [
      "  0%|          | 0/25 [00:00<?, ?it/s]           "
     ]
    },
    {
     "name": "stdout",
     "output_type": "stream",
     "text": [
      "\n",
      "Epoch 2, Loss: 1.21267, cer: 0.5639, LR: 0.0010000, loop_time: 5m 32s\n"
     ]
    },
    {
     "name": "stderr",
     "output_type": "stream",
     "text": [
      "                                               \r"
     ]
    },
    {
     "name": "stdout",
     "output_type": "stream",
     "text": [
      "\n",
      "Validation\tacc: 0.0000, wer: 1.0102, cer: 0.5993, loop_time: 0m 6s\n"
     ]
    },
    {
     "name": "stderr",
     "output_type": "stream",
     "text": [
      "  0%|          | 0/493 [00:00<?, ?it/s]"
     ]
    },
    {
     "name": "stdout",
     "output_type": "stream",
     "text": [
      "Model weights saved\n",
      "Weights removed '../data/experiments/cyrillic_texts/model-0-0.0000.ckpt'\n"
     ]
    },
    {
     "name": "stderr",
     "output_type": "stream",
     "text": [
      "  0%|          | 0/25 [00:00<?, ?it/s]           "
     ]
    },
    {
     "name": "stdout",
     "output_type": "stream",
     "text": [
      "\n",
      "Epoch 3, Loss: 0.94289, cer: 0.4711, LR: 0.0009966, loop_time: 5m 32s\n"
     ]
    },
    {
     "name": "stderr",
     "output_type": "stream",
     "text": [
      "                                               \r"
     ]
    },
    {
     "name": "stdout",
     "output_type": "stream",
     "text": [
      "\n",
      "Validation\tacc: 0.0000, wer: 1.0019, cer: 0.6064, loop_time: 0m 6s\n"
     ]
    },
    {
     "name": "stderr",
     "output_type": "stream",
     "text": [
      "  0%|          | 0/493 [00:00<?, ?it/s]"
     ]
    },
    {
     "name": "stdout",
     "output_type": "stream",
     "text": [
      "Model weights saved\n",
      "Weights removed '../data/experiments/cyrillic_texts/model-1-0.0000.ckpt'\n"
     ]
    },
    {
     "name": "stderr",
     "output_type": "stream",
     "text": [
      "  0%|          | 0/25 [00:00<?, ?it/s]           "
     ]
    },
    {
     "name": "stdout",
     "output_type": "stream",
     "text": [
      "\n",
      "Epoch 4, Loss: 0.75599, cer: 0.3983, LR: 0.0009865, loop_time: 5m 33s\n"
     ]
    },
    {
     "name": "stderr",
     "output_type": "stream",
     "text": [
      "                                               \r"
     ]
    },
    {
     "name": "stdout",
     "output_type": "stream",
     "text": [
      "\n",
      "Validation\tacc: 0.0000, wer: 1.0107, cer: 0.5348, loop_time: 0m 6s\n"
     ]
    },
    {
     "name": "stderr",
     "output_type": "stream",
     "text": [
      "  0%|          | 0/493 [00:00<?, ?it/s]"
     ]
    },
    {
     "name": "stdout",
     "output_type": "stream",
     "text": [
      "Model weights saved\n",
      "Weights removed '../data/experiments/cyrillic_texts/model-2-0.0000.ckpt'\n"
     ]
    },
    {
     "name": "stderr",
     "output_type": "stream",
     "text": [
      "  0%|          | 0/25 [00:00<?, ?it/s]           "
     ]
    },
    {
     "name": "stdout",
     "output_type": "stream",
     "text": [
      "\n",
      "Epoch 5, Loss: 0.62405, cer: 0.3561, LR: 0.0009698, loop_time: 5m 32s\n"
     ]
    },
    {
     "name": "stderr",
     "output_type": "stream",
     "text": [
      "                                               \r"
     ]
    },
    {
     "name": "stdout",
     "output_type": "stream",
     "text": [
      "\n",
      "Validation\tacc: 0.0000, wer: 0.9959, cer: 0.5190, loop_time: 0m 6s\n"
     ]
    },
    {
     "name": "stderr",
     "output_type": "stream",
     "text": [
      "  0%|          | 0/493 [00:00<?, ?it/s]"
     ]
    },
    {
     "name": "stdout",
     "output_type": "stream",
     "text": [
      "Model weights saved\n",
      "Weights removed '../data/experiments/cyrillic_texts/model-3-0.0000.ckpt'\n"
     ]
    },
    {
     "name": "stderr",
     "output_type": "stream",
     "text": [
      "  0%|          | 0/25 [00:00<?, ?it/s]           "
     ]
    },
    {
     "name": "stdout",
     "output_type": "stream",
     "text": [
      "\n",
      "Epoch 6, Loss: 0.53333, cer: 0.3235, LR: 0.0009468, loop_time: 5m 32s\n"
     ]
    },
    {
     "name": "stderr",
     "output_type": "stream",
     "text": [
      "                                               \r"
     ]
    },
    {
     "name": "stdout",
     "output_type": "stream",
     "text": [
      "\n",
      "Validation\tacc: 0.0000, wer: 0.9959, cer: 0.4797, loop_time: 0m 6s\n"
     ]
    },
    {
     "name": "stderr",
     "output_type": "stream",
     "text": [
      "  0%|          | 0/493 [00:00<?, ?it/s]"
     ]
    },
    {
     "name": "stdout",
     "output_type": "stream",
     "text": [
      "Model weights saved\n",
      "Weights removed '../data/experiments/cyrillic_texts/model-4-0.0000.ckpt'\n"
     ]
    },
    {
     "name": "stderr",
     "output_type": "stream",
     "text": [
      "  0%|          | 0/25 [00:00<?, ?it/s]           "
     ]
    },
    {
     "name": "stdout",
     "output_type": "stream",
     "text": [
      "\n",
      "Epoch 7, Loss: 0.44524, cer: 0.2948, LR: 0.0009177, loop_time: 5m 32s\n"
     ]
    },
    {
     "name": "stderr",
     "output_type": "stream",
     "text": [
      "                                               \r"
     ]
    },
    {
     "name": "stdout",
     "output_type": "stream",
     "text": [
      "\n",
      "Validation\tacc: 0.0000, wer: 0.9944, cer: 0.4824, loop_time: 0m 6s\n"
     ]
    },
    {
     "name": "stderr",
     "output_type": "stream",
     "text": [
      "  0%|          | 0/493 [00:00<?, ?it/s]"
     ]
    },
    {
     "name": "stdout",
     "output_type": "stream",
     "text": [
      "Model weights saved\n",
      "Weights removed '../data/experiments/cyrillic_texts/model-5-0.0000.ckpt'\n"
     ]
    },
    {
     "name": "stderr",
     "output_type": "stream",
     "text": [
      "  0%|          | 0/25 [00:00<?, ?it/s]           "
     ]
    },
    {
     "name": "stdout",
     "output_type": "stream",
     "text": [
      "\n",
      "Epoch 8, Loss: 0.39738, cer: 0.2876, LR: 0.0008829, loop_time: 5m 31s\n"
     ]
    },
    {
     "name": "stderr",
     "output_type": "stream",
     "text": [
      "                                               \r"
     ]
    },
    {
     "name": "stdout",
     "output_type": "stream",
     "text": [
      "\n",
      "Validation\tacc: 0.0000, wer: 1.0098, cer: 0.4582, loop_time: 0m 6s\n"
     ]
    },
    {
     "name": "stderr",
     "output_type": "stream",
     "text": [
      "  0%|          | 0/493 [00:00<?, ?it/s]"
     ]
    },
    {
     "name": "stdout",
     "output_type": "stream",
     "text": [
      "Model weights saved\n",
      "Weights removed '../data/experiments/cyrillic_texts/model-6-0.0000.ckpt'\n"
     ]
    },
    {
     "name": "stderr",
     "output_type": "stream",
     "text": [
      " 17%|█▋        | 82/493 [00:55<04:36,  1.49it/s]"
     ]
    }
   ],
   "source": [
    "#!g1.1\n",
    "%run train.py --config_path \"{CONFIG_PATH}\""
   ]
  },
  {
   "cell_type": "markdown",
   "id": "f1e51974",
   "metadata": {
    "cellId": "nc0wg0ebsqnxkl66zjj"
   },
   "source": [
    "### Тестирование модели"
   ]
  },
  {
   "cell_type": "code",
   "execution_count": null,
   "id": "8d8b91ff",
   "metadata": {
    "cellId": "rl6b3ydbw4jaz6yqa5sxrp"
   },
   "outputs": [],
   "source": [
    "import cv2\n",
    "import random\n",
    "\n",
    "from os import listdir\n",
    "from os.path import isfile, join\n",
    "from matplotlib import pyplot as plt\n",
    "\n",
    "from utils.predictor import OcrPredictor\n",
    "from utils.config import Config"
   ]
  },
  {
   "cell_type": "code",
   "execution_count": null,
   "id": "6855f0ff",
   "metadata": {
    "cellId": "c7c263yxae9cr9yllf18o6"
   },
   "outputs": [],
   "source": [
    "config = Config(CONFIG_PATH)\n",
    "models_directory = config.get(\"save_dir\")\n",
    "images_directory = '../data/cyrillic_texts/test'\n",
    "\n",
    "models_directory # = '../data/experiments/test'"
   ]
  },
  {
   "cell_type": "code",
   "execution_count": null,
   "id": "88b08c33",
   "metadata": {
    "cellId": "wk4xw8vnxit8acs6ezvv"
   },
   "outputs": [],
   "source": [
    "images = [f for f in listdir(images_directory) if isfile(join(images_directory, f))]\n",
    "models = [f for f in listdir(models_directory) if isfile(join(models_directory, f))]"
   ]
  },
  {
   "cell_type": "code",
   "execution_count": null,
   "id": "db081121",
   "metadata": {
    "cellId": "fi93vjfliscmr39ml9x83e"
   },
   "outputs": [],
   "source": [
    "models = list(filter(lambda model_name: model_name[6:model_name.find('-', 6)].isdigit(), models))\n",
    "models = sorted(models, key=lambda model_name: int(model_name[6:model_name.find('-', 6)]), reverse=True)\n",
    "model_path = join(models_directory, models[0])\n",
    "model_path # = \"../data/experiments/handwritten_names/tiny-ViTSTR.ckpt\""
   ]
  },
  {
   "cell_type": "code",
   "execution_count": null,
   "id": "7cc1b3d4",
   "metadata": {
    "cellId": "nw6x3qgf8bg6rullo9yyi"
   },
   "outputs": [],
   "source": [
    "image_path = join(images_directory, random.choice(images))\n",
    "image_path"
   ]
  },
  {
   "cell_type": "code",
   "execution_count": null,
   "id": "173b8571",
   "metadata": {
    "cellId": "ukdiuhy0buquf80x97drb"
   },
   "outputs": [],
   "source": [
    "#!g1.1\n",
    "predictor = OcrPredictor(\n",
    "    model_path=model_path,\n",
    "    config_path=CONFIG_PATH,\n",
    "    device=DEVICE\n",
    ")"
   ]
  },
  {
   "cell_type": "code",
   "execution_count": null,
   "id": "168187e8",
   "metadata": {
    "cellId": "h5gnnntvieaft9do20xtq9"
   },
   "outputs": [],
   "source": [
    "img = cv2.imread(image_path)"
   ]
  },
  {
   "cell_type": "code",
   "execution_count": null,
   "id": "b0bb68ff",
   "metadata": {
    "cellId": "ow3e6v15fq0qhev5fz534b"
   },
   "outputs": [],
   "source": [
    "#!g1.1\n",
    "pred_data = predictor(img)"
   ]
  },
  {
   "cell_type": "code",
   "execution_count": null,
   "id": "372f2272",
   "metadata": {
    "cellId": "g17uagjxac1d6cs4xnza8"
   },
   "outputs": [],
   "source": [
    "print(\"Prediction: \" + pred_data)\n",
    "\n",
    "plt.figure(figsize=(5, 5))\n",
    "plt.imshow(img)"
   ]
  }
 ],
 "metadata": {
  "kernelspec": {
   "display_name": "Yandex DataSphere Kernel",
   "language": "python",
   "name": "python3"
  },
  "language_info": {
   "codemirror_mode": {
    "name": "ipython",
    "version": 3
   },
   "file_extension": ".py",
   "mimetype": "text/x-python",
   "name": "python",
   "nbconvert_exporter": "python",
   "pygments_lexer": "ipython3",
   "version": "3.7.7"
  },
  "notebookId": "31552c0c-a145-45fe-b78b-efcba841c4a9",
  "notebookPath": "htr_methods_review/text_recognition/inference.ipynb"
 },
 "nbformat": 4,
 "nbformat_minor": 5
}
