{
 "cells": [
  {
   "cell_type": "code",
   "execution_count": null,
   "id": "25b8c475",
   "metadata": {
    "cellId": "vsrc2evogr8iqas5ppvgcr",
    "pycharm": {
     "name": "#%%\n"
    }
   },
   "outputs": [],
   "source": [
    "%pip install timm\n",
    "%pip install torch==1.10.0"
   ]
  },
  {
   "cell_type": "code",
   "execution_count": 1,
   "id": "57b48a2a",
   "metadata": {
    "cellId": "zn6gr7rt5say5z8l4bcu",
    "pycharm": {
     "name": "#%%\n"
    }
   },
   "outputs": [],
   "source": [
    "%load_ext autoreload\n",
    "%autoreload 2"
   ]
  },
  {
   "cell_type": "code",
   "execution_count": 2,
   "id": "0546d941",
   "metadata": {
    "cellId": "n51qtb9gxkmdrarkysswhn",
    "pycharm": {
     "name": "#%%\n"
    }
   },
   "outputs": [],
   "source": [
    "CONFIG_PATH = './configs/for_peters_notes/base-ViTSTR-for-synthetic-peters-notes.json'\n",
    "DEVICE = 'cuda'"
   ]
  },
  {
   "cell_type": "markdown",
   "id": "ee687885",
   "metadata": {
    "cellId": "ywhztrwrxojqexq1ih2kva",
    "pycharm": {
     "name": "#%% md\n"
    }
   },
   "source": [
    "### Обучение модели"
   ]
  },
  {
   "cell_type": "code",
   "execution_count": 5,
   "id": "9501c52f",
   "metadata": {
    "cellId": "pgi7ebjwmlrdcm7wmvwmn",
    "pycharm": {
     "name": "#%%\n"
    }
   },
   "outputs": [
    {
     "name": "stderr",
     "output_type": "stream",
     "text": [
      "\r"
     ]
    },
    {
     "name": "stdout",
     "output_type": "stream",
     "text": [
      "INFO: DEVICE is cuda\n",
      "Loading pre-trained vision transformer weights from https://dl.fbaipublicfiles.com/deit/deit_base_patch16_224-b5f2ef4d.pth ...\n",
      "Total number of trainable parameters: 85857869\n",
      "ViTSTR(\n",
      "  (patch_embed): PatchEmbed(\n",
      "    (proj): Conv2d(3, 768, kernel_size=(16, 16), stride=(16, 16))\n",
      "    (norm): Identity()\n",
      "  )\n",
      "  (pos_drop): Dropout(p=0.0, inplace=False)\n",
      "  (blocks): Sequential(\n",
      "    (0): Block(\n",
      "      (norm1): LayerNorm((768,), eps=1e-06, elementwise_affine=True)\n",
      "      (attn): Attention(\n",
      "        (qkv): Linear(in_features=768, out_features=2304, bias=True)\n",
      "        (attn_drop): Dropout(p=0.0, inplace=False)\n",
      "        (proj): Linear(in_features=768, out_features=768, bias=True)\n",
      "        (proj_drop): Dropout(p=0.0, inplace=False)\n",
      "      )\n",
      "      (drop_path): Identity()\n",
      "      (norm2): LayerNorm((768,), eps=1e-06, elementwise_affine=True)\n",
      "      (mlp): Mlp(\n",
      "        (fc1): Linear(in_features=768, out_features=3072, bias=True)\n",
      "        (act): GELU()\n",
      "        (fc2): Linear(in_features=3072, out_features=768, bias=True)\n",
      "        (drop): Dropout(p=0.0, inplace=False)\n",
      "      )\n",
      "    )\n",
      "    (1): Block(\n",
      "      (norm1): LayerNorm((768,), eps=1e-06, elementwise_affine=True)\n",
      "      (attn): Attention(\n",
      "        (qkv): Linear(in_features=768, out_features=2304, bias=True)\n",
      "        (attn_drop): Dropout(p=0.0, inplace=False)\n",
      "        (proj): Linear(in_features=768, out_features=768, bias=True)\n",
      "        (proj_drop): Dropout(p=0.0, inplace=False)\n",
      "      )\n",
      "      (drop_path): Identity()\n",
      "      (norm2): LayerNorm((768,), eps=1e-06, elementwise_affine=True)\n",
      "      (mlp): Mlp(\n",
      "        (fc1): Linear(in_features=768, out_features=3072, bias=True)\n",
      "        (act): GELU()\n",
      "        (fc2): Linear(in_features=3072, out_features=768, bias=True)\n",
      "        (drop): Dropout(p=0.0, inplace=False)\n",
      "      )\n",
      "    )\n",
      "    (2): Block(\n",
      "      (norm1): LayerNorm((768,), eps=1e-06, elementwise_affine=True)\n",
      "      (attn): Attention(\n",
      "        (qkv): Linear(in_features=768, out_features=2304, bias=True)\n",
      "        (attn_drop): Dropout(p=0.0, inplace=False)\n",
      "        (proj): Linear(in_features=768, out_features=768, bias=True)\n",
      "        (proj_drop): Dropout(p=0.0, inplace=False)\n",
      "      )\n",
      "      (drop_path): Identity()\n",
      "      (norm2): LayerNorm((768,), eps=1e-06, elementwise_affine=True)\n",
      "      (mlp): Mlp(\n",
      "        (fc1): Linear(in_features=768, out_features=3072, bias=True)\n",
      "        (act): GELU()\n",
      "        (fc2): Linear(in_features=3072, out_features=768, bias=True)\n",
      "        (drop): Dropout(p=0.0, inplace=False)\n",
      "      )\n",
      "    )\n",
      "    (3): Block(\n",
      "      (norm1): LayerNorm((768,), eps=1e-06, elementwise_affine=True)\n",
      "      (attn): Attention(\n",
      "        (qkv): Linear(in_features=768, out_features=2304, bias=True)\n",
      "        (attn_drop): Dropout(p=0.0, inplace=False)\n",
      "        (proj): Linear(in_features=768, out_features=768, bias=True)\n",
      "        (proj_drop): Dropout(p=0.0, inplace=False)\n",
      "      )\n",
      "      (drop_path): Identity()\n",
      "      (norm2): LayerNorm((768,), eps=1e-06, elementwise_affine=True)\n",
      "      (mlp): Mlp(\n",
      "        (fc1): Linear(in_features=768, out_features=3072, bias=True)\n",
      "        (act): GELU()\n",
      "        (fc2): Linear(in_features=3072, out_features=768, bias=True)\n",
      "        (drop): Dropout(p=0.0, inplace=False)\n",
      "      )\n",
      "    )\n",
      "    (4): Block(\n",
      "      (norm1): LayerNorm((768,), eps=1e-06, elementwise_affine=True)\n",
      "      (attn): Attention(\n",
      "        (qkv): Linear(in_features=768, out_features=2304, bias=True)\n",
      "        (attn_drop): Dropout(p=0.0, inplace=False)\n",
      "        (proj): Linear(in_features=768, out_features=768, bias=True)\n",
      "        (proj_drop): Dropout(p=0.0, inplace=False)\n",
      "      )\n",
      "      (drop_path): Identity()\n",
      "      (norm2): LayerNorm((768,), eps=1e-06, elementwise_affine=True)\n",
      "      (mlp): Mlp(\n",
      "        (fc1): Linear(in_features=768, out_features=3072, bias=True)\n",
      "        (act): GELU()\n",
      "        (fc2): Linear(in_features=3072, out_features=768, bias=True)\n",
      "        (drop): Dropout(p=0.0, inplace=False)\n",
      "      )\n",
      "    )\n",
      "    (5): Block(\n",
      "      (norm1): LayerNorm((768,), eps=1e-06, elementwise_affine=True)\n",
      "      (attn): Attention(\n",
      "        (qkv): Linear(in_features=768, out_features=2304, bias=True)\n",
      "        (attn_drop): Dropout(p=0.0, inplace=False)\n",
      "        (proj): Linear(in_features=768, out_features=768, bias=True)\n",
      "        (proj_drop): Dropout(p=0.0, inplace=False)\n",
      "      )\n",
      "      (drop_path): Identity()\n",
      "      (norm2): LayerNorm((768,), eps=1e-06, elementwise_affine=True)\n",
      "      (mlp): Mlp(\n",
      "        (fc1): Linear(in_features=768, out_features=3072, bias=True)\n",
      "        (act): GELU()\n",
      "        (fc2): Linear(in_features=3072, out_features=768, bias=True)\n",
      "        (drop): Dropout(p=0.0, inplace=False)\n",
      "      )\n",
      "    )\n",
      "    (6): Block(\n",
      "      (norm1): LayerNorm((768,), eps=1e-06, elementwise_affine=True)\n",
      "      (attn): Attention(\n",
      "        (qkv): Linear(in_features=768, out_features=2304, bias=True)\n",
      "        (attn_drop): Dropout(p=0.0, inplace=False)\n",
      "        (proj): Linear(in_features=768, out_features=768, bias=True)\n",
      "        (proj_drop): Dropout(p=0.0, inplace=False)\n",
      "      )\n",
      "      (drop_path): Identity()\n",
      "      (norm2): LayerNorm((768,), eps=1e-06, elementwise_affine=True)\n",
      "      (mlp): Mlp(\n",
      "        (fc1): Linear(in_features=768, out_features=3072, bias=True)\n",
      "        (act): GELU()\n",
      "        (fc2): Linear(in_features=3072, out_features=768, bias=True)\n",
      "        (drop): Dropout(p=0.0, inplace=False)\n",
      "      )\n",
      "    )\n",
      "    (7): Block(\n",
      "      (norm1): LayerNorm((768,), eps=1e-06, elementwise_affine=True)\n",
      "      (attn): Attention(\n",
      "        (qkv): Linear(in_features=768, out_features=2304, bias=True)\n",
      "        (attn_drop): Dropout(p=0.0, inplace=False)\n",
      "        (proj): Linear(in_features=768, out_features=768, bias=True)\n",
      "        (proj_drop): Dropout(p=0.0, inplace=False)\n",
      "      )\n",
      "      (drop_path): Identity()\n",
      "      (norm2): LayerNorm((768,), eps=1e-06, elementwise_affine=True)\n",
      "      (mlp): Mlp(\n",
      "        (fc1): Linear(in_features=768, out_features=3072, bias=True)\n",
      "        (act): GELU()\n",
      "        (fc2): Linear(in_features=3072, out_features=768, bias=True)\n",
      "        (drop): Dropout(p=0.0, inplace=False)\n",
      "      )\n",
      "    )\n",
      "    (8): Block(\n",
      "      (norm1): LayerNorm((768,), eps=1e-06, elementwise_affine=True)\n",
      "      (attn): Attention(\n",
      "        (qkv): Linear(in_features=768, out_features=2304, bias=True)\n",
      "        (attn_drop): Dropout(p=0.0, inplace=False)\n",
      "        (proj): Linear(in_features=768, out_features=768, bias=True)\n",
      "        (proj_drop): Dropout(p=0.0, inplace=False)\n",
      "      )\n",
      "      (drop_path): Identity()\n",
      "      (norm2): LayerNorm((768,), eps=1e-06, elementwise_affine=True)\n",
      "      (mlp): Mlp(\n",
      "        (fc1): Linear(in_features=768, out_features=3072, bias=True)\n",
      "        (act): GELU()\n",
      "        (fc2): Linear(in_features=3072, out_features=768, bias=True)\n",
      "        (drop): Dropout(p=0.0, inplace=False)\n",
      "      )\n",
      "    )\n",
      "    (9): Block(\n",
      "      (norm1): LayerNorm((768,), eps=1e-06, elementwise_affine=True)\n",
      "      (attn): Attention(\n",
      "        (qkv): Linear(in_features=768, out_features=2304, bias=True)\n",
      "        (attn_drop): Dropout(p=0.0, inplace=False)\n",
      "        (proj): Linear(in_features=768, out_features=768, bias=True)\n",
      "        (proj_drop): Dropout(p=0.0, inplace=False)\n",
      "      )\n",
      "      (drop_path): Identity()\n",
      "      (norm2): LayerNorm((768,), eps=1e-06, elementwise_affine=True)\n",
      "      (mlp): Mlp(\n",
      "        (fc1): Linear(in_features=768, out_features=3072, bias=True)\n",
      "        (act): GELU()\n",
      "        (fc2): Linear(in_features=3072, out_features=768, bias=True)\n",
      "        (drop): Dropout(p=0.0, inplace=False)\n",
      "      )\n",
      "    )\n",
      "    (10): Block(\n",
      "      (norm1): LayerNorm((768,), eps=1e-06, elementwise_affine=True)\n",
      "      (attn): Attention(\n",
      "        (qkv): Linear(in_features=768, out_features=2304, bias=True)\n",
      "        (attn_drop): Dropout(p=0.0, inplace=False)\n",
      "        (proj): Linear(in_features=768, out_features=768, bias=True)\n",
      "        (proj_drop): Dropout(p=0.0, inplace=False)\n",
      "      )\n",
      "      (drop_path): Identity()\n",
      "      (norm2): LayerNorm((768,), eps=1e-06, elementwise_affine=True)\n",
      "      (mlp): Mlp(\n",
      "        (fc1): Linear(in_features=768, out_features=3072, bias=True)\n",
      "        (act): GELU()\n",
      "        (fc2): Linear(in_features=3072, out_features=768, bias=True)\n",
      "        (drop): Dropout(p=0.0, inplace=False)\n",
      "      )\n",
      "    )\n",
      "    (11): Block(\n",
      "      (norm1): LayerNorm((768,), eps=1e-06, elementwise_affine=True)\n",
      "      (attn): Attention(\n",
      "        (qkv): Linear(in_features=768, out_features=2304, bias=True)\n",
      "        (attn_drop): Dropout(p=0.0, inplace=False)\n",
      "        (proj): Linear(in_features=768, out_features=768, bias=True)\n",
      "        (proj_drop): Dropout(p=0.0, inplace=False)\n",
      "      )\n",
      "      (drop_path): Identity()\n",
      "      (norm2): LayerNorm((768,), eps=1e-06, elementwise_affine=True)\n",
      "      (mlp): Mlp(\n",
      "        (fc1): Linear(in_features=768, out_features=3072, bias=True)\n",
      "        (act): GELU()\n",
      "        (fc2): Linear(in_features=3072, out_features=768, bias=True)\n",
      "        (drop): Dropout(p=0.0, inplace=False)\n",
      "      )\n",
      "    )\n",
      "  )\n",
      "  (norm): LayerNorm((768,), eps=1e-06, elementwise_affine=True)\n",
      "  (pre_logits): Identity()\n",
      "  (head): Linear(in_features=768, out_features=77, bias=True)\n",
      ")\n",
      "\n",
      "Validation\tacc: 0.0000, wer: 1.0946, cer: 2.1435, loop_time: 0m 4s\n",
      "\n",
      "Epoch 0, Loss: 2.72581, cer: 1.0218, LR: 0.0001807, loop_time: 5m 36s\n",
      "\n",
      "Validation\tacc: 0.0000, wer: 0.9992, cer: 0.9354, loop_time: 0m 3s\n",
      "Model weights saved\n",
      "\n",
      "Epoch 1, Loss: 1.64246, cer: 0.6595, LR: 0.0005204, loop_time: 5m 36s\n",
      "\n",
      "Validation\tacc: 0.0000, wer: 1.0009, cer: 0.9110, loop_time: 0m 3s\n",
      "Model weights saved\n",
      "\n",
      "Epoch 2, Loss: 1.06036, cer: 0.5807, LR: 0.0008598, loop_time: 5m 35s\n",
      "\n",
      "Validation\tacc: 0.0000, wer: 1.0010, cer: 0.9497, loop_time: 0m 3s\n",
      "Model weights saved\n",
      "Weights removed '../data/experiments/Peter's_notes/model-0-0.0000.ckpt'\n",
      "\n",
      "Epoch 3, Loss: 0.72049, cer: 0.4201, LR: 0.0010000, loop_time: 5m 36s\n",
      "\n",
      "Validation\tacc: 0.0000, wer: 1.0018, cer: 0.8879, loop_time: 0m 3s\n",
      "Model weights saved\n",
      "Weights removed '../data/experiments/Peter's_notes/model-1-0.0000.ckpt'\n",
      "\n",
      "Epoch 4, Loss: 0.55133, cer: 0.2787, LR: 0.0009981, loop_time: 5m 38s\n",
      "\n",
      "Validation\tacc: 0.0000, wer: 1.0003, cer: 0.8252, loop_time: 0m 3s\n",
      "Model weights saved\n",
      "Weights removed '../data/experiments/Peter's_notes/model-2-0.0000.ckpt'\n",
      "\n",
      "Epoch 5, Loss: 0.51286, cer: 0.2398, LR: 0.0009924, loop_time: 5m 39s\n",
      "\n",
      "Validation\tacc: 0.0000, wer: 0.9960, cer: 0.8184, loop_time: 0m 3s\n",
      "Model weights saved\n",
      "Weights removed '../data/experiments/Peter's_notes/model-3-0.0000.ckpt'\n",
      "\n",
      "Epoch 6, Loss: 0.47631, cer: 0.2914, LR: 0.0009829, loop_time: 5m 39s\n",
      "\n",
      "Validation\tacc: 0.0000, wer: 0.9939, cer: 0.7946, loop_time: 0m 3s\n",
      "Model weights saved\n",
      "Weights removed '../data/experiments/Peter's_notes/model-4-0.0000.ckpt'\n",
      "\n",
      "Epoch 7, Loss: 0.43619, cer: 0.3180, LR: 0.0009698, loop_time: 5m 37s\n",
      "\n",
      "Validation\tacc: 0.0000, wer: 0.9914, cer: 0.7748, loop_time: 0m 3s\n",
      "Model weights saved\n",
      "Weights removed '../data/experiments/Peter's_notes/model-5-0.0000.ckpt'\n",
      "\n",
      "Epoch 8, Loss: 0.40047, cer: 0.2194, LR: 0.0009531, loop_time: 5m 39s\n",
      "\n",
      "Validation\tacc: 0.0000, wer: 0.9921, cer: 0.7866, loop_time: 0m 3s\n",
      "Model weights saved\n",
      "Weights removed '../data/experiments/Peter's_notes/model-6-0.0000.ckpt'\n",
      "\n",
      "Epoch 9, Loss: 0.38701, cer: 0.2884, LR: 0.0009330, loop_time: 5m 38s\n",
      "\n",
      "Validation\tacc: 0.0000, wer: 0.9837, cer: 0.7339, loop_time: 0m 3s\n",
      "Model weights saved\n",
      "Weights removed '../data/experiments/Peter's_notes/model-7-0.0000.ckpt'\n",
      "\n",
      "Epoch 10, Loss: 0.37491, cer: 0.2007, LR: 0.0009095, loop_time: 5m 39s\n",
      "\n",
      "Validation\tacc: 0.0000, wer: 0.9927, cer: 0.7229, loop_time: 0m 3s\n",
      "Model weights saved\n",
      "Weights removed '../data/experiments/Peter's_notes/model-8-0.0000.ckpt'\n",
      "\n",
      "Epoch 11, Loss: 0.34773, cer: 0.1663, LR: 0.0008830, loop_time: 5m 40s\n",
      "\n",
      "Validation\tacc: 0.0000, wer: 0.9935, cer: 0.7121, loop_time: 0m 3s\n",
      "Model weights saved\n",
      "Weights removed '../data/experiments/Peter's_notes/model-9-0.0000.ckpt'\n",
      "\n",
      "Epoch 12, Loss: 0.36823, cer: 0.1686, LR: 0.0008535, loop_time: 5m 40s\n",
      "\n",
      "Validation\tacc: 0.0000, wer: 1.0096, cer: 0.7711, loop_time: 0m 3s\n",
      "Model weights saved\n",
      "Weights removed '../data/experiments/Peter's_notes/model-10-0.0000.ckpt'\n",
      "\n",
      "Epoch 13, Loss: 0.32139, cer: 0.1486, LR: 0.0008213, loop_time: 5m 40s\n",
      "\n",
      "Validation\tacc: 0.0000, wer: 0.9983, cer: 0.6973, loop_time: 0m 3s\n",
      "Model weights saved\n",
      "Weights removed '../data/experiments/Peter's_notes/model-11-0.0000.ckpt'\n",
      "\n",
      "Epoch 14, Loss: 0.29494, cer: 0.1402, LR: 0.0007867, loop_time: 5m 39s\n",
      "\n",
      "Validation\tacc: 0.0000, wer: 1.0132, cer: 0.6765, loop_time: 0m 3s\n",
      "Model weights saved\n",
      "Weights removed '../data/experiments/Peter's_notes/model-12-0.0000.ckpt'\n",
      "\n",
      "Epoch 15, Loss: 0.27747, cer: 0.1376, LR: 0.0007499, loop_time: 5m 39s\n",
      "\n",
      "Validation\tacc: 0.0000, wer: 0.9932, cer: 0.6588, loop_time: 0m 3s\n",
      "Model weights saved\n",
      "Weights removed '../data/experiments/Peter's_notes/model-13-0.0000.ckpt'\n",
      "\n",
      "Epoch 16, Loss: 0.25548, cer: 0.1359, LR: 0.0007112, loop_time: 5m 40s\n",
      "\n",
      "Validation\tacc: 0.0000, wer: 1.0006, cer: 0.6759, loop_time: 0m 3s\n",
      "Model weights saved\n",
      "Weights removed '../data/experiments/Peter's_notes/model-14-0.0000.ckpt'\n",
      "\n",
      "Epoch 17, Loss: 0.24194, cer: 0.1327, LR: 0.0006709, loop_time: 5m 40s\n",
      "\n",
      "Validation\tacc: 0.0000, wer: 1.0101, cer: 0.6573, loop_time: 0m 3s\n",
      "Model weights saved\n",
      "Weights removed '../data/experiments/Peter's_notes/model-15-0.0000.ckpt'\n",
      "\n",
      "Epoch 18, Loss: 0.23245, cer: 0.1267, LR: 0.0006293, loop_time: 5m 39s\n",
      "\n",
      "Validation\tacc: 0.0000, wer: 1.0043, cer: 0.6653, loop_time: 0m 3s\n",
      "Model weights saved\n",
      "Weights removed '../data/experiments/Peter's_notes/model-16-0.0000.ckpt'\n",
      "\n",
      "Epoch 19, Loss: 0.18820, cer: 0.1110, LR: 0.0005867, loop_time: 5m 40s\n",
      "\n",
      "Validation\tacc: 0.0000, wer: 1.0241, cer: 0.6489, loop_time: 0m 3s\n",
      "Model weights saved\n",
      "Weights removed '../data/experiments/Peter's_notes/model-17-0.0000.ckpt'\n",
      "\n",
      "Epoch 20, Loss: 0.15113, cer: 0.1086, LR: 0.0005435, loop_time: 5m 39s\n",
      "\n",
      "Validation\tacc: 0.0000, wer: 1.0417, cer: 0.6626, loop_time: 0m 3s\n",
      "Model weights saved\n",
      "Weights removed '../data/experiments/Peter's_notes/model-18-0.0000.ckpt'\n",
      "\n",
      "Epoch 21, Loss: 0.12031, cer: 0.0971, LR: 0.0004999, loop_time: 5m 40s\n",
      "\n",
      "Validation\tacc: 0.0000, wer: 1.0262, cer: 0.6400, loop_time: 0m 3s\n",
      "Model weights saved\n",
      "Weights removed '../data/experiments/Peter's_notes/model-19-0.0000.ckpt'\n",
      "\n",
      "Epoch 22, Loss: 0.08971, cer: 0.0864, LR: 0.0004563, loop_time: 5m 40s\n",
      "\n",
      "Validation\tacc: 0.0000, wer: 1.0086, cer: 0.6436, loop_time: 0m 3s\n",
      "Model weights saved\n",
      "Weights removed '../data/experiments/Peter's_notes/model-20-0.0000.ckpt'\n",
      "\n",
      "Epoch 23, Loss: 0.06232, cer: 0.0976, LR: 0.0004131, loop_time: 5m 39s\n",
      "\n",
      "Validation\tacc: 0.0000, wer: 1.0121, cer: 0.6351, loop_time: 0m 3s\n",
      "Model weights saved\n",
      "Weights removed '../data/experiments/Peter's_notes/model-21-0.0000.ckpt'\n",
      "\n",
      "Epoch 24, Loss: 0.04055, cer: 0.0926, LR: 0.0003705, loop_time: 5m 39s\n",
      "\n",
      "Validation\tacc: 0.0000, wer: 1.0416, cer: 0.6490, loop_time: 0m 3s\n",
      "Model weights saved\n",
      "Weights removed '../data/experiments/Peter's_notes/model-22-0.0000.ckpt'\n",
      "\n",
      "Epoch 25, Loss: 0.02675, cer: 0.0977, LR: 0.0003289, loop_time: 5m 39s\n",
      "\n",
      "Validation\tacc: 0.0000, wer: 1.0729, cer: 0.6403, loop_time: 0m 3s\n",
      "Model weights saved\n",
      "Weights removed '../data/experiments/Peter's_notes/model-23-0.0000.ckpt'\n",
      "\n",
      "Epoch 26, Loss: 0.01612, cer: 0.0834, LR: 0.0002886, loop_time: 5m 39s\n",
      "\n",
      "Validation\tacc: 0.0000, wer: 1.0403, cer: 0.6471, loop_time: 0m 3s\n",
      "Model weights saved\n",
      "Weights removed '../data/experiments/Peter's_notes/model-24-0.0000.ckpt'\n",
      "\n",
      "Epoch 27, Loss: 0.00999, cer: 0.1091, LR: 0.0002499, loop_time: 5m 38s\n",
      "\n",
      "Validation\tacc: 0.0000, wer: 1.0529, cer: 0.6337, loop_time: 0m 3s\n",
      "Model weights saved\n",
      "Weights removed '../data/experiments/Peter's_notes/model-25-0.0000.ckpt'\n",
      "\n",
      "Epoch 28, Loss: 0.00581, cer: 0.0891, LR: 0.0002131, loop_time: 5m 39s\n",
      "\n",
      "Validation\tacc: 0.0000, wer: 1.0738, cer: 0.6316, loop_time: 0m 3s\n",
      "Model weights saved\n",
      "Weights removed '../data/experiments/Peter's_notes/model-26-0.0000.ckpt'\n",
      "\n",
      "Epoch 29, Loss: 0.00394, cer: 0.0598, LR: 0.0001785, loop_time: 5m 39s\n",
      "\n",
      "Validation\tacc: 0.0000, wer: 1.0577, cer: 0.6226, loop_time: 0m 3s\n",
      "Model weights saved\n",
      "Weights removed '../data/experiments/Peter's_notes/model-27-0.0000.ckpt'\n",
      "\n",
      "Epoch 30, Loss: 0.00233, cer: 0.0662, LR: 0.0001464, loop_time: 5m 40s\n",
      "\n",
      "Validation\tacc: 0.0000, wer: 1.0453, cer: 0.6339, loop_time: 0m 3s\n",
      "Model weights saved\n",
      "Weights removed '../data/experiments/Peter's_notes/model-28-0.0000.ckpt'\n",
      "\n",
      "Epoch 31, Loss: 0.00186, cer: 0.0664, LR: 0.0001169, loop_time: 5m 40s\n",
      "\n",
      "Validation\tacc: 0.0000, wer: 1.0361, cer: 0.6220, loop_time: 0m 3s\n",
      "Model weights saved\n",
      "Weights removed '../data/experiments/Peter's_notes/model-29-0.0000.ckpt'\n",
      "\n",
      "Epoch 32, Loss: 0.00130, cer: 0.0580, LR: 0.0000904, loop_time: 5m 39s\n",
      "\n",
      "Validation\tacc: 0.0000, wer: 1.0403, cer: 0.6237, loop_time: 0m 3s\n",
      "Model weights saved\n",
      "Weights removed '../data/experiments/Peter's_notes/model-30-0.0000.ckpt'\n",
      "\n",
      "Epoch 33, Loss: 0.00071, cer: 0.0566, LR: 0.0000669, loop_time: 5m 39s\n",
      "\n",
      "Validation\tacc: 0.0000, wer: 1.0492, cer: 0.6199, loop_time: 0m 3s\n",
      "Model weights saved\n",
      "Weights removed '../data/experiments/Peter's_notes/model-31-0.0000.ckpt'\n",
      "\n",
      "Epoch 34, Loss: 0.00034, cer: 0.0580, LR: 0.0000468, loop_time: 5m 39s\n",
      "\n",
      "Validation\tacc: 0.0000, wer: 1.0324, cer: 0.6182, loop_time: 0m 3s\n",
      "Model weights saved\n",
      "Weights removed '../data/experiments/Peter's_notes/model-32-0.0000.ckpt'\n",
      "\n",
      "Epoch 35, Loss: 0.00021, cer: 0.0562, LR: 0.0000301, loop_time: 5m 39s\n",
      "\n",
      "Validation\tacc: 0.0000, wer: 1.0389, cer: 0.6186, loop_time: 0m 3s\n",
      "Model weights saved\n",
      "Weights removed '../data/experiments/Peter's_notes/model-33-0.0000.ckpt'\n",
      "\n",
      "Epoch 36, Loss: 0.00016, cer: 0.0567, LR: 0.0000170, loop_time: 5m 40s\n",
      "\n",
      "Validation\tacc: 0.0000, wer: 1.0434, cer: 0.6216, loop_time: 0m 3s\n",
      "Model weights saved\n",
      "Weights removed '../data/experiments/Peter's_notes/model-34-0.0000.ckpt'\n",
      "\n",
      "Epoch 37, Loss: 0.00013, cer: 0.0565, LR: 0.0000076, loop_time: 5m 39s\n",
      "\n",
      "Validation\tacc: 0.0000, wer: 1.0259, cer: 0.6147, loop_time: 0m 3s\n",
      "Model weights saved\n",
      "Weights removed '../data/experiments/Peter's_notes/model-35-0.0000.ckpt'\n",
      "\n",
      "Epoch 38, Loss: 0.00011, cer: 0.0554, LR: 0.0000019, loop_time: 5m 39s\n",
      "\n",
      "Validation\tacc: 0.0000, wer: 1.0382, cer: 0.6147, loop_time: 0m 3s\n",
      "Model weights saved\n",
      "Weights removed '../data/experiments/Peter's_notes/model-36-0.0000.ckpt'\n",
      "\n",
      "Epoch 39, Loss: 0.00010, cer: 0.0555, LR: 0.0000000, loop_time: 5m 39s\n",
      "\n",
      "Validation\tacc: 0.0000, wer: 1.0401, cer: 0.6153, loop_time: 0m 3s\n",
      "Model weights saved\n",
      "Weights removed '../data/experiments/Peter's_notes/model-37-0.0000.ckpt'\n"
     ]
    },
    {
     "data": {
      "image/png": "[encoded data removed]",
      "text/plain": [
       "<Figure size 1296x432 with 2 Axes>"
      ]
     },
     "metadata": {
      "needs_background": "light"
     },
     "output_type": "display_data"
    },
    {
     "data": {
      "text/plain": [
       "<Figure size 432x288 with 0 Axes>"
      ]
     },
     "metadata": {},
     "output_type": "display_data"
    }
   ],
   "source": [
    "#!g1.1\n",
    "%run train.py --config_path \"{CONFIG_PATH}\""
   ]
  },
  {
   "cell_type": "markdown",
   "id": "2e063922",
   "metadata": {
    "cellId": "nc0wg0ebsqnxkl66zjj",
    "pycharm": {
     "name": "#%% md\n"
    }
   },
   "source": [
    "### Тестирование модели"
   ]
  },
  {
   "cell_type": "code",
   "execution_count": null,
   "id": "669aeba7",
   "metadata": {
    "cellId": "rl6b3ydbw4jaz6yqa5sxrp",
    "pycharm": {
     "name": "#%%\n"
    }
   },
   "outputs": [],
   "source": [
    "import cv2\n",
    "import random\n",
    "\n",
    "from os import listdir\n",
    "from os.path import isfile, join\n",
    "from matplotlib import pyplot as plt\n",
    "\n",
    "from utils.predictor import OcrPredictor\n",
    "from utils.config import Config"
   ]
  },
  {
   "cell_type": "code",
   "execution_count": null,
   "id": "d2605524",
   "metadata": {
    "cellId": "c7c263yxae9cr9yllf18o6",
    "pycharm": {
     "name": "#%%\n"
    }
   },
   "outputs": [],
   "source": [
    "config = Config(CONFIG_PATH)\n",
    "models_directory = config.get(\"save_dir\")\n",
    "images_directory = \"../data/Peter's_notes/train/images\"\n",
    "\n",
    "models_directory # = '../data/experiments/test'"
   ]
  },
  {
   "cell_type": "code",
   "execution_count": null,
   "id": "75a5ef97",
   "metadata": {
    "cellId": "wk4xw8vnxit8acs6ezvv",
    "pycharm": {
     "name": "#%%\n"
    }
   },
   "outputs": [],
   "source": [
    "images = [f for f in listdir(images_directory) if isfile(join(images_directory, f))]\n",
    "models = [f for f in listdir(models_directory) if isfile(join(models_directory, f))]"
   ]
  },
  {
   "cell_type": "code",
   "execution_count": null,
   "id": "9f8d2bb6",
   "metadata": {
    "cellId": "fi93vjfliscmr39ml9x83e",
    "pycharm": {
     "name": "#%%\n"
    }
   },
   "outputs": [],
   "source": [
    "models = list(filter(lambda model_name: model_name[6:model_name.find('-', 6)].isdigit(), models))\n",
    "models = sorted(models, key=lambda model_name: int(model_name[6:model_name.find('-', 6)]), reverse=True)\n",
    "model_path = join(models_directory, models[0])\n",
    "model_path # = \"../data/experiments/handwritten_names/tiny-ViTSTR.ckpt\""
   ]
  },
  {
   "cell_type": "code",
   "execution_count": null,
   "id": "983a4a8d",
   "metadata": {
    "cellId": "nw6x3qgf8bg6rullo9yyi",
    "pycharm": {
     "name": "#%%\n"
    }
   },
   "outputs": [],
   "source": [
    "image_path = join(images_directory, random.choice(images))\n",
    "image_path"
   ]
  },
  {
   "cell_type": "code",
   "execution_count": null,
   "id": "c754ff21",
   "metadata": {
    "cellId": "ukdiuhy0buquf80x97drb",
    "pycharm": {
     "name": "#%%\n"
    }
   },
   "outputs": [],
   "source": [
    "#!g1.1\n",
    "predictor = OcrPredictor(\n",
    "    model_path=model_path,\n",
    "    config_path=CONFIG_PATH,\n",
    "    device=DEVICE\n",
    ")"
   ]
  },
  {
   "cell_type": "code",
   "execution_count": null,
   "id": "52d27d32",
   "metadata": {
    "cellId": "h5gnnntvieaft9do20xtq9",
    "pycharm": {
     "name": "#%%\n"
    }
   },
   "outputs": [],
   "source": [
    "img = cv2.imread(image_path)"
   ]
  },
  {
   "cell_type": "code",
   "execution_count": null,
   "id": "a8650b0f",
   "metadata": {
    "cellId": "ow3e6v15fq0qhev5fz534b",
    "pycharm": {
     "name": "#%%\n"
    }
   },
   "outputs": [],
   "source": [
    "#!g1.1\n",
    "pred_data = predictor(img)"
   ]
  },
  {
   "cell_type": "code",
   "execution_count": null,
   "id": "9636deeb",
   "metadata": {
    "cellId": "g17uagjxac1d6cs4xnza8",
    "pycharm": {
     "name": "#%%\n"
    }
   },
   "outputs": [],
   "source": [
    "print(\"Prediction: \" + pred_data)\n",
    "\n",
    "plt.figure(figsize=(5, 5))\n",
    "plt.imshow(img)"
   ]
  }
 ],
 "metadata": {
  "kernelspec": {
   "display_name": "Yandex DataSphere Kernel",
   "language": "python",
   "name": "python3"
  },
  "language_info": {
   "codemirror_mode": {
    "name": "ipython",
    "version": 3
   },
   "file_extension": ".py",
   "mimetype": "text/x-python",
   "name": "python",
   "nbconvert_exporter": "python",
   "pygments_lexer": "ipython3",
   "version": "3.7.7"
  },
  "notebookId": "31552c0c-a145-45fe-b78b-efcba841c4a9",
  "notebookPath": "htr_methods_review/text_recognition/model_training.ipynb"
 },
 "nbformat": 4,
 "nbformat_minor": 5
}
