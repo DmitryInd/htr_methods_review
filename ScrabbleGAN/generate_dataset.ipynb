{
 "cells": [
  {
   "cell_type": "code",
   "execution_count": 1,
   "id": "038ed23a",
   "metadata": {
    "cellId": "qxyebik3hhl3vpn7lv0f4x",
    "pycharm": {
     "name": "#%%\n"
    }
   },
   "outputs": [],
   "source": [
    "%load_ext autoreload\n",
    "%autoreload 2"
   ]
  },
  {
   "cell_type": "code",
   "execution_count": 2,
   "id": "c1fb89f5",
   "metadata": {
    "cellId": "wxh0a9oryrqx8vsalhcm",
    "pycharm": {
     "name": "#%%\n"
    }
   },
   "outputs": [],
   "source": [
    "#!g1.1\n",
    "%run prepare_data.py \\\n",
    "    --data_csv_path \"../data/Peter's_notes/notes_train.csv\" \\\n",
    "    --output_pkl_name \"../data/Peter's_notes/train_dataset.pkl\""
   ]
  },
  {
   "cell_type": "markdown",
   "id": "efdde59a",
   "metadata": {
    "cellId": "oh6xmw3xjtabf2cb8s81z5"
   },
   "source": [
    "#### Training GAN on real dataset"
   ]
  },
  {
   "cell_type": "code",
   "execution_count": 3,
   "id": "600f6e05",
   "metadata": {
    "cellId": "wj6l7wpqfizz5p2bwn3",
    "pycharm": {
     "name": "#%%\n"
    }
   },
   "outputs": [],
   "source": [
    "#!g1.1\n",
    "%run train.py \\\n",
    "    --data_pkl_path \"../data/Peter's_notes/train_dataset.pkl\" \\\n",
    "    --lexicon_path \"../data/Peter's_notes/notes_train.txt\""
   ]
  },
  {
   "cell_type": "markdown",
   "id": "e5a8d2f5",
   "metadata": {
    "cellId": "7yz9562hm8kdiq33mjozp9"
   },
   "source": [
    "#### Generating artificial dataset"
   ]
  },
  {
   "cell_type": "code",
   "execution_count": 4,
   "id": "319a521b",
   "metadata": {
    "cellId": "otlsvnbqhjrv6250ifxhmk",
    "pycharm": {
     "name": "#%%\n"
    }
   },
   "outputs": [],
   "source": [
    "#!g1.1\n",
    "%run generate_images.py \\\n",
    "    --checkpoint_path ./weights/model_checkpoint_epoch_1000.pth.tar \\\n",
    "    --char_map_path \"../data/Peter's_notes/train_dataset.pkl\" \\\n",
    "    --num_imgs 25000 \\\n",
    "    --lexicon_path \"../data/Peter's_notes/synthetic_notes.txt\" \\\n",
    "    --output_path \"../data/generated_synth/Peter's_notes/train\""
   ]
  }
 ],
 "metadata": {
  "kernelspec": {
   "display_name": "Yandex DataSphere Kernel",
   "language": "python",
   "name": "python3"
  },
  "language_info": {
   "codemirror_mode": {
    "name": "ipython",
    "version": 3
   },
   "file_extension": ".py",
   "mimetype": "text/x-python",
   "name": "python",
   "nbconvert_exporter": "python",
   "pygments_lexer": "ipython3",
   "version": "3.7.7"
  },
  "notebookId": "a778ec01-acd2-4957-9387-3ef45e344512",
  "notebookPath": "htr_methods_review/ScrabbleGAN/generate_dataset.ipynb"
 },
 "nbformat": 4,
 "nbformat_minor": 5
}
