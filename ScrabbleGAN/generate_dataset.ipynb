{
 "cells": [
  {
   "cell_type": "code",
   "execution_count": null,
   "id": "2022e759",
   "metadata": {
    "cellId": "t9er7f5ym5qn92byozixm"
   },
   "outputs": [],
   "source": []
  }
 ],
 "metadata": {
  "kernelspec": {
   "display_name": "Yandex DataSphere Kernel",
   "language": "python",
   "name": "python3"
  },
  "language_info": {
   "codemirror_mode": {
    "name": "ipython",
    "version": 3
   },
   "file_extension": ".py",
   "mimetype": "text/x-python",
   "name": "python",
   "nbconvert_exporter": "python",
   "pygments_lexer": "ipython3",
   "version": "3.7.7"
  },
  "notebookId": "a778ec01-acd2-4957-9387-3ef45e344512",
  "notebookPath": "htr_methods_review/ScrabbleGAN/Untitled.ipynb"
 },
 "nbformat": 4,
 "nbformat_minor": 5
}
