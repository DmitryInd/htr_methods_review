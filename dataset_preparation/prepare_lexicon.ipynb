{
 "cells": [
  {
   "cell_type": "code",
   "execution_count": 15,
   "metadata": {
    "collapsed": true,
    "pycharm": {
     "name": "#%%\n"
    }
   },
   "outputs": [],
   "source": [
    "import os\n",
    "import pandas as pd\n",
    "import shutil\n",
    "import sys\n",
    "import wget\n",
    "import zipfile"
   ]
  },
  {
   "cell_type": "code",
   "execution_count": 4,
   "outputs": [],
   "source": [
    "os.environ['KAGGLE_USERNAME'] = \"indenbomdmitry\"\n",
    "os.environ['KAGGLE_KEY'] = \"d71056824e379aa1756815ce2a658476\"\n",
    "import kaggle"
   ],
   "metadata": {
    "collapsed": false,
    "pycharm": {
     "name": "#%%\n"
    }
   }
  },
  {
   "cell_type": "code",
   "execution_count": 6,
   "outputs": [],
   "source": [
    "def clear_directory(path_to_dir: str):\n",
    "    if os.path.exists(path_to_dir):\n",
    "        shutil.rmtree(path_to_dir)\n",
    "    os.makedirs(path_to_dir)"
   ],
   "metadata": {
    "collapsed": false,
    "pycharm": {
     "name": "#%%\n"
    }
   }
  },
  {
   "cell_type": "code",
   "execution_count": 7,
   "outputs": [],
   "source": [
    "def download_dataset_from_kaggle(kaggle_dataset_path: str, out_directory: str):\n",
    "    clear_directory(out_directory)\n",
    "    kaggle.api.dataset_download_files(kaggle_dataset_path,\n",
    "                                      path=out_directory,\n",
    "                                      unzip=True,\n",
    "                                      quiet=False)"
   ],
   "metadata": {
    "collapsed": false,
    "pycharm": {
     "name": "#%%\n"
    }
   }
  },
  {
   "cell_type": "code",
   "execution_count": 16,
   "outputs": [],
   "source": [
    "def bar_progress(current, total, width=80):\n",
    "    progress_message = \"Downloading: %d%% [%d / %d] bytes\" % (current / total * 100, current, total)\n",
    "    # Don't use print() as it will print in new line every time.\n",
    "    sys.stdout.write(\"\\r\" + progress_message)\n",
    "    sys.stdout.flush()\n",
    "\n",
    "def download_dataset_on_link(url, out_directory):\n",
    "    clear_directory(out_directory)\n",
    "    filename = wget.download(url,\n",
    "                             out=out_directory,\n",
    "                             bar=bar_progress)\n",
    "    with zipfile.ZipFile(filename, 'r') as zip_ref:\n",
    "        zip_ref.extractall(out_directory)\n",
    "    os.remove(filename)"
   ],
   "metadata": {
    "collapsed": false,
    "pycharm": {
     "name": "#%%\n"
    }
   }
  },
  {
   "cell_type": "code",
   "execution_count": 36,
   "outputs": [],
   "source": [
    "def add_sequence_to_lexicon(lexicon: list, text: str, max_length: int):\n",
    "    seq = \"\"\n",
    "    for word in text.split():\n",
    "        if len(word) > max_length:\n",
    "            continue\n",
    "        if len(seq) + len(word) > max_length:\n",
    "            lexicon.append(seq)\n",
    "            seq = \"\"\n",
    "        if seq == \"\":\n",
    "            seq = word\n",
    "        else:\n",
    "            seq += ' ' + word\n",
    "\n",
    "    lexicon.append(seq)\n",
    "\n",
    "    return lexicon"
   ],
   "metadata": {
    "collapsed": false,
    "pycharm": {
     "name": "#%%\n"
    }
   }
  },
  {
   "cell_type": "code",
   "execution_count": 33,
   "outputs": [],
   "source": [
    "def write_lexicon(lexicon: list, path_to_file):\n",
    "    with open(path_to_file, 'w', encoding=\"utf-8\") as the_file:\n",
    "        the_file.write('\\n'.join(lexicon))"
   ],
   "metadata": {
    "collapsed": false,
    "pycharm": {
     "name": "#%%\n"
    }
   }
  },
  {
   "cell_type": "markdown",
   "source": [
    "#### Preparing lexicon of indian english names for handwritten names:"
   ],
   "metadata": {
    "collapsed": false,
    "pycharm": {
     "name": "#%% md\n"
    }
   }
  },
  {
   "cell_type": "code",
   "execution_count": 12,
   "outputs": [
    {
     "name": "stdout",
     "output_type": "stream",
     "text": [
      "Downloading indian-names-male-and-female.zip to ../data/lexicon-english-names\n"
     ]
    },
    {
     "name": "stderr",
     "output_type": "stream",
     "text": [
      "100%|██████████| 539k/539k [00:00<00:00, 10.1MB/s]"
     ]
    },
    {
     "name": "stdout",
     "output_type": "stream",
     "text": [
      "\n"
     ]
    },
    {
     "name": "stderr",
     "output_type": "stream",
     "text": [
      "\n"
     ]
    }
   ],
   "source": [
    "path_to_dir = \"../data/lexicon-english-names\"\n",
    "download_dataset_from_kaggle(\"kanchitank/indian-names-male-and-female\",\n",
    "                             path_to_dir)"
   ],
   "metadata": {
    "collapsed": false,
    "pycharm": {
     "name": "#%%\n"
    }
   }
  },
  {
   "cell_type": "code",
   "execution_count": 23,
   "outputs": [],
   "source": [
    "data = pd.read_csv(path_to_dir + \"/Names_dataset.csv\")\n",
    "# Deleting empty rows\n",
    "data = data.dropna()"
   ],
   "metadata": {
    "collapsed": false,
    "pycharm": {
     "name": "#%%\n"
    }
   }
  },
  {
   "cell_type": "code",
   "execution_count": 37,
   "outputs": [],
   "source": [
    "texts = []\n",
    "max_len = 40\n",
    "for sequence in data[\"name\"].to_list():\n",
    "    add_sequence_to_lexicon(texts, str(sequence), max_len)"
   ],
   "metadata": {
    "collapsed": false,
    "pycharm": {
     "name": "#%%\n"
    }
   }
  },
  {
   "cell_type": "code",
   "execution_count": 38,
   "outputs": [
    {
     "name": "stdout",
     "output_type": "stream",
     "text": [
      "Number of texts is 125200\n"
     ]
    }
   ],
   "source": [
    "print(\"Number of texts is \" + str(len(texts)))"
   ],
   "metadata": {
    "collapsed": false,
    "pycharm": {
     "name": "#%%\n"
    }
   }
  },
  {
   "cell_type": "code",
   "execution_count": 39,
   "outputs": [],
   "source": [
    "write_lexicon(texts, path_to_dir + \"/names_lexicon.txt\")"
   ],
   "metadata": {
    "collapsed": false,
    "pycharm": {
     "name": "#%%\n"
    }
   }
  },
  {
   "cell_type": "markdown",
   "source": [
    "#### Preparing lexicon of russian news for cyrillic texts:"
   ],
   "metadata": {
    "collapsed": false,
    "pycharm": {
     "name": "#%% md\n"
    }
   }
  },
  {
   "cell_type": "code",
   "execution_count": null,
   "outputs": [],
   "source": [],
   "metadata": {
    "collapsed": false,
    "pycharm": {
     "name": "#%%\n"
    }
   }
  }
 ],
 "metadata": {
  "kernelspec": {
   "display_name": "Python 3",
   "language": "python",
   "name": "python3"
  },
  "language_info": {
   "codemirror_mode": {
    "name": "ipython",
    "version": 2
   },
   "file_extension": ".py",
   "mimetype": "text/x-python",
   "name": "python",
   "nbconvert_exporter": "python",
   "pygments_lexer": "ipython2",
   "version": "2.7.6"
  }
 },
 "nbformat": 4,
 "nbformat_minor": 0
}