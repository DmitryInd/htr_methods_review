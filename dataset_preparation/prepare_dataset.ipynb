{
 "cells": [
  {
   "cell_type": "code",
   "execution_count": null,
   "id": "d919931a",
   "metadata": {
    "cellId": "82uqltpcs2s28ccmfnk7m5h",
    "pycharm": {
     "name": "#%%\n"
    }
   },
   "outputs": [],
   "source": [
    "%pip install kaggle\n",
    "%pip install wget"
   ]
  },
  {
   "cell_type": "code",
   "execution_count": 1,
   "id": "b77068bf",
   "metadata": {
    "cellId": "14qd7ru8388kl1xws6od9",
    "collapsed": false,
    "jupyter": {
     "outputs_hidden": false
    },
    "pycharm": {
     "name": "#%%\n"
    }
   },
   "outputs": [],
   "source": [
    "%load_ext autoreload\n",
    "%autoreload 2"
   ]
  },
  {
   "cell_type": "code",
   "execution_count": 2,
   "id": "de5dde2a",
   "metadata": {
    "cellId": "emk7ni6w0kqdsc34ms1wy9",
    "pycharm": {
     "name": "#%%\n"
    }
   },
   "outputs": [],
   "source": [
    "kaggle_dataset_names = {\n",
    "    \"handwritten_names\": \"landlord/handwriting-recognition\",\n",
    "    \"cyrillic_texts\": \"constantinwerner/cyrillic-handwriting-dataset\"\n",
    "}\n",
    "dataset_links = {\n",
    "    \"Peter's_notes\": \"https://drive.google.com/u/0/uc?id=1Qki21iEcg_iwMo3kWuaHi5AlxxpLKpof&export=download&confirm=t\"\n",
    "}"
   ]
  },
  {
   "cell_type": "markdown",
   "id": "b621aede",
   "metadata": {
    "cellId": "cmkuhcg6p67vwm9d0mxuj9",
    "pycharm": {
     "name": "#%% md\n"
    }
   },
   "source": [
    "### Загрузка данных"
   ]
  },
  {
   "cell_type": "code",
   "execution_count": 3,
   "id": "23e46408",
   "metadata": {
    "cellId": "cpqp2rqifdfau5zpoywltj",
    "pycharm": {
     "name": "#%%\n"
    }
   },
   "outputs": [],
   "source": [
    "import os\n",
    "import sys\n",
    "import wget\n",
    "import zipfile\n",
    "import shutil"
   ]
  },
  {
   "cell_type": "code",
   "execution_count": 4,
   "id": "4624bdd1",
   "metadata": {
    "cellId": "z3krqgayx2d9jzfx0iugn",
    "pycharm": {
     "name": "#%%\n"
    }
   },
   "outputs": [],
   "source": [
    "os.environ['KAGGLE_USERNAME'] = \"indenbomdmitry\"\n",
    "os.environ['KAGGLE_KEY'] = \"d71056824e379aa1756815ce2a658476\"\n",
    "import kaggle"
   ]
  },
  {
   "cell_type": "code",
   "execution_count": 5,
   "id": "56d18009",
   "metadata": {
    "cellId": "vpc89nr45mhhlrn0klqaq",
    "pycharm": {
     "name": "#%%\n"
    }
   },
   "outputs": [],
   "source": [
    "def bar_progress(current, total, width=80):\n",
    "  progress_message = \"Downloading: %d%% [%d / %d] bytes\" % (current / total * 100, current, total)\n",
    "  # Don't use print() as it will print in new line every time.\n",
    "  sys.stdout.write(\"\\r\" + progress_message)\n",
    "  sys.stdout.flush()"
   ]
  },
  {
   "cell_type": "code",
   "execution_count": 6,
   "id": "747736bd",
   "metadata": {
    "cellId": "von7sj8d2kndc909cmqus",
    "pycharm": {
     "name": "#%%\n"
    }
   },
   "outputs": [
    {
     "name": "stdout",
     "output_type": "stream",
     "text": [
      "Downloading cyrillic-handwriting-dataset.zip to ../data/cyrillic_texts\n",
      "\n"
     ]
    },
    {
     "name": "stderr",
     "output_type": "stream",
     "text": [
      "100%|██████████| 501M/501M [00:11<00:00, 45.6MB/s]\n"
     ]
    }
   ],
   "source": [
    "dataset_name = \"cyrillic_texts\"\n",
    "out_directory = \"../data/\" + dataset_name\n",
    "\n",
    "if os.path.exists(out_directory):\n",
    "    shutil.rmtree(out_directory)\n",
    "os.makedirs(out_directory)\n",
    "\n",
    "if dataset_name in kaggle_dataset_names.keys():\n",
    "    kaggle.api.dataset_download_files(kaggle_dataset_names[dataset_name],\n",
    "                                      path=out_directory,\n",
    "                                      unzip=True,\n",
    "                                      quiet=False)\n",
    "elif dataset_name in dataset_links.keys():\n",
    "    filename = wget.download(dataset_links[dataset_name], \n",
    "                             out=out_directory, \n",
    "                             bar=bar_progress)\n",
    "    with zipfile.ZipFile(filename, 'r') as zip_ref:\n",
    "        zip_ref.extractall(out_directory)\n",
    "    os.remove(filename)"
   ]
  },
  {
   "cell_type": "markdown",
   "id": "eccc133e",
   "metadata": {
    "cellId": "w7pi5ym3cesvbzlvthvwdn",
    "pycharm": {
     "name": "#%% md\n"
    }
   },
   "source": [
    "### Обработка данных"
   ]
  },
  {
   "cell_type": "markdown",
   "id": "c7d7c7f4",
   "metadata": {
    "cellId": "puvg8vd4jlil3yp4cvh8rr",
    "pycharm": {
     "name": "#%% md\n"
    }
   },
   "source": [
    "##### Для handwritten_names:"
   ]
  },
  {
   "cell_type": "code",
   "execution_count": 7,
   "id": "ed99e9a8",
   "metadata": {
    "cellId": "c3d00bcyuq36dk7zewpfk",
    "pycharm": {
     "name": "#%%\n"
    }
   },
   "outputs": [
    {
     "name": "stdout",
     "output_type": "stream",
     "text": [
      "Symbols in dataset:\n",
      " '-ABCDEFGHIJKLMNOPQRSTUVWXYZ`abcefghilmnoprstuvyz\n",
      "Max len of sequence: 34\n",
      "INFO: Success!\n"
     ]
    }
   ],
   "source": [
    "%run main.py --path_to_table \"../data/handwritten_names/written_name_train_v2.csv\" --images_dir \"../data/handwritten_names/train_v2/train\""
   ]
  },
  {
   "cell_type": "code",
   "execution_count": 8,
   "id": "068859ba",
   "metadata": {
    "cellId": "h55ttjjoujwklge1fit1z",
    "pycharm": {
     "name": "#%%\n"
    }
   },
   "outputs": [
    {
     "name": "stdout",
     "output_type": "stream",
     "text": [
      "Symbols in dataset:\n",
      " '-ABCDEFGHIJKLMNOPQRSTUVWXYZagilnoprstu\n",
      "Max len of sequence: 21\n",
      "INFO: Success!\n"
     ]
    }
   ],
   "source": [
    "%run main.py --path_to_table \"../data/handwritten_names/written_name_validation_v2.csv\" --images_dir \"../data/handwritten_names/validation_v2/validation\""
   ]
  },
  {
   "cell_type": "code",
   "execution_count": 9,
   "id": "fb0decf6",
   "metadata": {
    "cellId": "wrz63lwkpc8ierrdvw86w",
    "pycharm": {
     "name": "#%%\n"
    }
   },
   "outputs": [
    {
     "name": "stdout",
     "output_type": "stream",
     "text": [
      "Symbols in dataset:\n",
      " '-ABCDEFGHIJKLMNOPQRSTUVWXYZacdefilorstu\n",
      "Max len of sequence: 24\n",
      "INFO: Success!\n"
     ]
    }
   ],
   "source": [
    "%run main.py --path_to_table \"../data/handwritten_names/written_name_test_v2.csv\" --images_dir \"../data/handwritten_names/test_v2/test\""
   ]
  },
  {
   "cell_type": "markdown",
   "id": "e764f3a5",
   "metadata": {
    "cellId": "z35upe3p2o3vvqnlbx1hv",
    "pycharm": {
     "name": "#%% md\n"
    }
   },
   "source": [
    "##### Для Peter's_notes:"
   ]
  },
  {
   "cell_type": "code",
   "execution_count": 10,
   "id": "d5e9dc10",
   "metadata": {
    "cellId": "cp3n3um58hdpu9gi0mtd2c",
    "pycharm": {
     "name": "#%%\n"
    }
   },
   "outputs": [
    {
     "name": "stdout",
     "output_type": "stream",
     "text": [
      "Symbols in dataset:\n",
      " ()+/0123456789[]abdefghiklmnoprstu|×ǂабвгдежзийклмнопрстуфхцчшщъыьэюяѣ–⊕⊗\n",
      "Max len of sequence: 71\n",
      "INFO: Success!\n"
     ]
    }
   ],
   "source": [
    "%run main.py --path_to_table \"../data/Peter's_notes/notes.csv\" --images_dir \"../data/Peter's_notes/train/images\" --texts_dir \"../data/Peter's_notes/train/words\" --train_validation_test_split"
   ]
  },
  {
   "cell_type": "markdown",
   "id": "cd6bc3e2",
   "metadata": {
    "cellId": "rpc2b2nfossew0j5nafm7n",
    "pycharm": {
     "name": "#%% md\n"
    }
   },
   "source": [
    "##### Для cyrillic_texts"
   ]
  },
  {
   "cell_type": "code",
   "execution_count": 11,
   "id": "1be9d47d",
   "metadata": {
    "cellId": "lfxmzzezza9hgx5mejwai8",
    "collapsed": false,
    "jupyter": {
     "outputs_hidden": false
    },
    "pycharm": {
     "name": "#%%\n"
    }
   },
   "outputs": [
    {
     "name": "stdout",
     "output_type": "stream",
     "text": [
      "Symbols in dataset:\n",
      " !\"%(),-./0123456789:;?[]«»АБВГДЕЖЗИЙКЛМНОПРСТУФХЦЧШЩЭЮЯабвгдежзийклмнопрстуфхцчшщъыьэюяё\n",
      "Max len of sequence: 25\n",
      "INFO: Success!\n"
     ]
    }
   ],
   "source": [
    "%run main.py --path_to_table \"../data/cyrillic_texts/train.tsv\" --images_dir \"../data/cyrillic_texts/train\""
   ]
  },
  {
   "cell_type": "code",
   "execution_count": 12,
   "id": "653c323b",
   "metadata": {
    "cellId": "1m96qnt0dvqbz6hameuq8e",
    "collapsed": false,
    "jupyter": {
     "outputs_hidden": false
    },
    "pycharm": {
     "name": "#%%\n"
    }
   },
   "outputs": [
    {
     "name": "stdout",
     "output_type": "stream",
     "text": [
      "Symbols in dataset:\n",
      " \"(),-./0123456789:АБВГДЕЖЗИЙКЛМНОПРСТУФХЧШЭЮЯабвгдежзийклмнопрстуфхцчшщъыьэюяё\n",
      "Max len of sequence: 22\n",
      "INFO: Success!\n"
     ]
    }
   ],
   "source": [
    "%run main.py --path_to_table \"../data/cyrillic_texts/test.tsv\" --images_dir \"../data/cyrillic_texts/test\""
   ]
  }
 ],
 "metadata": {
  "kernelspec": {
   "display_name": "Yandex DataSphere Kernel",
   "language": "python",
   "name": "python3"
  },
  "language_info": {
   "codemirror_mode": {
    "name": "ipython",
    "version": 3
   },
   "file_extension": ".py",
   "mimetype": "text/x-python",
   "name": "python",
   "nbconvert_exporter": "python",
   "pygments_lexer": "ipython3",
   "version": "3.7.7"
  },
  "notebookId": "3516edfd-0c52-473d-9c33-1aa9777c75ba",
  "notebookPath": "htr_methods_review/dataset_preparation/prepare_dataset.ipynb"
 },
 "nbformat": 4,
 "nbformat_minor": 5
}
