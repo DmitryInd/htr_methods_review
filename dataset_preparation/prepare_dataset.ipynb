{
 "cells": [
  {
   "cell_type": "code",
   "execution_count": 1,
   "id": "04672ec6",
   "metadata": {
    "cellId": "82uqltpcs2s28ccmfnk7m5h",
    "pycharm": {
     "name": "#%%\n"
    }
   },
   "outputs": [
    {
     "name": "stdout",
     "output_type": "stream",
     "text": [
      "Defaulting to user installation because normal site-packages is not writeable\n",
      "Requirement already satisfied: kaggle in /usr/local/lib/python3.7/dist-packages (1.5.8)\n",
      "Requirement already satisfied: six>=1.10 in /kernel/lib/python3.7/site-packages (from kaggle) (1.16.0)\n",
      "Requirement already satisfied: python-slugify in /usr/local/lib/python3.7/dist-packages (from kaggle) (5.0.2)\n",
      "Requirement already satisfied: python-dateutil in /kernel/lib/python3.7/site-packages (from kaggle) (2.8.2)\n",
      "Requirement already satisfied: slugify in /usr/local/lib/python3.7/dist-packages (from kaggle) (0.0.1)\n",
      "Requirement already satisfied: requests in /kernel/lib/python3.7/site-packages (from kaggle) (2.25.1)\n",
      "Requirement already satisfied: tqdm in /usr/local/lib/python3.7/dist-packages (from kaggle) (4.50.0)\n",
      "Requirement already satisfied: urllib3<1.25,>=1.21.1 in /home/jupyter/.local/lib/python3.7/site-packages (from kaggle) (1.24.3)\n",
      "Requirement already satisfied: certifi in /kernel/lib/python3.7/site-packages (from kaggle) (2021.10.8)\n",
      "Requirement already satisfied: text-unidecode>=1.3 in /usr/local/lib/python3.7/dist-packages (from python-slugify->kaggle) (1.3)\n",
      "Requirement already satisfied: idna<3,>=2.5 in /kernel/lib/python3.7/site-packages (from requests->kaggle) (2.10)\n",
      "Requirement already satisfied: chardet<5,>=3.0.2 in /kernel/lib/python3.7/site-packages (from requests->kaggle) (4.0.0)\n",
      "\u001B[33mWARNING: You are using pip version 21.0.1; however, version 22.0.4 is available.\n",
      "You should consider upgrading via the '/usr/local/bin/python3 -m pip install --upgrade pip' command.\u001B[0m\n",
      "Defaulting to user installation because normal site-packages is not writeable\n",
      "Requirement already satisfied: wget in /usr/local/lib/python3.7/dist-packages (3.2)\n",
      "\u001B[33mWARNING: You are using pip version 21.0.1; however, version 22.0.4 is available.\n",
      "You should consider upgrading via the '/usr/local/bin/python3 -m pip install --upgrade pip' command.\u001B[0m\n"
     ]
    }
   ],
   "source": [
    "%pip install kaggle\n",
    "%pip install wget"
   ]
  },
  {
   "cell_type": "code",
   "execution_count": null,
   "id": "33c62b72",
   "metadata": {
    "cellId": "emk7ni6w0kqdsc34ms1wy9",
    "pycharm": {
     "name": "#%%\n"
    }
   },
   "outputs": [],
   "source": [
    "kaggle_dataset_names = {\"handwritten_names\": \"landlord/handwriting-recognition\"}\n",
    "dataset_links = {\"Peter's_notes\": \"https://drive.google.com/u/0/uc?id=1Qki21iEcg_iwMo3kWuaHi5AlxxpLKpof&export=download&confirm=t\"}"
   ]
  },
  {
   "cell_type": "markdown",
   "id": "aa8cca34",
   "metadata": {
    "cellId": "cmkuhcg6p67vwm9d0mxuj9",
    "pycharm": {
     "name": "#%% md\n"
    }
   },
   "source": [
    "### Загрузка данных"
   ]
  },
  {
   "cell_type": "code",
   "execution_count": 8,
   "id": "81f58cd4",
   "metadata": {
    "cellId": "cpqp2rqifdfau5zpoywltj",
    "pycharm": {
     "name": "#%%\n"
    }
   },
   "outputs": [],
   "source": [
    "import os\n",
    "import sys\n",
    "import wget\n",
    "import zipfile\n",
    "import shutil"
   ]
  },
  {
   "cell_type": "code",
   "execution_count": 5,
   "id": "92aaf693",
   "metadata": {
    "cellId": "z3krqgayx2d9jzfx0iugn",
    "pycharm": {
     "name": "#%%\n"
    }
   },
   "outputs": [],
   "source": [
    "os.environ['KAGGLE_USERNAME'] = \"kaggle_login\"\n",
    "os.environ['KAGGLE_KEY'] = \"kaggle_token\"\n",
    "import kaggle"
   ]
  },
  {
   "cell_type": "code",
   "execution_count": null,
   "id": "fdc70da4",
   "metadata": {
    "cellId": "vpc89nr45mhhlrn0klqaq",
    "pycharm": {
     "name": "#%%\n"
    }
   },
   "outputs": [],
   "source": [
    "def bar_progress(current, total, width=80):\n",
    "  progress_message = \"Downloading: %d%% [%d / %d] bytes\" % (current / total * 100, current, total)\n",
    "  # Don't use print() as it will print in new line every time.\n",
    "  sys.stdout.write(\"\\r\" + progress_message)\n",
    "  sys.stdout.flush()"
   ]
  },
  {
   "cell_type": "code",
   "execution_count": 10,
   "id": "ff613524",
   "metadata": {
    "cellId": "von7sj8d2kndc909cmqus",
    "pycharm": {
     "name": "#%%\n"
    }
   },
   "outputs": [
    {
     "name": "stdout",
     "output_type": "stream",
     "text": [
      "Downloading: 100% [640107014 / 640107014] bytes"
     ]
    }
   ],
   "source": [
    "dataset_name = \"Peter's_notes\"\n",
    "out_directory = \"../data/\" + dataset_name\n",
    "\n",
    "if os.path.exists(out_directory):\n",
    "    shutil.rmtree(out_directory)\n",
    "os.makedirs(out_directory)\n",
    "\n",
    "if dataset_name in kaggle_dataset_names.keys():\n",
    "    kaggle.api.dataset_download_files(kaggle_dataset_names[dataset_name],\n",
    "                                      path=out_directory,\n",
    "                                      unzip=True,\n",
    "                                      quiet=False)\n",
    "elif dataset_name in dataset_links.keys():\n",
    "    filename = wget.download(dataset_links[dataset_name], \n",
    "                             out=out_directory, \n",
    "                             bar=bar_progress)\n",
    "    with zipfile.ZipFile(filename, 'r') as zip_ref:\n",
    "        zip_ref.extractall(out_directory)\n",
    "    os.remove(filename)"
   ]
  },
  {
   "cell_type": "markdown",
   "id": "3d33acdf",
   "metadata": {
    "cellId": "w7pi5ym3cesvbzlvthvwdn",
    "pycharm": {
     "name": "#%% md\n"
    }
   },
   "source": [
    "### Обработка данных"
   ]
  },
  {
   "cell_type": "markdown",
   "id": "64c6efa8",
   "metadata": {
    "cellId": "puvg8vd4jlil3yp4cvh8rr",
    "pycharm": {
     "name": "#%% md\n"
    }
   },
   "source": [
    "##### Для handwritten_names:"
   ]
  },
  {
   "cell_type": "code",
   "execution_count": 11,
   "id": "93ea9424",
   "metadata": {
    "cellId": "c3d00bcyuq36dk7zewpfk",
    "pycharm": {
     "name": "#%%\n"
    }
   },
   "outputs": [
    {
     "name": "stdout",
     "output_type": "stream",
     "text": [
      " '-ABCDEFGHIJKLMNOPQRSTUVWXYZ`abcefghilmnoprstuvyz\n",
      "INFO: Success!\n"
     ]
    }
   ],
   "source": [
    "%run main.py --csv_path \"../data/handwritten_names/written_name_train_v2.csv\" --images_dir \"../data/handwritten_names/train_v2/train\""
   ]
  },
  {
   "cell_type": "code",
   "execution_count": 12,
   "id": "0dabde71",
   "metadata": {
    "cellId": "h55ttjjoujwklge1fit1z",
    "pycharm": {
     "name": "#%%\n"
    }
   },
   "outputs": [
    {
     "name": "stdout",
     "output_type": "stream",
     "text": [
      " '-ABCDEFGHIJKLMNOPQRSTUVWXYZagilnoprstu\n",
      "INFO: Success!\n"
     ]
    }
   ],
   "source": [
    "%run main.py --csv_path \"../data/handwritten_names/written_name_validation_v2.csv\" --images_dir \"../data/handwritten_names/validation_v2/validation\""
   ]
  },
  {
   "cell_type": "code",
   "execution_count": 13,
   "id": "e87a758a",
   "metadata": {
    "cellId": "wrz63lwkpc8ierrdvw86w",
    "pycharm": {
     "name": "#%%\n"
    }
   },
   "outputs": [
    {
     "name": "stdout",
     "output_type": "stream",
     "text": [
      " '-ABCDEFGHIJKLMNOPQRSTUVWXYZacdefilorstu\n",
      "INFO: Success!\n"
     ]
    }
   ],
   "source": [
    "%run main.py --csv_path \"../data/handwritten_names/written_name_test_v2.csv\" --images_dir \"../data/handwritten_names/test_v2/test\""
   ]
  },
  {
   "cell_type": "markdown",
   "id": "f5df64d7",
   "metadata": {
    "cellId": "z35upe3p2o3vvqnlbx1hv",
    "pycharm": {
     "name": "#%% md\n"
    }
   },
   "source": [
    "##### Для Peter's_notes:"
   ]
  },
  {
   "cell_type": "code",
   "execution_count": 15,
   "id": "ae70b13c",
   "metadata": {
    "cellId": "cp3n3um58hdpu9gi0mtd2c",
    "pycharm": {
     "name": "#%%\n"
    }
   },
   "outputs": [
    {
     "name": "stdout",
     "output_type": "stream",
     "text": [
      " ()+/0123456789[]abdefghiklmnoprstu|×ǂабвгдежзийклмнопрстуфхцчшщъыьэюяѣ–⊕⊗\n",
      "INFO: Success!\n"
     ]
    }
   ],
   "source": [
    "%run main.py --csv_path \"../data/Peter's_notes/notes.csv\" --images_dir \"../data/Peter's_notes/train/images\" --texts_dir \"../data/Peter's_notes/train/words\" --train_validation_test_split"
   ]
  }
 ],
 "metadata": {
  "kernelspec": {
   "display_name": "Yandex DataSphere Kernel",
   "language": "python",
   "name": "python3"
  },
  "language_info": {
   "codemirror_mode": {
    "name": "ipython",
    "version": 3
   },
   "file_extension": ".py",
   "mimetype": "text/x-python",
   "name": "python",
   "nbconvert_exporter": "python",
   "pygments_lexer": "ipython3",
   "version": "3.7.7"
  },
  "notebookId": "3516edfd-0c52-473d-9c33-1aa9777c75ba",
  "notebookPath": "htr_methods_review/dataset_preparation/prepare_dataset.ipynb"
 },
 "nbformat": 4,
 "nbformat_minor": 5
}