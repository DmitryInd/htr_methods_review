{
 "cells": [
  {
   "cell_type": "code",
   "execution_count": 1,
   "id": "0ea74d73",
   "metadata": {
    "cellId": "82uqltpcs2s28ccmfnk7m5h",
    "pycharm": {
     "name": "#%%\n"
    }
   },
   "outputs": [
    {
     "name": "stdout",
     "output_type": "stream",
     "text": [
      "Defaulting to user installation because normal site-packages is not writeable\n",
      "Requirement already satisfied: kaggle in /usr/local/lib/python3.7/dist-packages (1.5.8)\n",
      "Requirement already satisfied: python-dateutil in /kernel/lib/python3.7/site-packages (from kaggle) (2.8.2)\n",
      "Requirement already satisfied: python-slugify in /usr/local/lib/python3.7/dist-packages (from kaggle) (5.0.2)\n",
      "Requirement already satisfied: slugify in /usr/local/lib/python3.7/dist-packages (from kaggle) (0.0.1)\n",
      "Requirement already satisfied: requests in /kernel/lib/python3.7/site-packages (from kaggle) (2.25.1)\n",
      "Requirement already satisfied: tqdm in /usr/local/lib/python3.7/dist-packages (from kaggle) (4.50.0)\n",
      "Requirement already satisfied: six>=1.10 in /kernel/lib/python3.7/site-packages (from kaggle) (1.16.0)\n",
      "Collecting urllib3<1.25,>=1.21.1\n",
      "  Downloading urllib3-1.24.3-py2.py3-none-any.whl (118 kB)\n",
      "\u001b[K     |████████████████████████████████| 118 kB 1.6 MB/s \n",
      "\u001b[?25hRequirement already satisfied: certifi in /kernel/lib/python3.7/site-packages (from kaggle) (2021.10.8)\n",
      "Requirement already satisfied: text-unidecode>=1.3 in /usr/local/lib/python3.7/dist-packages (from python-slugify->kaggle) (1.3)\n",
      "Requirement already satisfied: chardet<5,>=3.0.2 in /kernel/lib/python3.7/site-packages (from requests->kaggle) (4.0.0)\n",
      "Requirement already satisfied: idna<3,>=2.5 in /kernel/lib/python3.7/site-packages (from requests->kaggle) (2.10)\n",
      "Installing collected packages: urllib3\n",
      "\u001b[31mERROR: pip's dependency resolver does not currently take into account all the packages that are installed. This behaviour is the source of the following dependency conflicts.\n",
      "spacy 3.1.1 requires typing-extensions<4.0.0.0,>=3.7.4; python_version < \"3.8\", but you have typing-extensions 4.1.1 which is incompatible.\n",
      "moto 1.3.14 requires idna<2.9,>=2.5, but you have idna 2.10 which is incompatible.\n",
      "aws-sam-translator 1.38.0 requires jsonschema~=3.2, but you have jsonschema 4.4.0 which is incompatible.\u001b[0m\n",
      "Successfully installed urllib3-1.24.3\n",
      "\u001b[33mWARNING: You are using pip version 21.0.1; however, version 22.0.4 is available.\n",
      "You should consider upgrading via the '/usr/local/bin/python3 -m pip install --upgrade pip' command.\u001b[0m\n",
      "Defaulting to user installation because normal site-packages is not writeable\n",
      "Requirement already satisfied: wget in /usr/local/lib/python3.7/dist-packages (3.2)\n",
      "\u001b[33mWARNING: You are using pip version 21.0.1; however, version 22.0.4 is available.\n",
      "You should consider upgrading via the '/usr/local/bin/python3 -m pip install --upgrade pip' command.\u001b[0m\n"
     ]
    }
   ],
   "source": [
    "%pip install kaggle\n",
    "%pip install wget"
   ]
  },
  {
   "cell_type": "code",
   "execution_count": 3,
   "id": "a1e3724a",
   "metadata": {
    "cellId": "14qd7ru8388kl1xws6od9",
    "collapsed": false,
    "jupyter": {
     "outputs_hidden": false
    },
    "pycharm": {
     "name": "#%%\n"
    }
   },
   "outputs": [],
   "source": [
    "%load_ext autoreload\n",
    "%autoreload 2"
   ]
  },
  {
   "cell_type": "code",
   "execution_count": 2,
   "id": "ea337801",
   "metadata": {
    "cellId": "emk7ni6w0kqdsc34ms1wy9",
    "pycharm": {
     "name": "#%%\n"
    }
   },
   "outputs": [],
   "source": [
    "kaggle_dataset_names = {\n",
    "    \"handwritten_names\": \"landlord/handwriting-recognition\",\n",
    "    \"cyrillic_texts\": \"constantinwerner/cyrillic-handwriting-dataset\"\n",
    "}\n",
    "dataset_links = {\n",
    "    \"Peter's_notes\": \"https://drive.google.com/u/0/uc?id=1Qki21iEcg_iwMo3kWuaHi5AlxxpLKpof&export=download&confirm=t\"\n",
    "}"
   ]
  },
  {
   "cell_type": "markdown",
   "id": "e4e3700e",
   "metadata": {
    "cellId": "cmkuhcg6p67vwm9d0mxuj9",
    "pycharm": {
     "name": "#%% md\n"
    }
   },
   "source": [
    "### Загрузка данных"
   ]
  },
  {
   "cell_type": "code",
   "execution_count": 4,
   "id": "f8fe7cfe",
   "metadata": {
    "cellId": "cpqp2rqifdfau5zpoywltj",
    "pycharm": {
     "name": "#%%\n"
    }
   },
   "outputs": [],
   "source": [
    "import os\n",
    "import sys\n",
    "import wget\n",
    "import zipfile\n",
    "import shutil"
   ]
  },
  {
   "cell_type": "code",
   "execution_count": 5,
   "id": "e7e4110c",
   "metadata": {
    "cellId": "z3krqgayx2d9jzfx0iugn",
    "pycharm": {
     "name": "#%%\n"
    }
   },
   "outputs": [],
   "source": [
    "os.environ['KAGGLE_USERNAME'] = \"indenbomdmitry\"\n",
    "os.environ['KAGGLE_KEY'] = \"d71056824e379aa1756815ce2a658476\"\n",
    "import kaggle"
   ]
  },
  {
   "cell_type": "code",
   "execution_count": 6,
   "id": "83abe850",
   "metadata": {
    "cellId": "vpc89nr45mhhlrn0klqaq",
    "pycharm": {
     "name": "#%%\n"
    }
   },
   "outputs": [],
   "source": [
    "def bar_progress(current, total, width=80):\n",
    "  progress_message = \"Downloading: %d%% [%d / %d] bytes\" % (current / total * 100, current, total)\n",
    "  # Don't use print() as it will print in new line every time.\n",
    "  sys.stdout.write(\"\\r\" + progress_message)\n",
    "  sys.stdout.flush()"
   ]
  },
  {
   "cell_type": "code",
   "execution_count": 7,
   "id": "12cd7661",
   "metadata": {
    "cellId": "von7sj8d2kndc909cmqus",
    "pycharm": {
     "name": "#%%\n"
    }
   },
   "outputs": [
    {
     "name": "stdout",
     "output_type": "stream",
     "text": [
      "Downloading cyrillic-handwriting-dataset.zip to ../data/cyrillic_texts\n",
      "\n"
     ]
    },
    {
     "name": "stderr",
     "output_type": "stream",
     "text": [
      "100%|██████████| 501M/501M [00:10<00:00, 48.6MB/s]\n"
     ]
    }
   ],
   "source": [
    "dataset_name = \"cyrillic_texts\"\n",
    "out_directory = \"../data/\" + dataset_name\n",
    "\n",
    "if os.path.exists(out_directory):\n",
    "    shutil.rmtree(out_directory)\n",
    "os.makedirs(out_directory)\n",
    "\n",
    "if dataset_name in kaggle_dataset_names.keys():\n",
    "    kaggle.api.dataset_download_files(kaggle_dataset_names[dataset_name],\n",
    "                                      path=out_directory,\n",
    "                                      unzip=True,\n",
    "                                      quiet=False)\n",
    "elif dataset_name in dataset_links.keys():\n",
    "    filename = wget.download(dataset_links[dataset_name], \n",
    "                             out=out_directory, \n",
    "                             bar=bar_progress)\n",
    "    with zipfile.ZipFile(filename, 'r') as zip_ref:\n",
    "        zip_ref.extractall(out_directory)\n",
    "    os.remove(filename)"
   ]
  },
  {
   "cell_type": "markdown",
   "id": "53faf8f2",
   "metadata": {
    "cellId": "w7pi5ym3cesvbzlvthvwdn",
    "pycharm": {
     "name": "#%% md\n"
    }
   },
   "source": [
    "### Обработка данных"
   ]
  },
  {
   "cell_type": "markdown",
   "id": "b5dd684f",
   "metadata": {
    "cellId": "puvg8vd4jlil3yp4cvh8rr",
    "pycharm": {
     "name": "#%% md\n"
    }
   },
   "source": [
    "##### Для handwritten_names:"
   ]
  },
  {
   "cell_type": "code",
   "execution_count": 8,
   "id": "1631dc9a",
   "metadata": {
    "cellId": "c3d00bcyuq36dk7zewpfk",
    "pycharm": {
     "name": "#%%\n"
    }
   },
   "outputs": [
    {
     "name": "stdout",
     "output_type": "stream",
     "text": [
      " '-ABCDEFGHIJKLMNOPQRSTUVWXYZ`abcefghilmnoprstuvyz\n",
      "INFO: Success!\n"
     ]
    }
   ],
   "source": [
    "%run main.py --csv_path \"../data/handwritten_names/written_name_train_v2.csv\" --images_dir \"../data/handwritten_names/train_v2/train\""
   ]
  },
  {
   "cell_type": "code",
   "execution_count": 9,
   "id": "35718bfb",
   "metadata": {
    "cellId": "h55ttjjoujwklge1fit1z",
    "pycharm": {
     "name": "#%%\n"
    }
   },
   "outputs": [
    {
     "name": "stdout",
     "output_type": "stream",
     "text": [
      " '-ABCDEFGHIJKLMNOPQRSTUVWXYZagilnoprstu\n",
      "INFO: Success!\n"
     ]
    }
   ],
   "source": [
    "%run main.py --csv_path \"../data/handwritten_names/written_name_validation_v2.csv\" --images_dir \"../data/handwritten_names/validation_v2/validation\""
   ]
  },
  {
   "cell_type": "code",
   "execution_count": 10,
   "id": "a98a0be5",
   "metadata": {
    "cellId": "wrz63lwkpc8ierrdvw86w",
    "pycharm": {
     "name": "#%%\n"
    }
   },
   "outputs": [
    {
     "name": "stdout",
     "output_type": "stream",
     "text": [
      " '-ABCDEFGHIJKLMNOPQRSTUVWXYZacdefilorstu\n",
      "INFO: Success!\n"
     ]
    }
   ],
   "source": [
    "%run main.py --csv_path \"../data/handwritten_names/written_name_test_v2.csv\" --images_dir \"../data/handwritten_names/test_v2/test\""
   ]
  },
  {
   "cell_type": "markdown",
   "id": "20afba40",
   "metadata": {
    "cellId": "z35upe3p2o3vvqnlbx1hv",
    "pycharm": {
     "name": "#%% md\n"
    }
   },
   "source": [
    "##### Для Peter's_notes:"
   ]
  },
  {
   "cell_type": "code",
   "execution_count": 11,
   "id": "6311fea1",
   "metadata": {
    "cellId": "cp3n3um58hdpu9gi0mtd2c",
    "pycharm": {
     "name": "#%%\n"
    }
   },
   "outputs": [
    {
     "name": "stdout",
     "output_type": "stream",
     "text": [
      " ()+/0123456789[]abdefghiklmnoprstu|×ǂабвгдежзийклмнопрстуфхцчшщъыьэюяѣ–⊕⊗\n",
      "INFO: Success!\n"
     ]
    }
   ],
   "source": [
    "%run main.py --csv_path \"../data/Peter's_notes/notes.csv\" --images_dir \"../data/Peter's_notes/train/images\" --texts_dir \"../data/Peter's_notes/train/words\" --train_validation_test_split"
   ]
  },
  {
   "cell_type": "markdown",
   "id": "296254b1",
   "metadata": {
    "cellId": "rpc2b2nfossew0j5nafm7n",
    "pycharm": {
     "name": "#%% md\n"
    }
   },
   "source": [
    "##### Для cyrillic_texts"
   ]
  },
  {
   "cell_type": "code",
   "execution_count": 12,
   "id": "c2265f19",
   "metadata": {
    "cellId": "lfxmzzezza9hgx5mejwai8",
    "collapsed": false,
    "jupyter": {
     "outputs_hidden": false
    },
    "pycharm": {
     "name": "#%%\n"
    }
   },
   "outputs": [
    {
     "name": "stdout",
     "output_type": "stream",
     "text": [
      "\t\n",
      " !\"%(),-./0123456789:;?[]abgnpvx«»АБВГДЕЖЗИЙКЛМНОПРСТУФХЦЧШЩЭЮЯабвгдежзийклмнопрстуфхцчшщъыьэюяё\n",
      "INFO: Success!\n"
     ]
    }
   ],
   "source": [
    "%run main.py --csv_path \"../data/cyrillic_texts/train.tsv\" --delimiter \"\\t\" --images_dir \"../data/cyrillic_texts/train\""
   ]
  },
  {
   "cell_type": "code",
   "execution_count": 13,
   "id": "10a8bd5d",
   "metadata": {
    "cellId": "1m96qnt0dvqbz6hameuq8e",
    "collapsed": false,
    "jupyter": {
     "outputs_hidden": false
    },
    "pycharm": {
     "name": "#%%\n"
    }
   },
   "outputs": [
    {
     "name": "stdout",
     "output_type": "stream",
     "text": [
      " (),-./0123456789:АБВГДЕЖЗИЙКЛМНОПРСТУФХЧШЭЮЯабвгдежзийклмнопрстуфхцчшщъыьэюяё\n",
      "INFO: Success!\n"
     ]
    }
   ],
   "source": [
    "%run main.py --csv_path \"../data/cyrillic_texts/test.tsv\" --delimiter \"\\t\" --images_dir \"../data/cyrillic_texts/test\""
   ]
  }
 ],
 "metadata": {
  "kernelspec": {
   "display_name": "Yandex DataSphere Kernel",
   "language": "python",
   "name": "python3"
  },
  "language_info": {
   "codemirror_mode": {
    "name": "ipython",
    "version": 3
   },
   "file_extension": ".py",
   "mimetype": "text/x-python",
   "name": "python",
   "nbconvert_exporter": "python",
   "pygments_lexer": "ipython3",
   "version": "3.7.7"
  },
  "notebookId": "3516edfd-0c52-473d-9c33-1aa9777c75ba",
  "notebookPath": "htr_methods_review/dataset_preparation/prepare_dataset.ipynb"
 },
 "nbformat": 4,
 "nbformat_minor": 5
}
