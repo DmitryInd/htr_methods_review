{
 "cells": [
  {
   "cell_type": "code",
   "execution_count": 1,
   "id": "04672ec6",
   "metadata": {
    "cellId": "82uqltpcs2s28ccmfnk7m5h",
    "pycharm": {
     "name": "#%%\n"
    }
   },
   "outputs": [
    {
     "name": "stdout",
     "output_type": "stream",
     "text": [
      "Collecting kaggleNote: you may need to restart the kernel to use updated packages.\n",
      "\n",
      "  Downloading kaggle-1.5.12.tar.gz (58 kB)\n",
      "Requirement already satisfied: six>=1.10 in c:\\programdata\\anaconda3\\lib\\site-packages (from kaggle) (1.16.0)\n",
      "Requirement already satisfied: certifi in c:\\programdata\\anaconda3\\lib\\site-packages (from kaggle) (2021.10.8)\n",
      "Requirement already satisfied: python-dateutil in c:\\programdata\\anaconda3\\lib\\site-packages (from kaggle) (2.8.2)\n",
      "Requirement already satisfied: requests in c:\\programdata\\anaconda3\\lib\\site-packages (from kaggle) (2.26.0)\n",
      "Requirement already satisfied: tqdm in c:\\programdata\\anaconda3\\lib\\site-packages (from kaggle) (4.62.3)\n",
      "Collecting python-slugify\n",
      "  Downloading python_slugify-6.1.1-py2.py3-none-any.whl (9.1 kB)\n",
      "Requirement already satisfied: urllib3 in c:\\programdata\\anaconda3\\lib\\site-packages (from kaggle) (1.26.7)\n",
      "Collecting text-unidecode>=1.3\n",
      "  Downloading text_unidecode-1.3-py2.py3-none-any.whl (78 kB)\n",
      "Requirement already satisfied: idna<4,>=2.5 in c:\\programdata\\anaconda3\\lib\\site-packages (from requests->kaggle) (2.10)\n",
      "Requirement already satisfied: charset-normalizer~=2.0.0 in c:\\programdata\\anaconda3\\lib\\site-packages (from requests->kaggle) (2.0.4)\n",
      "Requirement already satisfied: colorama in c:\\programdata\\anaconda3\\lib\\site-packages (from tqdm->kaggle) (0.4.4)\n",
      "Building wheels for collected packages: kaggle\n",
      "  Building wheel for kaggle (setup.py): started\n",
      "  Building wheel for kaggle (setup.py): finished with status 'done'\n",
      "  Created wheel for kaggle: filename=kaggle-1.5.12-py3-none-any.whl size=73051 sha256=b708a6a17eb34d64913322cad7a0e9ff5c265ba937165f8c7c86b44ddb221649\n",
      "  Stored in directory: c:\\users\\dmitry-indenbom\\appdata\\local\\pip\\cache\\wheels\\62\\d6\\58\\5853130f941e75b2177d281eb7e44b4a98ed46dd155f556dc5\n",
      "Successfully built kaggle\n",
      "Installing collected packages: text-unidecode, python-slugify, kaggle\n",
      "Successfully installed kaggle-1.5.12 python-slugify-6.1.1 text-unidecode-1.3\n",
      "Collecting wget\n",
      "  Downloading wget-3.2.zip (10 kB)\n",
      "Building wheels for collected packages: wget\n",
      "  Building wheel for wget (setup.py): started\n",
      "  Building wheel for wget (setup.py): finished with status 'done'\n",
      "  Created wheel for wget: filename=wget-3.2-py3-none-any.whl size=9672 sha256=043b3a761c87bf265c7798be109a04895527721bff3d225833c090251a059d12\n",
      "  Stored in directory: c:\\users\\dmitry-indenbom\\appdata\\local\\pip\\cache\\wheels\\a1\\b6\\7c\\0e63e34eb06634181c63adacca38b79ff8f35c37e3c13e3c02\n",
      "Successfully built wget\n",
      "Installing collected packages: wget\n",
      "Successfully installed wget-3.2\n",
      "Note: you may need to restart the kernel to use updated packages.\n"
     ]
    }
   ],
   "source": [
    "%pip install kaggle\n",
    "%pip install wget"
   ]
  },
  {
   "cell_type": "code",
   "execution_count": 2,
   "outputs": [],
   "source": [
    "%load_ext autoreload\n",
    "%autoreload 2"
   ],
   "metadata": {
    "collapsed": false,
    "pycharm": {
     "name": "#%%\n"
    }
   }
  },
  {
   "cell_type": "code",
   "execution_count": 3,
   "id": "33c62b72",
   "metadata": {
    "cellId": "emk7ni6w0kqdsc34ms1wy9",
    "pycharm": {
     "name": "#%%\n"
    }
   },
   "outputs": [],
   "source": [
    "kaggle_dataset_names = {\n",
    "    \"handwritten_names\": \"landlord/handwriting-recognition\",\n",
    "    \"cyrillic_texts\": \"constantinwerner/cyrillic-handwriting-dataset\"\n",
    "}\n",
    "dataset_links = {\n",
    "    \"Peter's_notes\": \"https://drive.google.com/u/0/uc?id=1Qki21iEcg_iwMo3kWuaHi5AlxxpLKpof&export=download&confirm=t\"\n",
    "}"
   ]
  },
  {
   "cell_type": "markdown",
   "id": "aa8cca34",
   "metadata": {
    "cellId": "cmkuhcg6p67vwm9d0mxuj9",
    "pycharm": {
     "name": "#%% md\n"
    }
   },
   "source": [
    "### Загрузка данных"
   ]
  },
  {
   "cell_type": "code",
   "execution_count": 4,
   "id": "81f58cd4",
   "metadata": {
    "cellId": "cpqp2rqifdfau5zpoywltj",
    "pycharm": {
     "name": "#%%\n"
    }
   },
   "outputs": [],
   "source": [
    "import os\n",
    "import sys\n",
    "import wget\n",
    "import zipfile\n",
    "import shutil"
   ]
  },
  {
   "cell_type": "code",
   "execution_count": 5,
   "id": "92aaf693",
   "metadata": {
    "cellId": "z3krqgayx2d9jzfx0iugn",
    "pycharm": {
     "name": "#%%\n"
    }
   },
   "outputs": [],
   "source": [
    "os.environ['KAGGLE_USERNAME'] = \"indenbomdmitry\"\n",
    "os.environ['KAGGLE_KEY'] = \"d71056824e379aa1756815ce2a658476\"\n",
    "import kaggle"
   ]
  },
  {
   "cell_type": "code",
   "execution_count": 6,
   "id": "fdc70da4",
   "metadata": {
    "cellId": "vpc89nr45mhhlrn0klqaq",
    "pycharm": {
     "name": "#%%\n"
    }
   },
   "outputs": [],
   "source": [
    "def bar_progress(current, total, width=80):\n",
    "  progress_message = \"Downloading: %d%% [%d / %d] bytes\" % (current / total * 100, current, total)\n",
    "  # Don't use print() as it will print in new line every time.\n",
    "  sys.stdout.write(\"\\r\" + progress_message)\n",
    "  sys.stdout.flush()"
   ]
  },
  {
   "cell_type": "code",
   "execution_count": 7,
   "id": "ff613524",
   "metadata": {
    "cellId": "von7sj8d2kndc909cmqus",
    "pycharm": {
     "name": "#%%\n"
    }
   },
   "outputs": [
    {
     "name": "stdout",
     "output_type": "stream",
     "text": [
      "Downloading cyrillic-handwriting-dataset.zip to ../data/cyrillic_texts\n"
     ]
    },
    {
     "name": "stderr",
     "output_type": "stream",
     "text": [
      "100%|██████████| 501M/501M [00:38<00:00, 13.8MB/s] "
     ]
    },
    {
     "name": "stdout",
     "output_type": "stream",
     "text": [
      "\n"
     ]
    },
    {
     "name": "stderr",
     "output_type": "stream",
     "text": [
      "\n"
     ]
    }
   ],
   "source": [
    "dataset_name = \"cyrillic_texts\"\n",
    "out_directory = \"../data/\" + dataset_name\n",
    "\n",
    "if os.path.exists(out_directory):\n",
    "    shutil.rmtree(out_directory)\n",
    "os.makedirs(out_directory)\n",
    "\n",
    "if dataset_name in kaggle_dataset_names.keys():\n",
    "    kaggle.api.dataset_download_files(kaggle_dataset_names[dataset_name],\n",
    "                                      path=out_directory,\n",
    "                                      unzip=True,\n",
    "                                      quiet=False)\n",
    "elif dataset_name in dataset_links.keys():\n",
    "    filename = wget.download(dataset_links[dataset_name], \n",
    "                             out=out_directory, \n",
    "                             bar=bar_progress)\n",
    "    with zipfile.ZipFile(filename, 'r') as zip_ref:\n",
    "        zip_ref.extractall(out_directory)\n",
    "    os.remove(filename)"
   ]
  },
  {
   "cell_type": "markdown",
   "id": "3d33acdf",
   "metadata": {
    "cellId": "w7pi5ym3cesvbzlvthvwdn",
    "pycharm": {
     "name": "#%% md\n"
    }
   },
   "source": [
    "### Обработка данных"
   ]
  },
  {
   "cell_type": "markdown",
   "id": "64c6efa8",
   "metadata": {
    "cellId": "puvg8vd4jlil3yp4cvh8rr",
    "pycharm": {
     "name": "#%% md\n"
    }
   },
   "source": [
    "##### Для handwritten_names:"
   ]
  },
  {
   "cell_type": "code",
   "execution_count": 11,
   "id": "93ea9424",
   "metadata": {
    "cellId": "c3d00bcyuq36dk7zewpfk",
    "pycharm": {
     "name": "#%%\n"
    }
   },
   "outputs": [
    {
     "name": "stdout",
     "output_type": "stream",
     "text": [
      " '-ABCDEFGHIJKLMNOPQRSTUVWXYZ`abcefghilmnoprstuvyz\n",
      "INFO: Success!\n"
     ]
    }
   ],
   "source": [
    "%run main.py --csv_path \"../data/handwritten_names/written_name_train_v2.csv\" --images_dir \"../data/handwritten_names/train_v2/train\""
   ]
  },
  {
   "cell_type": "code",
   "execution_count": 12,
   "id": "0dabde71",
   "metadata": {
    "cellId": "h55ttjjoujwklge1fit1z",
    "pycharm": {
     "name": "#%%\n"
    }
   },
   "outputs": [
    {
     "name": "stdout",
     "output_type": "stream",
     "text": [
      " '-ABCDEFGHIJKLMNOPQRSTUVWXYZagilnoprstu\n",
      "INFO: Success!\n"
     ]
    }
   ],
   "source": [
    "%run main.py --csv_path \"../data/handwritten_names/written_name_validation_v2.csv\" --images_dir \"../data/handwritten_names/validation_v2/validation\""
   ]
  },
  {
   "cell_type": "code",
   "execution_count": 13,
   "id": "e87a758a",
   "metadata": {
    "cellId": "wrz63lwkpc8ierrdvw86w",
    "pycharm": {
     "name": "#%%\n"
    }
   },
   "outputs": [
    {
     "name": "stdout",
     "output_type": "stream",
     "text": [
      " '-ABCDEFGHIJKLMNOPQRSTUVWXYZacdefilorstu\n",
      "INFO: Success!\n"
     ]
    }
   ],
   "source": [
    "%run main.py --csv_path \"../data/handwritten_names/written_name_test_v2.csv\" --images_dir \"../data/handwritten_names/test_v2/test\""
   ]
  },
  {
   "cell_type": "markdown",
   "id": "f5df64d7",
   "metadata": {
    "cellId": "z35upe3p2o3vvqnlbx1hv",
    "pycharm": {
     "name": "#%% md\n"
    }
   },
   "source": [
    "##### Для Peter's_notes:"
   ]
  },
  {
   "cell_type": "code",
   "execution_count": 15,
   "id": "ae70b13c",
   "metadata": {
    "cellId": "cp3n3um58hdpu9gi0mtd2c",
    "pycharm": {
     "name": "#%%\n"
    }
   },
   "outputs": [
    {
     "name": "stdout",
     "output_type": "stream",
     "text": [
      " ()+/0123456789[]abdefghiklmnoprstu|×ǂабвгдежзийклмнопрстуфхцчшщъыьэюяѣ–⊕⊗\n",
      "INFO: Success!\n"
     ]
    }
   ],
   "source": [
    "%run main.py --csv_path \"../data/Peter's_notes/notes.csv\" --images_dir \"../data/Peter's_notes/train/images\" --texts_dir \"../data/Peter's_notes/train/words\" --train_validation_test_split"
   ]
  },
  {
   "cell_type": "markdown",
   "source": [
    "##### Для cyrillic_texts"
   ],
   "metadata": {
    "collapsed": false,
    "pycharm": {
     "name": "#%% md\n"
    }
   }
  },
  {
   "cell_type": "code",
   "execution_count": 8,
   "outputs": [
    {
     "name": "stdout",
     "output_type": "stream",
     "text": [
      "\t\n",
      " !\"%(),-./0123456789:;?[]abgnpvx«»АБВГДЕЖЗИЙКЛМНОПРСТУФХЦЧШЩЭЮЯабвгдежзийклмнопрстуфхцчшщъыьэюяё\n",
      "INFO: Success!\n"
     ]
    }
   ],
   "source": [
    "%run main.py --csv_path \"../data/cyrillic_texts/train.tsv\" --delimiter \"\\t\" --images_dir \"../data/cyrillic_texts/train\""
   ],
   "metadata": {
    "collapsed": false,
    "pycharm": {
     "name": "#%%\n"
    }
   }
  },
  {
   "cell_type": "code",
   "execution_count": 9,
   "outputs": [
    {
     "name": "stdout",
     "output_type": "stream",
     "text": [
      " (),-./0123456789:АБВГДЕЖЗИЙКЛМНОПРСТУФХЧШЭЮЯабвгдежзийклмнопрстуфхцчшщъыьэюяё\n",
      "INFO: Success!\n"
     ]
    }
   ],
   "source": [
    "%run main.py --csv_path \"../data/cyrillic_texts/test.tsv\" --delimiter \"\\t\" --images_dir \"../data/cyrillic_texts/test\""
   ],
   "metadata": {
    "collapsed": false,
    "pycharm": {
     "name": "#%%\n"
    }
   }
  }
 ],
 "metadata": {
  "kernelspec": {
   "display_name": "Yandex DataSphere Kernel",
   "language": "python",
   "name": "python3"
  },
  "language_info": {
   "codemirror_mode": {
    "name": "ipython",
    "version": 3
   },
   "file_extension": ".py",
   "mimetype": "text/x-python",
   "name": "python",
   "nbconvert_exporter": "python",
   "pygments_lexer": "ipython3",
   "version": "3.7.7"
  },
  "notebookId": "3516edfd-0c52-473d-9c33-1aa9777c75ba",
  "notebookPath": "htr_methods_review/dataset_preparation/prepare_dataset.ipynb"
 },
 "nbformat": 4,
 "nbformat_minor": 5
}